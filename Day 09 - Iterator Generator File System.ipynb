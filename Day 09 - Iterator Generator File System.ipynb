{
 "cells": [
  {
   "cell_type": "code",
   "execution_count": 1,
   "id": "0c75b1b9",
   "metadata": {},
   "outputs": [],
   "source": [
    "l = [1,2,3,4,5]"
   ]
  },
  {
   "cell_type": "code",
   "execution_count": 2,
   "id": "1f666cbf",
   "metadata": {},
   "outputs": [
    {
     "ename": "TypeError",
     "evalue": "'list' object is not an iterator",
     "output_type": "error",
     "traceback": [
      "\u001b[1;31m---------------------------------------------------------------------------\u001b[0m",
      "\u001b[1;31mTypeError\u001b[0m                                 Traceback (most recent call last)",
      "Input \u001b[1;32mIn [2]\u001b[0m, in \u001b[0;36m<cell line: 1>\u001b[1;34m()\u001b[0m\n\u001b[1;32m----> 1\u001b[0m \u001b[38;5;28;43mnext\u001b[39;49m\u001b[43m(\u001b[49m\u001b[43ml\u001b[49m\u001b[43m)\u001b[49m\n",
      "\u001b[1;31mTypeError\u001b[0m: 'list' object is not an iterator"
     ]
    }
   ],
   "source": [
    "next(l)"
   ]
  },
  {
   "cell_type": "code",
   "execution_count": 3,
   "id": "7919c2b9",
   "metadata": {},
   "outputs": [],
   "source": [
    "l = iter(l)"
   ]
  },
  {
   "cell_type": "code",
   "execution_count": 4,
   "id": "ed9ab3a1",
   "metadata": {},
   "outputs": [
    {
     "data": {
      "text/plain": [
       "1"
      ]
     },
     "execution_count": 4,
     "metadata": {},
     "output_type": "execute_result"
    }
   ],
   "source": [
    "next(l)"
   ]
  },
  {
   "cell_type": "code",
   "execution_count": 5,
   "id": "5ae0eb72",
   "metadata": {},
   "outputs": [
    {
     "data": {
      "text/plain": [
       "2"
      ]
     },
     "execution_count": 5,
     "metadata": {},
     "output_type": "execute_result"
    }
   ],
   "source": [
    "next(l)"
   ]
  },
  {
   "cell_type": "code",
   "execution_count": 6,
   "id": "f2059eac",
   "metadata": {},
   "outputs": [
    {
     "data": {
      "text/plain": [
       "3"
      ]
     },
     "execution_count": 6,
     "metadata": {},
     "output_type": "execute_result"
    }
   ],
   "source": [
    "next(l)"
   ]
  },
  {
   "cell_type": "code",
   "execution_count": 7,
   "id": "bb5d41fd",
   "metadata": {},
   "outputs": [
    {
     "data": {
      "text/plain": [
       "4"
      ]
     },
     "execution_count": 7,
     "metadata": {},
     "output_type": "execute_result"
    }
   ],
   "source": [
    "next(l)"
   ]
  },
  {
   "cell_type": "code",
   "execution_count": 8,
   "id": "71af4735",
   "metadata": {},
   "outputs": [
    {
     "data": {
      "text/plain": [
       "5"
      ]
     },
     "execution_count": 8,
     "metadata": {},
     "output_type": "execute_result"
    }
   ],
   "source": [
    "next(l)"
   ]
  },
  {
   "cell_type": "code",
   "execution_count": 13,
   "id": "2ccad163",
   "metadata": {},
   "outputs": [
    {
     "ename": "StopIteration",
     "evalue": "",
     "output_type": "error",
     "traceback": [
      "\u001b[1;31m---------------------------------------------------------------------------\u001b[0m",
      "\u001b[1;31mStopIteration\u001b[0m                             Traceback (most recent call last)",
      "Input \u001b[1;32mIn [13]\u001b[0m, in \u001b[0;36m<cell line: 1>\u001b[1;34m()\u001b[0m\n\u001b[1;32m----> 1\u001b[0m \u001b[38;5;28;43mnext\u001b[39;49m\u001b[43m(\u001b[49m\u001b[43ml\u001b[49m\u001b[43m)\u001b[49m\n",
      "\u001b[1;31mStopIteration\u001b[0m: "
     ]
    }
   ],
   "source": [
    "next(l)"
   ]
  },
  {
   "cell_type": "code",
   "execution_count": 14,
   "id": "3253b8a7",
   "metadata": {},
   "outputs": [],
   "source": [
    "a = 56"
   ]
  },
  {
   "cell_type": "code",
   "execution_count": 15,
   "id": "739c839b",
   "metadata": {},
   "outputs": [
    {
     "ename": "TypeError",
     "evalue": "'int' object is not an iterator",
     "output_type": "error",
     "traceback": [
      "\u001b[1;31m---------------------------------------------------------------------------\u001b[0m",
      "\u001b[1;31mTypeError\u001b[0m                                 Traceback (most recent call last)",
      "Input \u001b[1;32mIn [15]\u001b[0m, in \u001b[0;36m<cell line: 1>\u001b[1;34m()\u001b[0m\n\u001b[1;32m----> 1\u001b[0m \u001b[38;5;28;43mnext\u001b[39;49m\u001b[43m(\u001b[49m\u001b[43ma\u001b[49m\u001b[43m)\u001b[49m\n",
      "\u001b[1;31mTypeError\u001b[0m: 'int' object is not an iterator"
     ]
    }
   ],
   "source": [
    "next(a)"
   ]
  },
  {
   "cell_type": "code",
   "execution_count": 16,
   "id": "af71ad9a",
   "metadata": {},
   "outputs": [
    {
     "ename": "TypeError",
     "evalue": "'int' object is not iterable",
     "output_type": "error",
     "traceback": [
      "\u001b[1;31m---------------------------------------------------------------------------\u001b[0m",
      "\u001b[1;31mTypeError\u001b[0m                                 Traceback (most recent call last)",
      "Input \u001b[1;32mIn [16]\u001b[0m, in \u001b[0;36m<cell line: 1>\u001b[1;34m()\u001b[0m\n\u001b[1;32m----> 1\u001b[0m a \u001b[38;5;241m=\u001b[39m \u001b[38;5;28;43miter\u001b[39;49m\u001b[43m(\u001b[49m\u001b[43ma\u001b[49m\u001b[43m)\u001b[49m\n",
      "\u001b[1;31mTypeError\u001b[0m: 'int' object is not iterable"
     ]
    }
   ],
   "source": [
    "a = iter(a)"
   ]
  },
  {
   "cell_type": "code",
   "execution_count": 17,
   "id": "2169bed4",
   "metadata": {},
   "outputs": [],
   "source": [
    "t = (5,6,7,8)"
   ]
  },
  {
   "cell_type": "code",
   "execution_count": 18,
   "id": "2eba959f",
   "metadata": {},
   "outputs": [
    {
     "ename": "TypeError",
     "evalue": "'tuple' object is not an iterator",
     "output_type": "error",
     "traceback": [
      "\u001b[1;31m---------------------------------------------------------------------------\u001b[0m",
      "\u001b[1;31mTypeError\u001b[0m                                 Traceback (most recent call last)",
      "Input \u001b[1;32mIn [18]\u001b[0m, in \u001b[0;36m<cell line: 1>\u001b[1;34m()\u001b[0m\n\u001b[1;32m----> 1\u001b[0m \u001b[38;5;28;43mnext\u001b[39;49m\u001b[43m(\u001b[49m\u001b[43mt\u001b[49m\u001b[43m)\u001b[49m\n",
      "\u001b[1;31mTypeError\u001b[0m: 'tuple' object is not an iterator"
     ]
    }
   ],
   "source": [
    "next(t)"
   ]
  },
  {
   "cell_type": "code",
   "execution_count": 19,
   "id": "82639b4b",
   "metadata": {},
   "outputs": [],
   "source": [
    "t = iter(t)"
   ]
  },
  {
   "cell_type": "code",
   "execution_count": 20,
   "id": "b5dd3d4a",
   "metadata": {},
   "outputs": [
    {
     "data": {
      "text/plain": [
       "5"
      ]
     },
     "execution_count": 20,
     "metadata": {},
     "output_type": "execute_result"
    }
   ],
   "source": [
    "next(t)"
   ]
  },
  {
   "cell_type": "code",
   "execution_count": 21,
   "id": "ac0d1737",
   "metadata": {},
   "outputs": [
    {
     "data": {
      "text/plain": [
       "6"
      ]
     },
     "execution_count": 21,
     "metadata": {},
     "output_type": "execute_result"
    }
   ],
   "source": [
    "next(t)"
   ]
  },
  {
   "cell_type": "code",
   "execution_count": 22,
   "id": "74323a46",
   "metadata": {},
   "outputs": [
    {
     "data": {
      "text/plain": [
       "7"
      ]
     },
     "execution_count": 22,
     "metadata": {},
     "output_type": "execute_result"
    }
   ],
   "source": [
    "next(t)"
   ]
  },
  {
   "cell_type": "code",
   "execution_count": 23,
   "id": "ea84ebcd",
   "metadata": {},
   "outputs": [],
   "source": [
    "r = range(6)"
   ]
  },
  {
   "cell_type": "code",
   "execution_count": 24,
   "id": "f4835c7d",
   "metadata": {},
   "outputs": [
    {
     "data": {
      "text/plain": [
       "range(0, 6)"
      ]
     },
     "execution_count": 24,
     "metadata": {},
     "output_type": "execute_result"
    }
   ],
   "source": [
    "r"
   ]
  },
  {
   "cell_type": "code",
   "execution_count": 25,
   "id": "9668c2cb",
   "metadata": {},
   "outputs": [
    {
     "ename": "TypeError",
     "evalue": "'range' object is not an iterator",
     "output_type": "error",
     "traceback": [
      "\u001b[1;31m---------------------------------------------------------------------------\u001b[0m",
      "\u001b[1;31mTypeError\u001b[0m                                 Traceback (most recent call last)",
      "Input \u001b[1;32mIn [25]\u001b[0m, in \u001b[0;36m<cell line: 1>\u001b[1;34m()\u001b[0m\n\u001b[1;32m----> 1\u001b[0m \u001b[38;5;28;43mnext\u001b[39;49m\u001b[43m(\u001b[49m\u001b[43mr\u001b[49m\u001b[43m)\u001b[49m\n",
      "\u001b[1;31mTypeError\u001b[0m: 'range' object is not an iterator"
     ]
    }
   ],
   "source": [
    "next(r)"
   ]
  },
  {
   "cell_type": "code",
   "execution_count": 26,
   "id": "929b9138",
   "metadata": {},
   "outputs": [],
   "source": [
    "r = iter(r)"
   ]
  },
  {
   "cell_type": "code",
   "execution_count": 27,
   "id": "6945d389",
   "metadata": {},
   "outputs": [
    {
     "data": {
      "text/plain": [
       "0"
      ]
     },
     "execution_count": 27,
     "metadata": {},
     "output_type": "execute_result"
    }
   ],
   "source": [
    "next(r)"
   ]
  },
  {
   "cell_type": "code",
   "execution_count": 28,
   "id": "4fbababd",
   "metadata": {},
   "outputs": [
    {
     "data": {
      "text/plain": [
       "1"
      ]
     },
     "execution_count": 28,
     "metadata": {},
     "output_type": "execute_result"
    }
   ],
   "source": [
    "next(r)"
   ]
  },
  {
   "cell_type": "code",
   "execution_count": 29,
   "id": "12be6e7b",
   "metadata": {},
   "outputs": [
    {
     "data": {
      "text/plain": [
       "2"
      ]
     },
     "execution_count": 29,
     "metadata": {},
     "output_type": "execute_result"
    }
   ],
   "source": [
    "next(r)"
   ]
  },
  {
   "cell_type": "markdown",
   "id": "46ac2a3a",
   "metadata": {},
   "source": [
    "### Generator "
   ]
  },
  {
   "cell_type": "code",
   "execution_count": 30,
   "id": "15baf055",
   "metadata": {},
   "outputs": [
    {
     "data": {
      "text/plain": [
       "range(0, 45)"
      ]
     },
     "execution_count": 30,
     "metadata": {},
     "output_type": "execute_result"
    }
   ],
   "source": [
    "range(45)"
   ]
  },
  {
   "cell_type": "code",
   "execution_count": 31,
   "id": "15509556",
   "metadata": {},
   "outputs": [
    {
     "data": {
      "text/plain": [
       "range(0, 45, 3)"
      ]
     },
     "execution_count": 31,
     "metadata": {},
     "output_type": "execute_result"
    }
   ],
   "source": [
    "range(0,45,3)"
   ]
  },
  {
   "cell_type": "code",
   "execution_count": 32,
   "id": "b7fb32e5",
   "metadata": {},
   "outputs": [
    {
     "data": {
      "text/plain": [
       "[0, 3, 6, 9, 12, 15, 18, 21, 24, 27, 30, 33, 36, 39, 42]"
      ]
     },
     "execution_count": 32,
     "metadata": {},
     "output_type": "execute_result"
    }
   ],
   "source": [
    "list(range(0,45,3))"
   ]
  },
  {
   "cell_type": "code",
   "execution_count": 33,
   "id": "59b61703",
   "metadata": {},
   "outputs": [],
   "source": [
    "def gencube(n):\n",
    "    for i in range(n):\n",
    "        return n**3"
   ]
  },
  {
   "cell_type": "code",
   "execution_count": 34,
   "id": "29bed5a0",
   "metadata": {},
   "outputs": [
    {
     "data": {
      "text/plain": [
       "125"
      ]
     },
     "execution_count": 34,
     "metadata": {},
     "output_type": "execute_result"
    }
   ],
   "source": [
    "gencube(5)"
   ]
  },
  {
   "cell_type": "code",
   "execution_count": 35,
   "id": "bdb20888",
   "metadata": {},
   "outputs": [],
   "source": [
    "def gencube(n):\n",
    "    l = []\n",
    "    for i in range(n):\n",
    "        l.append(i**3)\n",
    "    return l"
   ]
  },
  {
   "cell_type": "code",
   "execution_count": 36,
   "id": "4043da16",
   "metadata": {},
   "outputs": [
    {
     "data": {
      "text/plain": [
       "[0, 1, 8, 27, 64]"
      ]
     },
     "execution_count": 36,
     "metadata": {},
     "output_type": "execute_result"
    }
   ],
   "source": [
    "gencube(5)"
   ]
  },
  {
   "cell_type": "code",
   "execution_count": 37,
   "id": "2541f446",
   "metadata": {},
   "outputs": [
    {
     "data": {
      "text/plain": [
       "[0, 1, 8, 27, 64, 125, 216, 343, 512, 729]"
      ]
     },
     "execution_count": 37,
     "metadata": {},
     "output_type": "execute_result"
    }
   ],
   "source": [
    "gencube(10)"
   ]
  },
  {
   "cell_type": "code",
   "execution_count": 39,
   "id": "73e56722",
   "metadata": {},
   "outputs": [],
   "source": [
    "def gencube(n):\n",
    "    \n",
    "    for i in range(n):\n",
    "        yield i**3"
   ]
  },
  {
   "cell_type": "code",
   "execution_count": 40,
   "id": "35f55bc2",
   "metadata": {},
   "outputs": [
    {
     "data": {
      "text/plain": [
       "<generator object gencube at 0x0000021D56EB8350>"
      ]
     },
     "execution_count": 40,
     "metadata": {},
     "output_type": "execute_result"
    }
   ],
   "source": [
    "gencube(10)"
   ]
  },
  {
   "cell_type": "code",
   "execution_count": 45,
   "id": "50fc06b0",
   "metadata": {},
   "outputs": [
    {
     "name": "stdout",
     "output_type": "stream",
     "text": [
      "0\n",
      "1\n",
      "8\n",
      "27\n",
      "64\n",
      "125\n",
      "216\n",
      "343\n",
      "512\n",
      "729\n"
     ]
    }
   ],
   "source": [
    "for i in gencube(10):\n",
    "    print(i)"
   ]
  },
  {
   "cell_type": "markdown",
   "id": "84e4dd1d",
   "metadata": {},
   "source": [
    "### Fibonacci Series "
   ]
  },
  {
   "cell_type": "code",
   "execution_count": 54,
   "id": "affd3aa8",
   "metadata": {},
   "outputs": [],
   "source": [
    "def fib(n):\n",
    "    a = 1\n",
    "    b = 1\n",
    "    for i in range(n):\n",
    "        yield a,i\n",
    "        a,b = b, a+b\n",
    "        "
   ]
  },
  {
   "cell_type": "code",
   "execution_count": 55,
   "id": "c94ceb8b",
   "metadata": {},
   "outputs": [
    {
     "name": "stdout",
     "output_type": "stream",
     "text": [
      "(1, 0)\n",
      "(1, 1)\n",
      "(2, 2)\n",
      "(3, 3)\n",
      "(5, 4)\n",
      "(8, 5)\n",
      "(13, 6)\n",
      "(21, 7)\n",
      "(34, 8)\n",
      "(55, 9)\n"
     ]
    }
   ],
   "source": [
    "for i in fib(10):\n",
    "    print(i)"
   ]
  },
  {
   "cell_type": "code",
   "execution_count": 56,
   "id": "a6992e1a",
   "metadata": {},
   "outputs": [],
   "source": [
    "def fib(n):\n",
    "    a = 0\n",
    "    b = 1\n",
    "    for i in range(n):\n",
    "        yield a,i\n",
    "        a,b = b, a+b\n",
    "        "
   ]
  },
  {
   "cell_type": "code",
   "execution_count": 57,
   "id": "1eb89991",
   "metadata": {},
   "outputs": [
    {
     "name": "stdout",
     "output_type": "stream",
     "text": [
      "(0, 0)\n",
      "(1, 1)\n",
      "(1, 2)\n",
      "(2, 3)\n",
      "(3, 4)\n",
      "(5, 5)\n",
      "(8, 6)\n",
      "(13, 7)\n",
      "(21, 8)\n",
      "(34, 9)\n"
     ]
    }
   ],
   "source": [
    "for i in fib(10):\n",
    "    print(i)"
   ]
  },
  {
   "cell_type": "code",
   "execution_count": 65,
   "id": "0a0348a6",
   "metadata": {},
   "outputs": [],
   "source": [
    "def fib(n):\n",
    "    a = 0\n",
    "    b = 1\n",
    "    output = []\n",
    "    for i in range(n):\n",
    "        output.append(a)\n",
    "        a,b = b, a+b\n",
    "    return output"
   ]
  },
  {
   "cell_type": "code",
   "execution_count": 66,
   "id": "6a50681c",
   "metadata": {},
   "outputs": [
    {
     "data": {
      "text/plain": [
       "[0, 1, 1, 2, 3, 5, 8, 13, 21, 34]"
      ]
     },
     "execution_count": 66,
     "metadata": {},
     "output_type": "execute_result"
    }
   ],
   "source": [
    "fib(10)"
   ]
  },
  {
   "cell_type": "code",
   "execution_count": 72,
   "id": "44dd77d8",
   "metadata": {},
   "outputs": [],
   "source": [
    "def fib(n):  # should not use print. as it wll give none type as result which cannot be used further\n",
    "    a = 0\n",
    "    b = 1\n",
    "    output = []\n",
    "    for i in range(n):\n",
    "        print(a)\n",
    "        a,b = b, a+b\n",
    "# return statement has to be used instead"
   ]
  },
  {
   "cell_type": "code",
   "execution_count": 73,
   "id": "43253167",
   "metadata": {},
   "outputs": [
    {
     "name": "stdout",
     "output_type": "stream",
     "text": [
      "0\n",
      "1\n",
      "1\n",
      "2\n",
      "3\n",
      "5\n",
      "8\n",
      "13\n",
      "21\n",
      "34\n"
     ]
    }
   ],
   "source": [
    "fib(10)"
   ]
  },
  {
   "cell_type": "code",
   "execution_count": 74,
   "id": "9f67f990",
   "metadata": {},
   "outputs": [],
   "source": [
    "def fib(n):  # should not use print. as it wll give none type as result which cannot be used further\n",
    "    a = 0\n",
    "    b = 1\n",
    "    output = []\n",
    "    for i in range(n):\n",
    "        print(type(print(a)))  # to check type of output\n",
    "        a,b = b, a+b"
   ]
  },
  {
   "cell_type": "code",
   "execution_count": 75,
   "id": "d4fc950b",
   "metadata": {},
   "outputs": [
    {
     "name": "stdout",
     "output_type": "stream",
     "text": [
      "0\n",
      "<class 'NoneType'>\n",
      "1\n",
      "<class 'NoneType'>\n",
      "1\n",
      "<class 'NoneType'>\n",
      "2\n",
      "<class 'NoneType'>\n",
      "3\n",
      "<class 'NoneType'>\n",
      "5\n",
      "<class 'NoneType'>\n",
      "8\n",
      "<class 'NoneType'>\n",
      "13\n",
      "<class 'NoneType'>\n",
      "21\n",
      "<class 'NoneType'>\n",
      "34\n",
      "<class 'NoneType'>\n"
     ]
    }
   ],
   "source": [
    "fib(10)"
   ]
  },
  {
   "cell_type": "code",
   "execution_count": 77,
   "id": "ea567cf3",
   "metadata": {},
   "outputs": [
    {
     "name": "stdout",
     "output_type": "stream",
     "text": [
      "something in console\n"
     ]
    }
   ],
   "source": [
    "print(\"something in console\")"
   ]
  },
  {
   "cell_type": "code",
   "execution_count": 83,
   "id": "7a344e61",
   "metadata": {},
   "outputs": [],
   "source": [
    "f = open(\"test1.txt\", \"w\")"
   ]
  },
  {
   "cell_type": "code",
   "execution_count": 78,
   "id": "1816e105",
   "metadata": {},
   "outputs": [
    {
     "data": {
      "text/plain": [
       "'C:\\\\Users\\\\SAHAANA'"
      ]
     },
     "execution_count": 78,
     "metadata": {},
     "output_type": "execute_result"
    }
   ],
   "source": [
    "pwd()"
   ]
  },
  {
   "cell_type": "code",
   "execution_count": 79,
   "id": "9a46949e",
   "metadata": {},
   "outputs": [
    {
     "data": {
      "text/plain": [
       "<function dir>"
      ]
     },
     "execution_count": 79,
     "metadata": {},
     "output_type": "execute_result"
    }
   ],
   "source": [
    "dir"
   ]
  },
  {
   "cell_type": "code",
   "execution_count": 80,
   "id": "480c69af",
   "metadata": {},
   "outputs": [
    {
     "data": {
      "text/plain": [
       "['In',\n",
       " 'Out',\n",
       " '_',\n",
       " '_20',\n",
       " '_21',\n",
       " '_22',\n",
       " '_24',\n",
       " '_27',\n",
       " '_28',\n",
       " '_29',\n",
       " '_30',\n",
       " '_31',\n",
       " '_32',\n",
       " '_34',\n",
       " '_36',\n",
       " '_37',\n",
       " '_4',\n",
       " '_40',\n",
       " '_5',\n",
       " '_6',\n",
       " '_60',\n",
       " '_62',\n",
       " '_64',\n",
       " '_66',\n",
       " '_7',\n",
       " '_78',\n",
       " '_79',\n",
       " '_8',\n",
       " '__',\n",
       " '___',\n",
       " '__builtin__',\n",
       " '__builtins__',\n",
       " '__doc__',\n",
       " '__loader__',\n",
       " '__name__',\n",
       " '__package__',\n",
       " '__spec__',\n",
       " '_dh',\n",
       " '_i',\n",
       " '_i1',\n",
       " '_i10',\n",
       " '_i11',\n",
       " '_i12',\n",
       " '_i13',\n",
       " '_i14',\n",
       " '_i15',\n",
       " '_i16',\n",
       " '_i17',\n",
       " '_i18',\n",
       " '_i19',\n",
       " '_i2',\n",
       " '_i20',\n",
       " '_i21',\n",
       " '_i22',\n",
       " '_i23',\n",
       " '_i24',\n",
       " '_i25',\n",
       " '_i26',\n",
       " '_i27',\n",
       " '_i28',\n",
       " '_i29',\n",
       " '_i3',\n",
       " '_i30',\n",
       " '_i31',\n",
       " '_i32',\n",
       " '_i33',\n",
       " '_i34',\n",
       " '_i35',\n",
       " '_i36',\n",
       " '_i37',\n",
       " '_i38',\n",
       " '_i39',\n",
       " '_i4',\n",
       " '_i40',\n",
       " '_i41',\n",
       " '_i42',\n",
       " '_i43',\n",
       " '_i44',\n",
       " '_i45',\n",
       " '_i46',\n",
       " '_i47',\n",
       " '_i48',\n",
       " '_i49',\n",
       " '_i5',\n",
       " '_i50',\n",
       " '_i51',\n",
       " '_i52',\n",
       " '_i53',\n",
       " '_i54',\n",
       " '_i55',\n",
       " '_i56',\n",
       " '_i57',\n",
       " '_i58',\n",
       " '_i59',\n",
       " '_i6',\n",
       " '_i60',\n",
       " '_i61',\n",
       " '_i62',\n",
       " '_i63',\n",
       " '_i64',\n",
       " '_i65',\n",
       " '_i66',\n",
       " '_i67',\n",
       " '_i68',\n",
       " '_i69',\n",
       " '_i7',\n",
       " '_i70',\n",
       " '_i71',\n",
       " '_i72',\n",
       " '_i73',\n",
       " '_i74',\n",
       " '_i75',\n",
       " '_i76',\n",
       " '_i77',\n",
       " '_i78',\n",
       " '_i79',\n",
       " '_i8',\n",
       " '_i80',\n",
       " '_i9',\n",
       " '_ih',\n",
       " '_ii',\n",
       " '_iii',\n",
       " '_oh',\n",
       " 'a',\n",
       " 'exit',\n",
       " 'fib',\n",
       " 'gencube',\n",
       " 'get_ipython',\n",
       " 'i',\n",
       " 'l',\n",
       " 'quit',\n",
       " 'r',\n",
       " 't']"
      ]
     },
     "execution_count": 80,
     "metadata": {},
     "output_type": "execute_result"
    }
   ],
   "source": [
    "dir()"
   ]
  },
  {
   "cell_type": "code",
   "execution_count": 84,
   "id": "13fec271",
   "metadata": {},
   "outputs": [
    {
     "name": "stdout",
     "output_type": "stream",
     "text": [
      " Volume in drive C is Windows\n",
      " Volume Serial Number is AA83-6D43\n",
      "\n",
      " Directory of C:\\Users\\SAHAANA\n",
      "\n",
      "19-10-2022  19:43            40,595  Function Part 2.ipynb\n",
      "20-10-2022  11:05    <DIR>          .\n",
      "15-10-2022  10:46    <DIR>          ..\n",
      "12-09-2022  17:41    <DIR>          .conda\n",
      "12-09-2022  17:43                25 .condarc\n",
      "12-09-2022  17:41    <DIR>          .continuum\n",
      "05-10-2022  22:28                53 .git-for-windows-updater\n",
      "19-10-2022  22:56    <DIR>          .ipynb_checkpoints\n",
      "12-09-2022  17:53    <DIR>          .ipython\n",
      "13-09-2022  12:03    <DIR>          .jupyter\n",
      "22-06-2022  11:00    <DIR>          .ms-ad\n",
      "21-09-2022  22:14    <DIR>          .vscode\n",
      "12-10-2022  15:25            18,032 06 Python Program Discussion in loops.ipynb\n",
      "27-07-2022  14:13    <DIR>          3D Objects\n",
      "18-08-2021  08:42               151 BullseyeCoverageError.txt\n",
      "18-09-2022  22:43             1,863 Check if a Number is Positive, Negative or Zero.ipynb\n",
      "15-10-2022  11:30    <DIR>          Contacts\n",
      "15-09-2022  23:25             1,953 Converting mile to km.ipynb\n",
      "13-09-2022  10:11            16,992 Day 1.ipynb\n",
      "13-09-2022  00:27               886 Day 1.py\n",
      "13-09-2022  15:24            50,626 Day 2.ipynb\n",
      "15-09-2022  01:40            25,600 Day 3 - Tuple Set Dict.ipynb\n",
      "11-10-2022  11:49            15,042 Day 4 - If, else & for loop.ipynb\n",
      "02-10-2022  23:28            82,321 demo_004.ipynb\n",
      "17-10-2022  19:28    <DIR>          Desktop\n",
      "16-09-2022  23:34             3,544 Display calendar.ipynb\n",
      "15-10-2022  22:37    <DIR>          Documents\n",
      "19-10-2022  12:47    <DIR>          Downloads\n",
      "15-10-2022  11:30    <DIR>          Favorites\n",
      "14-09-2022  01:52            25,286 for loops while loop.ipynb\n",
      "11-10-2022  16:07            23,715 For Loops While loops.ipynb\n",
      "14-10-2022  13:41            23,660 Function Part 1.ipynb\n",
      "04-10-2022  22:09            14,683 ILAYAPERUMAL _FSDS_bootcamp_assignment_002_Oct_01.ipynb\n",
      "20-10-2022  11:04            26,760 Iterator Generator File System.ipynb\n",
      "12-09-2022  18:25    <DIR>          Jupyter\n",
      "17-09-2022  22:44             2,532 Leap year or not.ipynb\n",
      "15-10-2022  11:30    <DIR>          Links\n",
      "15-10-2022  13:58    <DIR>          Music\n",
      "17-09-2022  22:47             1,057 Number is Odd or Even.ipynb\n",
      "02-10-2021  20:03           285,045 oehlert-data.sas.txt\n",
      "11-08-2021  14:42    <DIR>          OneDrive\n",
      "16-10-2022  22:08    <DIR>          Pictures\n",
      "09-10-2022  14:30            23,577 Practice _005.ipynb\n",
      "11-10-2022  10:48             6,612 PRACTICE 11.10.2022.ipynb\n",
      "15-09-2022  23:36             3,780 Programming Assignment_1.ipynb\n",
      "15-09-2022  23:21             1,434 Python - Maximum of 3 number.ipynb\n",
      "14-09-2022  01:50            69,090 Python basic (3).ipynb\n",
      "15-09-2022  23:35            11,480 Python Basic Assignment - 1.ipynb\n",
      "16-09-2022  23:16             1,193 Python program to convert Celsius to Fahrenheit.ipynb\n",
      "15-10-2022  11:30    <DIR>          Saved Games\n",
      "15-10-2022  11:30    <DIR>          Searches\n",
      "18-03-2021  08:46                 0 Sti_Trace.log\n",
      "20-10-2022  11:02                 0 test.txt\n",
      "20-10-2022  11:05                 0 test1.txt\n",
      "15-04-2022  17:39             3,891 TOP 25 ALGORITHM.txt\n",
      "12-09-2022  18:19             1,413 TRIAL.ipynb\n",
      "14-10-2022  21:35             2,417 Untitled8.ipynb\n",
      "16-10-2022  21:50    <DIR>          Videos\n",
      "              35 File(s)        785,308 bytes\n",
      "              23 Dir(s)  158,707,564,544 bytes free\n"
     ]
    }
   ],
   "source": [
    "%ls"
   ]
  },
  {
   "cell_type": "code",
   "execution_count": 98,
   "id": "452d51b1",
   "metadata": {},
   "outputs": [],
   "source": [
    "f = open(\"test1.txt\", \"w\")"
   ]
  },
  {
   "cell_type": "code",
   "execution_count": 99,
   "id": "8be48e50",
   "metadata": {},
   "outputs": [
    {
     "data": {
      "text/plain": [
       "60"
      ]
     },
     "execution_count": 99,
     "metadata": {},
     "output_type": "execute_result"
    }
   ],
   "source": [
    "f.write(\"This is my first file operation to something in my test1.txt\")"
   ]
  },
  {
   "cell_type": "code",
   "execution_count": 100,
   "id": "46393d84",
   "metadata": {},
   "outputs": [],
   "source": [
    "f.close()"
   ]
  },
  {
   "cell_type": "code",
   "execution_count": 96,
   "id": "2b1c24a5",
   "metadata": {},
   "outputs": [
    {
     "data": {
      "text/plain": [
       "63"
      ]
     },
     "execution_count": 96,
     "metadata": {},
     "output_type": "execute_result"
    }
   ],
   "source": [
    "f = open(\"test1.txt\", \"w\")"
   ]
  },
  {
   "cell_type": "code",
   "execution_count": 101,
   "id": "2f2261e5",
   "metadata": {},
   "outputs": [
    {
     "name": "stdout",
     "output_type": "stream",
     "text": [
      "Writing test2.txt\n"
     ]
    }
   ],
   "source": [
    "%%writefile test2.txt\n",
    "This is another data I want to store in a file"
   ]
  },
  {
   "cell_type": "code",
   "execution_count": 103,
   "id": "5954ccb9",
   "metadata": {},
   "outputs": [],
   "source": [
    "f.close()"
   ]
  },
  {
   "cell_type": "code",
   "execution_count": 104,
   "id": "94bfd779",
   "metadata": {},
   "outputs": [],
   "source": [
    " f = open('test2.txt') "
   ]
  },
  {
   "cell_type": "code",
   "execution_count": 106,
   "id": "5663df1d",
   "metadata": {},
   "outputs": [
    {
     "data": {
      "text/plain": [
       "'This is another data I want to store in a file\\n'"
      ]
     },
     "execution_count": 106,
     "metadata": {},
     "output_type": "execute_result"
    }
   ],
   "source": [
    "f.read()"
   ]
  },
  {
   "cell_type": "code",
   "execution_count": 108,
   "id": "b746e02b",
   "metadata": {},
   "outputs": [
    {
     "ename": "UnsupportedOperation",
     "evalue": "not writable",
     "output_type": "error",
     "traceback": [
      "\u001b[1;31m---------------------------------------------------------------------------\u001b[0m",
      "\u001b[1;31mUnsupportedOperation\u001b[0m                      Traceback (most recent call last)",
      "Input \u001b[1;32mIn [108]\u001b[0m, in \u001b[0;36m<cell line: 1>\u001b[1;34m()\u001b[0m\n\u001b[1;32m----> 1\u001b[0m \u001b[43mf\u001b[49m\u001b[38;5;241;43m.\u001b[39;49m\u001b[43mwrite\u001b[49m\u001b[43m(\u001b[49m\u001b[38;5;124;43m\"\u001b[39;49m\u001b[38;5;124;43megflkwegnkwefj\u001b[39;49m\u001b[38;5;124;43m\"\u001b[39;49m\u001b[43m)\u001b[49m\n",
      "\u001b[1;31mUnsupportedOperation\u001b[0m: not writable"
     ]
    }
   ],
   "source": [
    "f.write(\"egflkwegnkwefj\")  # can not write as the file is opened"
   ]
  },
  {
   "cell_type": "code",
   "execution_count": 109,
   "id": "3a13290c",
   "metadata": {},
   "outputs": [
    {
     "data": {
      "text/plain": [
       "''"
      ]
     },
     "execution_count": 109,
     "metadata": {},
     "output_type": "execute_result"
    }
   ],
   "source": [
    "f.read()       # As the function has nothig more to read it gives a blank."
   ]
  },
  {
   "cell_type": "code",
   "execution_count": 112,
   "id": "a0523e86",
   "metadata": {},
   "outputs": [
    {
     "data": {
      "text/plain": [
       "5"
      ]
     },
     "execution_count": 112,
     "metadata": {},
     "output_type": "execute_result"
    }
   ],
   "source": [
    "f.seek(5) # to reset the cursor at any point in between. this command reads from 5th location"
   ]
  },
  {
   "cell_type": "code",
   "execution_count": 113,
   "id": "03b8e320",
   "metadata": {},
   "outputs": [
    {
     "data": {
      "text/plain": [
       "'is another data I want to store in a file\\n'"
      ]
     },
     "execution_count": 113,
     "metadata": {},
     "output_type": "execute_result"
    }
   ],
   "source": [
    "f.read()"
   ]
  },
  {
   "cell_type": "code",
   "execution_count": 115,
   "id": "21b98984",
   "metadata": {},
   "outputs": [
    {
     "data": {
      "text/plain": [
       "0"
      ]
     },
     "execution_count": 115,
     "metadata": {},
     "output_type": "execute_result"
    }
   ],
   "source": [
    "f.seek(0)   # to read from 0th location"
   ]
  },
  {
   "cell_type": "code",
   "execution_count": 116,
   "id": "49ec77c5",
   "metadata": {},
   "outputs": [
    {
     "data": {
      "text/plain": [
       "'This is another data I want to store in a file\\n'"
      ]
     },
     "execution_count": 116,
     "metadata": {},
     "output_type": "execute_result"
    }
   ],
   "source": [
    "f.read()"
   ]
  },
  {
   "cell_type": "code",
   "execution_count": 118,
   "id": "111c46ab",
   "metadata": {},
   "outputs": [
    {
     "data": {
      "text/plain": [
       "48"
      ]
     },
     "execution_count": 118,
     "metadata": {},
     "output_type": "execute_result"
    }
   ],
   "source": [
    "f.tell()   # To know the present position of your cursor"
   ]
  },
  {
   "cell_type": "code",
   "execution_count": 119,
   "id": "59d2f0bb",
   "metadata": {},
   "outputs": [
    {
     "data": {
      "text/plain": [
       "0"
      ]
     },
     "execution_count": 119,
     "metadata": {},
     "output_type": "execute_result"
    }
   ],
   "source": [
    "f.seek(0) # to reset the cursor to 0th position"
   ]
  },
  {
   "cell_type": "code",
   "execution_count": 120,
   "id": "f09d8841",
   "metadata": {},
   "outputs": [
    {
     "data": {
      "text/plain": [
       "0"
      ]
     },
     "execution_count": 120,
     "metadata": {},
     "output_type": "execute_result"
    }
   ],
   "source": [
    "f.tell()"
   ]
  },
  {
   "cell_type": "code",
   "execution_count": 123,
   "id": "038599d0",
   "metadata": {},
   "outputs": [],
   "source": [
    "f = open(\"test1.txt\", \"r+\")"
   ]
  },
  {
   "cell_type": "code",
   "execution_count": 125,
   "id": "0514c154",
   "metadata": {},
   "outputs": [
    {
     "data": {
      "text/plain": [
       "'This is my first file operation to something in my test1.txt'"
      ]
     },
     "execution_count": 125,
     "metadata": {},
     "output_type": "execute_result"
    }
   ],
   "source": [
    "f.read()"
   ]
  },
  {
   "cell_type": "code",
   "execution_count": 131,
   "id": "1cad1a45",
   "metadata": {},
   "outputs": [
    {
     "data": {
      "text/plain": [
       "62"
      ]
     },
     "execution_count": 131,
     "metadata": {},
     "output_type": "execute_result"
    }
   ],
   "source": [
    "f.tell()"
   ]
  },
  {
   "cell_type": "code",
   "execution_count": 132,
   "id": "71101270",
   "metadata": {},
   "outputs": [
    {
     "data": {
      "text/plain": [
       "0"
      ]
     },
     "execution_count": 132,
     "metadata": {},
     "output_type": "execute_result"
    }
   ],
   "source": [
    "f.seek(0)"
   ]
  },
  {
   "cell_type": "code",
   "execution_count": 133,
   "id": "da1095c9",
   "metadata": {},
   "outputs": [
    {
     "data": {
      "text/plain": [
       "'This is my first file operation to something in my test1.txt\\n'"
      ]
     },
     "execution_count": 133,
     "metadata": {},
     "output_type": "execute_result"
    }
   ],
   "source": [
    "f.readline()   # Reads line by line"
   ]
  },
  {
   "cell_type": "code",
   "execution_count": 135,
   "id": "8fcc97b2",
   "metadata": {},
   "outputs": [
    {
     "data": {
      "text/plain": [
       "'My name is ILAYA.'"
      ]
     },
     "execution_count": 135,
     "metadata": {},
     "output_type": "execute_result"
    }
   ],
   "source": [
    "f.readline()"
   ]
  },
  {
   "cell_type": "code",
   "execution_count": 137,
   "id": "0f5bc618",
   "metadata": {},
   "outputs": [
    {
     "data": {
      "text/plain": [
       "0"
      ]
     },
     "execution_count": 137,
     "metadata": {},
     "output_type": "execute_result"
    }
   ],
   "source": [
    "f.seek(0)"
   ]
  },
  {
   "cell_type": "code",
   "execution_count": 138,
   "id": "c81089fc",
   "metadata": {},
   "outputs": [
    {
     "data": {
      "text/plain": [
       "'This is my first file operation to something in my test1.txt\\n\\nMy name is ILAYA.'"
      ]
     },
     "execution_count": 138,
     "metadata": {},
     "output_type": "execute_result"
    }
   ],
   "source": [
    "f.read()  # Reads all the lines"
   ]
  },
  {
   "cell_type": "code",
   "execution_count": 182,
   "id": "61d297bf",
   "metadata": {},
   "outputs": [],
   "source": [
    "f = open('google.txt', \"w\")"
   ]
  },
  {
   "cell_type": "code",
   "execution_count": 183,
   "id": "ef275303",
   "metadata": {},
   "outputs": [
    {
     "data": {
      "text/plain": [
       "1480"
      ]
     },
     "execution_count": 183,
     "metadata": {},
     "output_type": "execute_result"
    }
   ],
   "source": [
    "f.write(\"\"\"Google LLC is an American multinational technology company that focuses on search engine technology, online advertising, cloud computing, computer software, quantum computing, e-commerce, artificial intelligence,and consumer electronics. It has been referred to as the \"most powerful company in the world\" and one of the world's most valuable brands due to its market dominance, data collection, and technological advantages in the area of artificial intelligence. Its parent company Alphabet is considered one of the Big Five American information technology companies, alongside Amazon, Apple, Meta, and Microsoft.\n",
    "Google was founded on September 4, 1998, by Larry Page and Sergey Brin while they were PhD students at Stanford University in California. Together they own about 14% of its publicly listed shares and control 56% of the stockholder voting power through super-voting stock. The company went public via an initial public offering (IPO) in 2004. In 2015, Google was reorganized as a wholly owned subsidiary of Alphabet Inc. Google is Alphabet's largest subsidiary and is a holding company for Alphabet's Internet properties and interests. Sundar Pichai was appointed CEO of Google on October 24, 2015, replacing Larry Page, who became the CEO of Alphabet. On December 3, 2019, Pichai also became the CEO of Alphabet.\n",
    "The company has since rapidly grown to offer a multitude of products and services beyond Google Search, many of which hold dominant market positions. .\"\"\")"
   ]
  },
  {
   "cell_type": "code",
   "execution_count": 184,
   "id": "ccf05b5e",
   "metadata": {},
   "outputs": [],
   "source": [
    "f.close()"
   ]
  },
  {
   "cell_type": "code",
   "execution_count": 185,
   "id": "2f333ae7",
   "metadata": {},
   "outputs": [],
   "source": [
    "f = open('google.txt', \"r+\")"
   ]
  },
  {
   "cell_type": "code",
   "execution_count": 186,
   "id": "d1d46601",
   "metadata": {},
   "outputs": [
    {
     "data": {
      "text/plain": [
       "'Google LLC is an American multinational technology company that focuses on search engine technology, online advertising, cloud computing, computer software, quantum computing, e-commerce, artificial intelligence,and consumer electronics. It has been referred to as the \"most powerful company in the world\" and one of the world\\'s most valuable brands due to its market dominance, data collection, and technological advantages in the area of artificial intelligence. Its parent company Alphabet is considered one of the Big Five American information technology companies, alongside Amazon, Apple, Meta, and Microsoft.\\n'"
      ]
     },
     "execution_count": 186,
     "metadata": {},
     "output_type": "execute_result"
    }
   ],
   "source": [
    "f.readline()"
   ]
  },
  {
   "cell_type": "code",
   "execution_count": 187,
   "id": "f0853a40",
   "metadata": {},
   "outputs": [
    {
     "data": {
      "text/plain": [
       "\"Google was founded on September 4, 1998, by Larry Page and Sergey Brin while they were PhD students at Stanford University in California. Together they own about 14% of its publicly listed shares and control 56% of the stockholder voting power through super-voting stock. The company went public via an initial public offering (IPO) in 2004. In 2015, Google was reorganized as a wholly owned subsidiary of Alphabet Inc. Google is Alphabet's largest subsidiary and is a holding company for Alphabet's Internet properties and interests. Sundar Pichai was appointed CEO of Google on October 24, 2015, replacing Larry Page, who became the CEO of Alphabet. On December 3, 2019, Pichai also became the CEO of Alphabet.\\n\""
      ]
     },
     "execution_count": 187,
     "metadata": {},
     "output_type": "execute_result"
    }
   ],
   "source": [
    "f.readline()"
   ]
  },
  {
   "cell_type": "code",
   "execution_count": 188,
   "id": "57e274dd",
   "metadata": {},
   "outputs": [
    {
     "data": {
      "text/plain": [
       "'The company has since rapidly grown to offer a multitude of products and services beyond Google Search, many of which hold dominant market positions. .'"
      ]
     },
     "execution_count": 188,
     "metadata": {},
     "output_type": "execute_result"
    }
   ],
   "source": [
    "f.readline()"
   ]
  },
  {
   "cell_type": "code",
   "execution_count": 189,
   "id": "4dbe362c",
   "metadata": {},
   "outputs": [
    {
     "data": {
      "text/plain": [
       "0"
      ]
     },
     "execution_count": 189,
     "metadata": {},
     "output_type": "execute_result"
    }
   ],
   "source": [
    "f.seek(0)"
   ]
  },
  {
   "cell_type": "code",
   "execution_count": 190,
   "id": "9bb6673b",
   "metadata": {},
   "outputs": [
    {
     "data": {
      "text/plain": [
       "'Google LLC is an American multinational technology company that focuses on search engine technology, online advertising, cloud computing, computer software, quantum computing, e-commerce, artificial intelligence,and consumer electronics. It has been referred to as the \"most powerful company in the world\" and one of the world\\'s most valuable brands due to its market dominance, data collection, and technological advantages in the area of artificial intelligence. Its parent company Alphabet is considered one of the Big Five American information technology companies, alongside Amazon, Apple, Meta, and Microsoft.\\nGoogle was founded on September 4, 1998, by Larry Page and Sergey Brin while they were PhD students at Stanford University in California. Together they own about 14% of its publicly listed shares and control 56% of the stockholder voting power through super-voting stock. The company went public via an initial public offering (IPO) in 2004. In 2015, Google was reorganized as a wholly owned subsidiary of Alphabet Inc. Google is Alphabet\\'s largest subsidiary and is a holding company for Alphabet\\'s Internet properties and interests. Sundar Pichai was appointed CEO of Google on October 24, 2015, replacing Larry Page, who became the CEO of Alphabet. On December 3, 2019, Pichai also became the CEO of Alphabet.\\nThe company has since rapidly grown to offer a multitude of products and services beyond Google Search, many of which hold dominant market positions. .'"
      ]
     },
     "execution_count": 190,
     "metadata": {},
     "output_type": "execute_result"
    }
   ],
   "source": [
    "f.read()"
   ]
  },
  {
   "cell_type": "code",
   "execution_count": 191,
   "id": "9eecdf21",
   "metadata": {},
   "outputs": [],
   "source": [
    "f.close()"
   ]
  },
  {
   "cell_type": "code",
   "execution_count": 192,
   "id": "d41e72d0",
   "metadata": {},
   "outputs": [
    {
     "name": "stdout",
     "output_type": "stream",
     "text": [
      "Google LLC is an American multinational technology company that focuses on search engine technology, online advertising, cloud computing, computer software, quantum computing, e-commerce, artificial intelligence,and consumer electronics. It has been referred to as the \"most powerful company in the world\" and one of the world's most valuable brands due to its market dominance, data collection, and technological advantages in the area of artificial intelligence. Its parent company Alphabet is considered one of the Big Five American information technology companies, alongside Amazon, Apple, Meta, and Microsoft.\n",
      " Google was founded on September 4, 1998, by Larry Page and Sergey Brin while they were PhD students at Stanford University in California. Together they own about 14% of its publicly listed shares and control 56% of the stockholder voting power through super-voting stock. The company went public via an initial public offering (IPO) in 2004. In 2015, Google was reorganized as a wholly owned subsidiary of Alphabet Inc. Google is Alphabet's largest subsidiary and is a holding company for Alphabet's Internet properties and interests. Sundar Pichai was appointed CEO of Google on October 24, 2015, replacing Larry Page, who became the CEO of Alphabet. On December 3, 2019, Pichai also became the CEO of Alphabet.\n",
      " The company has since rapidly grown to offer a multitude of products and services beyond Google Search, many of which hold dominant market positions. . "
     ]
    }
   ],
   "source": [
    "f = open(\"google.txt\", \"r+\") # \"r\" mode is simple read only mode. \"r+\" mode is used for both read and write\n",
    "for line in f:\n",
    "    print(line, end = \" \")"
   ]
  },
  {
   "cell_type": "code",
   "execution_count": 194,
   "id": "628f2c62",
   "metadata": {},
   "outputs": [
    {
     "data": {
      "text/plain": [
       "36"
      ]
     },
     "execution_count": 194,
     "metadata": {},
     "output_type": "execute_result"
    }
   ],
   "source": [
    "f.write (\"This line is to be added at the end.\")"
   ]
  },
  {
   "cell_type": "code",
   "execution_count": 195,
   "id": "563963ed",
   "metadata": {},
   "outputs": [],
   "source": [
    "f.close()"
   ]
  },
  {
   "cell_type": "code",
   "execution_count": 196,
   "id": "c78b0cd4",
   "metadata": {},
   "outputs": [],
   "source": [
    "f = open(\"google.txt\", \"r+\")"
   ]
  },
  {
   "cell_type": "code",
   "execution_count": 197,
   "id": "b77c381a",
   "metadata": {},
   "outputs": [
    {
     "data": {
      "text/plain": [
       "9"
      ]
     },
     "execution_count": 197,
     "metadata": {},
     "output_type": "execute_result"
    }
   ],
   "source": [
    "f.seek(9)"
   ]
  },
  {
   "cell_type": "code",
   "execution_count": 198,
   "id": "8fd1ba98",
   "metadata": {},
   "outputs": [
    {
     "data": {
      "text/plain": [
       "16"
      ]
     },
     "execution_count": 198,
     "metadata": {},
     "output_type": "execute_result"
    }
   ],
   "source": [
    "f.write(\" ILAYAPERUMAL K \") # insert this word in 5th Position"
   ]
  },
  {
   "cell_type": "code",
   "execution_count": 233,
   "id": "3c5d7266",
   "metadata": {},
   "outputs": [],
   "source": [
    "f.close()"
   ]
  },
  {
   "cell_type": "code",
   "execution_count": 234,
   "id": "0b2f2113",
   "metadata": {},
   "outputs": [],
   "source": [
    "f = open(\"google.txt\", \"r+\")"
   ]
  },
  {
   "cell_type": "code",
   "execution_count": 235,
   "id": "46f4ec58",
   "metadata": {},
   "outputs": [
    {
     "data": {
      "text/plain": [
       "3"
      ]
     },
     "execution_count": 235,
     "metadata": {},
     "output_type": "execute_result"
    }
   ],
   "source": [
    "len(f.readlines())"
   ]
  },
  {
   "cell_type": "code",
   "execution_count": 241,
   "id": "346e8e5d",
   "metadata": {},
   "outputs": [
    {
     "data": {
      "text/plain": [
       "0"
      ]
     },
     "execution_count": 241,
     "metadata": {},
     "output_type": "execute_result"
    }
   ],
   "source": [
    "f.seek(0)"
   ]
  },
  {
   "cell_type": "code",
   "execution_count": 242,
   "id": "3641f564",
   "metadata": {},
   "outputs": [
    {
     "data": {
      "text/plain": [
       "['Google LL ILAYAPERUMAL K  multinational technology company that focuses on search engine technology, online advertising, cloud computing, computer software, quantum computing, e-commerce, artificial intelligence,and consumer electronics. It has been referred to as the \"most powerful company in the world\" and one of the world\\'s most valuable brands due to its market dominance, data collection, and technological advantages in the area of artificial intelligence. Its parent company Alphabet is considered one of the Big Five American information technology companies, alongside Amazon, Apple, Meta, and Microsoft.\\n',\n",
       " \"Google was founded on September 4, 1998, by Larry Page and Sergey Brin while they were PhD students at Stanford University in California. Together they own about 14% of its publicly listed shares and control 56% of the stockholder voting power through super-voting stock. The company went public via an initial public offering (IPO) in 2004. In 2015, Google was reorganized as a wholly owned subsidiary of Alphabet Inc. Google is Alphabet's largest subsidiary and is a holding company for Alphabet's Internet properties and interests. Sundar Pichai was appointed CEO of Google on October 24, 2015, replacing Larry Page, who became the CEO of Alphabet. On December 3, 2019, Pichai also became the CEO of Alphabet.\\n\",\n",
       " 'The company has since rapidly grown to offer a multitude of products and services beyond Google Search, many of which hold dominant market positions. This line is to be added at the end.']"
      ]
     },
     "execution_count": 242,
     "metadata": {},
     "output_type": "execute_result"
    }
   ],
   "source": [
    "f.readlines()"
   ]
  },
  {
   "cell_type": "code",
   "execution_count": 250,
   "id": "c26b2819",
   "metadata": {},
   "outputs": [
    {
     "data": {
      "text/plain": [
       "'Google LL ILAYAPERUMAL K  multinational technology company that focuses on search engine technology, online advertising, cloud computing, computer software, quantum computing, e-commerce, artificial intelligence,and consumer electronics. It has been referred to as the \"most powerful company in the world\" and one of the world\\'s most valuable brands due to its market dominance, data collection, and technological advantages in the area of artificial intelligence. Its parent company Alphabet is considered one of the Big Five American information technology companies, alongside Amazon, Apple, Meta, and Microsoft.\\n'"
      ]
     },
     "execution_count": 250,
     "metadata": {},
     "output_type": "execute_result"
    }
   ],
   "source": [
    "l[0]"
   ]
  },
  {
   "cell_type": "code",
   "execution_count": 251,
   "id": "678a3045",
   "metadata": {},
   "outputs": [
    {
     "data": {
      "text/plain": [
       "['Google',\n",
       " 'LL',\n",
       " 'ILAYAPERUMAL',\n",
       " 'K',\n",
       " 'multinational',\n",
       " 'technology',\n",
       " 'company',\n",
       " 'that',\n",
       " 'focuses',\n",
       " 'on',\n",
       " 'search',\n",
       " 'engine',\n",
       " 'technology,',\n",
       " 'online',\n",
       " 'advertising,',\n",
       " 'cloud',\n",
       " 'computing,',\n",
       " 'computer',\n",
       " 'software,',\n",
       " 'quantum',\n",
       " 'computing,',\n",
       " 'e-commerce,',\n",
       " 'artificial',\n",
       " 'intelligence,and',\n",
       " 'consumer',\n",
       " 'electronics.',\n",
       " 'It',\n",
       " 'has',\n",
       " 'been',\n",
       " 'referred',\n",
       " 'to',\n",
       " 'as',\n",
       " 'the',\n",
       " '\"most',\n",
       " 'powerful',\n",
       " 'company',\n",
       " 'in',\n",
       " 'the',\n",
       " 'world\"',\n",
       " 'and',\n",
       " 'one',\n",
       " 'of',\n",
       " 'the',\n",
       " \"world's\",\n",
       " 'most',\n",
       " 'valuable',\n",
       " 'brands',\n",
       " 'due',\n",
       " 'to',\n",
       " 'its',\n",
       " 'market',\n",
       " 'dominance,',\n",
       " 'data',\n",
       " 'collection,',\n",
       " 'and',\n",
       " 'technological',\n",
       " 'advantages',\n",
       " 'in',\n",
       " 'the',\n",
       " 'area',\n",
       " 'of',\n",
       " 'artificial',\n",
       " 'intelligence.',\n",
       " 'Its',\n",
       " 'parent',\n",
       " 'company',\n",
       " 'Alphabet',\n",
       " 'is',\n",
       " 'considered',\n",
       " 'one',\n",
       " 'of',\n",
       " 'the',\n",
       " 'Big',\n",
       " 'Five',\n",
       " 'American',\n",
       " 'information',\n",
       " 'technology',\n",
       " 'companies,',\n",
       " 'alongside',\n",
       " 'Amazon,',\n",
       " 'Apple,',\n",
       " 'Meta,',\n",
       " 'and',\n",
       " 'Microsoft.']"
      ]
     },
     "execution_count": 251,
     "metadata": {},
     "output_type": "execute_result"
    }
   ],
   "source": [
    "l[0].split()"
   ]
  },
  {
   "cell_type": "code",
   "execution_count": 256,
   "id": "32493c51",
   "metadata": {},
   "outputs": [],
   "source": [
    "l1 = []\n",
    "for i in l[0].split():\n",
    "    l1.append(i[0])"
   ]
  },
  {
   "cell_type": "code",
   "execution_count": 257,
   "id": "fb6faf48",
   "metadata": {
    "scrolled": true
   },
   "outputs": [
    {
     "data": {
      "text/plain": [
       "['G',\n",
       " 'L',\n",
       " 'I',\n",
       " 'K',\n",
       " 'm',\n",
       " 't',\n",
       " 'c',\n",
       " 't',\n",
       " 'f',\n",
       " 'o',\n",
       " 's',\n",
       " 'e',\n",
       " 't',\n",
       " 'o',\n",
       " 'a',\n",
       " 'c',\n",
       " 'c',\n",
       " 'c',\n",
       " 's',\n",
       " 'q',\n",
       " 'c',\n",
       " 'e',\n",
       " 'a',\n",
       " 'i',\n",
       " 'c',\n",
       " 'e',\n",
       " 'I',\n",
       " 'h',\n",
       " 'b',\n",
       " 'r',\n",
       " 't',\n",
       " 'a',\n",
       " 't',\n",
       " '\"',\n",
       " 'p',\n",
       " 'c',\n",
       " 'i',\n",
       " 't',\n",
       " 'w',\n",
       " 'a',\n",
       " 'o',\n",
       " 'o',\n",
       " 't',\n",
       " 'w',\n",
       " 'm',\n",
       " 'v',\n",
       " 'b',\n",
       " 'd',\n",
       " 't',\n",
       " 'i',\n",
       " 'm',\n",
       " 'd',\n",
       " 'd',\n",
       " 'c',\n",
       " 'a',\n",
       " 't',\n",
       " 'a',\n",
       " 'i',\n",
       " 't',\n",
       " 'a',\n",
       " 'o',\n",
       " 'a',\n",
       " 'i',\n",
       " 'I',\n",
       " 'p',\n",
       " 'c',\n",
       " 'A',\n",
       " 'i',\n",
       " 'c',\n",
       " 'o',\n",
       " 'o',\n",
       " 't',\n",
       " 'B',\n",
       " 'F',\n",
       " 'A',\n",
       " 'i',\n",
       " 't',\n",
       " 'c',\n",
       " 'a',\n",
       " 'A',\n",
       " 'A',\n",
       " 'M',\n",
       " 'a',\n",
       " 'M']"
      ]
     },
     "execution_count": 257,
     "metadata": {},
     "output_type": "execute_result"
    }
   ],
   "source": [
    "l1"
   ]
  },
  {
   "cell_type": "code",
   "execution_count": 1,
   "id": "6b43175f",
   "metadata": {},
   "outputs": [
    {
     "data": {
      "text/plain": [
       "'google.txt'"
      ]
     },
     "execution_count": 1,
     "metadata": {},
     "output_type": "execute_result"
    }
   ],
   "source": [
    "f = open('google.txt', \"r+\")\n",
    "f.name"
   ]
  },
  {
   "cell_type": "code",
   "execution_count": 2,
   "id": "7cb7d58b",
   "metadata": {},
   "outputs": [],
   "source": [
    "l = [\"This is my line 1\", \"This is my line 2\", \"This is my line 3\", \"This is my line 4\"]"
   ]
  },
  {
   "cell_type": "code",
   "execution_count": 3,
   "id": "cfdcb0b8",
   "metadata": {},
   "outputs": [
    {
     "data": {
      "text/plain": [
       "44"
      ]
     },
     "execution_count": 3,
     "metadata": {},
     "output_type": "execute_result"
    }
   ],
   "source": [
    "f.write(\"I can write lines at current cursor posotopn\")"
   ]
  },
  {
   "cell_type": "code",
   "execution_count": 5,
   "id": "2fc8797f",
   "metadata": {},
   "outputs": [],
   "source": [
    "f.writelines(l)"
   ]
  },
  {
   "cell_type": "code",
   "execution_count": 7,
   "id": "eee53341",
   "metadata": {},
   "outputs": [],
   "source": [
    "f.close()"
   ]
  },
  {
   "cell_type": "code",
   "execution_count": 8,
   "id": "3d8848b2",
   "metadata": {},
   "outputs": [
    {
     "data": {
      "text/plain": [
       "4"
      ]
     },
     "execution_count": 8,
     "metadata": {},
     "output_type": "execute_result"
    }
   ],
   "source": [
    "f = open('google.txt', \"r+\")\n",
    "f.fileno()"
   ]
  },
  {
   "cell_type": "code",
   "execution_count": 9,
   "id": "2aeb4cbb",
   "metadata": {},
   "outputs": [
    {
     "name": "stdout",
     "output_type": "stream",
     "text": [
      " Volume in drive C is Windows\n",
      " Volume Serial Number is AA83-6D43\n",
      "\n",
      " Directory of C:\\Users\\SAHAANA\n",
      "\n",
      "19-10-2022  19:43            40,595  Function Part 2.ipynb\n",
      "27-10-2022  10:10    <DIR>          .\n",
      "15-10-2022  10:46    <DIR>          ..\n",
      "12-09-2022  17:41    <DIR>          .conda\n",
      "12-09-2022  17:43                25 .condarc\n",
      "12-09-2022  17:41    <DIR>          .continuum\n",
      "05-10-2022  22:28                53 .git-for-windows-updater\n",
      "19-10-2022  22:56    <DIR>          .ipynb_checkpoints\n",
      "12-09-2022  17:53    <DIR>          .ipython\n",
      "13-09-2022  12:03    <DIR>          .jupyter\n",
      "22-06-2022  11:00    <DIR>          .ms-ad\n",
      "21-09-2022  22:14    <DIR>          .vscode\n",
      "12-10-2022  15:25            18,032 06 Python Program Discussion in loops.ipynb\n",
      "27-07-2022  14:13    <DIR>          3D Objects\n",
      "18-08-2021  08:42               151 BullseyeCoverageError.txt\n",
      "18-09-2022  22:43             1,863 Check if a Number is Positive, Negative or Zero.ipynb\n",
      "15-10-2022  11:30    <DIR>          Contacts\n",
      "15-09-2022  23:25             1,953 Converting mile to km.ipynb\n",
      "13-09-2022  10:11            16,992 Day 1.ipynb\n",
      "13-09-2022  00:27               886 Day 1.py\n",
      "13-09-2022  15:24            50,626 Day 2.ipynb\n",
      "15-09-2022  01:40            25,600 Day 3 - Tuple Set Dict.ipynb\n",
      "11-10-2022  11:49            15,042 Day 4 - If, else & for loop.ipynb\n",
      "02-10-2022  23:28            82,321 demo_004.ipynb\n",
      "27-10-2022  09:00    <DIR>          Desktop\n",
      "16-09-2022  23:34             3,544 Display calendar.ipynb\n",
      "15-10-2022  22:37    <DIR>          Documents\n",
      "26-10-2022  22:02    <DIR>          Downloads\n",
      "15-10-2022  11:30    <DIR>          Favorites\n",
      "14-09-2022  01:52            25,286 for loops while loop.ipynb\n",
      "11-10-2022  16:07            23,715 For Loops While loops.ipynb\n",
      "14-10-2022  13:41            23,660 Function Part 1.ipynb\n",
      "27-10-2022  10:09             1,517 google.txt\n",
      "04-10-2022  22:09            14,683 ILAYAPERUMAL _FSDS_bootcamp_assignment_002_Oct_01.ipynb\n",
      "27-10-2022  10:10            55,350 Iterator Generator File System.ipynb\n",
      "12-09-2022  18:25    <DIR>          Jupyter\n",
      "17-09-2022  22:44             2,532 Leap year or not.ipynb\n",
      "15-10-2022  11:30    <DIR>          Links\n",
      "15-10-2022  13:58    <DIR>          Music\n",
      "17-09-2022  22:47             1,057 Number is Odd or Even.ipynb\n",
      "02-10-2021  20:03           285,045 oehlert-data.sas.txt\n",
      "26-10-2022  09:19    <DIR>          OneDrive\n",
      "16-10-2022  22:08    <DIR>          Pictures\n",
      "09-10-2022  14:30            23,577 Practice _005.ipynb\n",
      "11-10-2022  10:48             6,612 PRACTICE 11.10.2022.ipynb\n",
      "15-09-2022  23:36             3,780 Programming Assignment_1.ipynb\n",
      "27-10-2022  09:37             3,147 Python - Maximum of 3 number.ipynb\n",
      "14-09-2022  01:50            69,090 Python basic (3).ipynb\n",
      "27-10-2022  09:19            11,481 Python Basic Assignment - 1.ipynb\n",
      "16-09-2022  23:16             1,193 Python program to convert Celsius to Fahrenheit.ipynb\n",
      "15-10-2022  11:30    <DIR>          Saved Games\n",
      "15-10-2022  11:30    <DIR>          Searches\n",
      "18-03-2021  08:46                 0 Sti_Trace.log\n",
      "20-10-2022  11:02                 0 test.txt\n",
      "20-10-2022  20:53                81 test1.txt\n",
      "20-10-2022  11:13                48 test2.txt\n",
      "15-04-2022  17:39             3,891 TOP 25 ALGORITHM.txt\n",
      "26-10-2022  21:58             1,548 TRIAL.ipynb\n",
      "14-10-2022  21:35             2,417 Untitled8.ipynb\n",
      "16-10-2022  21:50    <DIR>          Videos\n",
      "              37 File(s)        817,393 bytes\n",
      "              23 Dir(s)  183,865,823,232 bytes free\n"
     ]
    }
   ],
   "source": [
    "%ls"
   ]
  },
  {
   "cell_type": "code",
   "execution_count": null,
   "id": "2a1e1323",
   "metadata": {},
   "outputs": [],
   "source": []
  }
 ],
 "metadata": {
  "kernelspec": {
   "display_name": "Python 3 (ipykernel)",
   "language": "python",
   "name": "python3"
  },
  "language_info": {
   "codemirror_mode": {
    "name": "ipython",
    "version": 3
   },
   "file_extension": ".py",
   "mimetype": "text/x-python",
   "name": "python",
   "nbconvert_exporter": "python",
   "pygments_lexer": "ipython3",
   "version": "3.9.12"
  }
 },
 "nbformat": 4,
 "nbformat_minor": 5
}
