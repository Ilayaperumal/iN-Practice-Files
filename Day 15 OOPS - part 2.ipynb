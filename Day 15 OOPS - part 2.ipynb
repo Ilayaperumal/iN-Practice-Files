{
 "cells": [
  {
   "cell_type": "markdown",
   "id": "3f94ee31",
   "metadata": {},
   "source": [
    "### Inheritance "
   ]
  },
  {
   "cell_type": "code",
   "execution_count": 1,
   "id": "b955f399",
   "metadata": {},
   "outputs": [],
   "source": [
    "class kip :\n",
    "    def __init__(self, a, b, c) :\n",
    "        self.a = a \n",
    "        self.b = b\n",
    "        self.c = c \n",
    "    \n",
    "    def test(self) :\n",
    "        print(\"This is my first test method of kip class\")\n",
    "        \n",
    "    def test1(self) :\n",
    "        print(\"This is a test1 method of kip class\")\n",
    "    \n",
    "    def test2(self) : \n",
    "        print(\"This is my test2 method of kip class\")"
   ]
  },
  {
   "cell_type": "code",
   "execution_count": 2,
   "id": "ed9cd2b3",
   "metadata": {},
   "outputs": [],
   "source": [
    "p = kip(1,2,3)"
   ]
  },
  {
   "cell_type": "code",
   "execution_count": 3,
   "id": "a41646ac",
   "metadata": {},
   "outputs": [
    {
     "name": "stdout",
     "output_type": "stream",
     "text": [
      "This is a test1 method of kip class\n"
     ]
    }
   ],
   "source": [
    "p.test1()"
   ]
  },
  {
   "cell_type": "code",
   "execution_count": 4,
   "id": "882e0a60",
   "metadata": {},
   "outputs": [],
   "source": [
    "class kip1(kip):\n",
    "    pass"
   ]
  },
  {
   "cell_type": "code",
   "execution_count": 5,
   "id": "e1e22ff8",
   "metadata": {},
   "outputs": [],
   "source": [
    "q = kip1(9,8,7)"
   ]
  },
  {
   "cell_type": "code",
   "execution_count": 6,
   "id": "e727a98d",
   "metadata": {},
   "outputs": [
    {
     "name": "stdout",
     "output_type": "stream",
     "text": [
      "This is my test2 method of kip class\n"
     ]
    }
   ],
   "source": [
    "q.test2()"
   ]
  },
  {
   "cell_type": "code",
   "execution_count": 7,
   "id": "1bd64d86",
   "metadata": {},
   "outputs": [],
   "source": [
    "class kip1(kip):\n",
    "    def test(self):\n",
    "        print(\"this is a test method available in kip1\")"
   ]
  },
  {
   "cell_type": "code",
   "execution_count": 8,
   "id": "51dd8d2c",
   "metadata": {},
   "outputs": [],
   "source": [
    "g = kip1(4,5,6)"
   ]
  },
  {
   "cell_type": "code",
   "execution_count": 9,
   "id": "92aadcd2",
   "metadata": {},
   "outputs": [
    {
     "name": "stdout",
     "output_type": "stream",
     "text": [
      "this is a test method available in kip1\n"
     ]
    }
   ],
   "source": [
    "g.test()"
   ]
  },
  {
   "cell_type": "code",
   "execution_count": 10,
   "id": "8f551cf7",
   "metadata": {},
   "outputs": [],
   "source": [
    "class xyz:\n",
    "    def __init__(self, a,b,c) :\n",
    "        self.a = a \n",
    "        self.b = b \n",
    "        self.c = c \n",
    "        \n",
    "    def test(self) : \n",
    "        print(\"this is a method of xyz class \")\n",
    "    \n",
    "class xyz1:\n",
    "    def __init__(self , p,q,v) :\n",
    "        self.p = p \n",
    "        self.q = q \n",
    "        self.v = v \n",
    "\n",
    "        \n",
    "    def test1(self) : \n",
    "        print(\"this is a method form class xyz1\")\n",
    "        \n",
    "class child(xyz1,xyz):\n",
    "    def __init__(self , *args):\n",
    "        xyz.__init__(self,*args) \n",
    "        xyz1.__init__(self,*args)\n",
    "    "
   ]
  },
  {
   "cell_type": "code",
   "execution_count": 11,
   "id": "6b446284",
   "metadata": {},
   "outputs": [],
   "source": [
    "n = child(4,5,6)"
   ]
  },
  {
   "cell_type": "code",
   "execution_count": 12,
   "id": "6fc3995d",
   "metadata": {},
   "outputs": [
    {
     "data": {
      "text/plain": [
       "4"
      ]
     },
     "execution_count": 12,
     "metadata": {},
     "output_type": "execute_result"
    }
   ],
   "source": [
    "n.p"
   ]
  },
  {
   "cell_type": "code",
   "execution_count": 13,
   "id": "c8d07e8a",
   "metadata": {},
   "outputs": [
    {
     "data": {
      "text/plain": [
       "6"
      ]
     },
     "execution_count": 13,
     "metadata": {},
     "output_type": "execute_result"
    }
   ],
   "source": [
    "n.v"
   ]
  },
  {
   "cell_type": "code",
   "execution_count": null,
   "id": "b2be39b5",
   "metadata": {},
   "outputs": [],
   "source": []
  },
  {
   "cell_type": "code",
   "execution_count": 14,
   "id": "dda8969c",
   "metadata": {},
   "outputs": [],
   "source": [
    "class xyz:\n",
    "    def __init__(self, a,b,c) :\n",
    "        self.a = a \n",
    "        self.b = b \n",
    "        self.c = c \n",
    "        \n",
    "    def test(self) : \n",
    "        print(\"this is a method of xyz class \")\n",
    "    \n",
    "class xyz1:\n",
    "    def __init__(self , p,q,v) :\n",
    "        self.p = p \n",
    "        self.q = q \n",
    "        self.v = v \n",
    "\n",
    "        \n",
    "    def test1(self) : \n",
    "        print(\"this is a method form class xyz1\")\n",
    "        \n",
    "class child(xyz1,xyz):\n",
    "    def __init__(self , *args ,**kwargs):\n",
    "        xyz.__init__(self,*args) \n",
    "        xyz1.__init__(self,**kwargs)\n",
    "    "
   ]
  },
  {
   "cell_type": "code",
   "execution_count": 15,
   "id": "5a03adf9",
   "metadata": {},
   "outputs": [
    {
     "ename": "TypeError",
     "evalue": "__init__() takes 4 positional arguments but 7 were given",
     "output_type": "error",
     "traceback": [
      "\u001b[1;31m---------------------------------------------------------------------------\u001b[0m",
      "\u001b[1;31mTypeError\u001b[0m                                 Traceback (most recent call last)",
      "\u001b[1;32m~\\AppData\\Local\\Temp\\ipykernel_11424\\3988969711.py\u001b[0m in \u001b[0;36m<module>\u001b[1;34m\u001b[0m\n\u001b[1;32m----> 1\u001b[1;33m \u001b[0mn\u001b[0m \u001b[1;33m=\u001b[0m \u001b[0mchild\u001b[0m\u001b[1;33m(\u001b[0m\u001b[1;36m4\u001b[0m\u001b[1;33m,\u001b[0m\u001b[1;36m5\u001b[0m\u001b[1;33m,\u001b[0m\u001b[1;36m6\u001b[0m\u001b[1;33m,\u001b[0m\u001b[1;36m7\u001b[0m\u001b[1;33m,\u001b[0m\u001b[1;36m8\u001b[0m\u001b[1;33m,\u001b[0m\u001b[1;36m9\u001b[0m\u001b[1;33m)\u001b[0m\u001b[1;33m\u001b[0m\u001b[1;33m\u001b[0m\u001b[0m\n\u001b[0m",
      "\u001b[1;32m~\\AppData\\Local\\Temp\\ipykernel_11424\\2602439854.py\u001b[0m in \u001b[0;36m__init__\u001b[1;34m(self, *args, **kwargs)\u001b[0m\n\u001b[0;32m     20\u001b[0m \u001b[1;32mclass\u001b[0m \u001b[0mchild\u001b[0m\u001b[1;33m(\u001b[0m\u001b[0mxyz1\u001b[0m\u001b[1;33m,\u001b[0m\u001b[0mxyz\u001b[0m\u001b[1;33m)\u001b[0m\u001b[1;33m:\u001b[0m\u001b[1;33m\u001b[0m\u001b[1;33m\u001b[0m\u001b[0m\n\u001b[0;32m     21\u001b[0m     \u001b[1;32mdef\u001b[0m \u001b[0m__init__\u001b[0m\u001b[1;33m(\u001b[0m\u001b[0mself\u001b[0m \u001b[1;33m,\u001b[0m \u001b[1;33m*\u001b[0m\u001b[0margs\u001b[0m \u001b[1;33m,\u001b[0m\u001b[1;33m**\u001b[0m\u001b[0mkwargs\u001b[0m\u001b[1;33m)\u001b[0m\u001b[1;33m:\u001b[0m\u001b[1;33m\u001b[0m\u001b[1;33m\u001b[0m\u001b[0m\n\u001b[1;32m---> 22\u001b[1;33m         \u001b[0mxyz\u001b[0m\u001b[1;33m.\u001b[0m\u001b[0m__init__\u001b[0m\u001b[1;33m(\u001b[0m\u001b[0mself\u001b[0m\u001b[1;33m,\u001b[0m\u001b[1;33m*\u001b[0m\u001b[0margs\u001b[0m\u001b[1;33m)\u001b[0m\u001b[1;33m\u001b[0m\u001b[1;33m\u001b[0m\u001b[0m\n\u001b[0m\u001b[0;32m     23\u001b[0m         \u001b[0mxyz1\u001b[0m\u001b[1;33m.\u001b[0m\u001b[0m__init__\u001b[0m\u001b[1;33m(\u001b[0m\u001b[0mself\u001b[0m\u001b[1;33m,\u001b[0m\u001b[1;33m**\u001b[0m\u001b[0mkwargs\u001b[0m\u001b[1;33m)\u001b[0m\u001b[1;33m\u001b[0m\u001b[1;33m\u001b[0m\u001b[0m\n\u001b[0;32m     24\u001b[0m \u001b[1;33m\u001b[0m\u001b[0m\n",
      "\u001b[1;31mTypeError\u001b[0m: __init__() takes 4 positional arguments but 7 were given"
     ]
    }
   ],
   "source": [
    "n = child(4,5,6,7,8,9)"
   ]
  },
  {
   "cell_type": "code",
   "execution_count": 16,
   "id": "104ea2a1",
   "metadata": {},
   "outputs": [],
   "source": [
    "n = child(4,5,6,p = 7, q = 8, v = 9)"
   ]
  },
  {
   "cell_type": "code",
   "execution_count": 17,
   "id": "645bbf39",
   "metadata": {},
   "outputs": [
    {
     "data": {
      "text/plain": [
       "7"
      ]
     },
     "execution_count": 17,
     "metadata": {},
     "output_type": "execute_result"
    }
   ],
   "source": [
    "n.p"
   ]
  },
  {
   "cell_type": "code",
   "execution_count": 18,
   "id": "8ac85254",
   "metadata": {},
   "outputs": [
    {
     "data": {
      "text/plain": [
       "8"
      ]
     },
     "execution_count": 18,
     "metadata": {},
     "output_type": "execute_result"
    }
   ],
   "source": [
    "n.q"
   ]
  },
  {
   "cell_type": "code",
   "execution_count": 19,
   "id": "edfc1efe",
   "metadata": {},
   "outputs": [
    {
     "name": "stdout",
     "output_type": "stream",
     "text": [
      "this is a method form class xyz1\n"
     ]
    }
   ],
   "source": [
    "n.test1()"
   ]
  },
  {
   "cell_type": "code",
   "execution_count": 20,
   "id": "b02bb28f",
   "metadata": {},
   "outputs": [
    {
     "name": "stdout",
     "output_type": "stream",
     "text": [
      "this is a method of xyz class \n"
     ]
    }
   ],
   "source": [
    "n.test()"
   ]
  },
  {
   "cell_type": "code",
   "execution_count": 21,
   "id": "f1894cef",
   "metadata": {},
   "outputs": [],
   "source": [
    "class xyz:\n",
    "    def __init__(self, a,b,c) :\n",
    "        self.a= a \n",
    "        self.b= b \n",
    "        self.c= c \n",
    "        \n",
    "        \n",
    "    def test(self) : \n",
    "        print(\"this is a meth of xyz class \")\n",
    "    \n",
    "class xyz1(xyz):\n",
    "        \n",
    "    def test1(self) : \n",
    "        print(\"this is a meth form class xyz1\")\n",
    "        \n",
    "class xyz2(xyz1) :\n",
    "    def test2(self) :\n",
    "        print(\"this is a meth form class xyz2\")\n",
    "\n",
    "class xyz3(xyz2):\n",
    "    def test3(self) : \n",
    "        print(\"this is my meth form class xyz3\")"
   ]
  },
  {
   "cell_type": "code",
   "execution_count": 22,
   "id": "f29cecc5",
   "metadata": {},
   "outputs": [
    {
     "ename": "TypeError",
     "evalue": "__init__() missing 3 required positional arguments: 'a', 'b', and 'c'",
     "output_type": "error",
     "traceback": [
      "\u001b[1;31m---------------------------------------------------------------------------\u001b[0m",
      "\u001b[1;31mTypeError\u001b[0m                                 Traceback (most recent call last)",
      "\u001b[1;32m~\\AppData\\Local\\Temp\\ipykernel_11424\\574278279.py\u001b[0m in \u001b[0;36m<module>\u001b[1;34m\u001b[0m\n\u001b[1;32m----> 1\u001b[1;33m \u001b[0mv\u001b[0m \u001b[1;33m=\u001b[0m \u001b[0mxyz2\u001b[0m\u001b[1;33m(\u001b[0m\u001b[1;33m)\u001b[0m\u001b[1;33m\u001b[0m\u001b[1;33m\u001b[0m\u001b[0m\n\u001b[0m",
      "\u001b[1;31mTypeError\u001b[0m: __init__() missing 3 required positional arguments: 'a', 'b', and 'c'"
     ]
    }
   ],
   "source": [
    "v = xyz2()"
   ]
  },
  {
   "cell_type": "code",
   "execution_count": 23,
   "id": "28d2743f",
   "metadata": {},
   "outputs": [],
   "source": [
    "v = xyz2(11,22,33)"
   ]
  },
  {
   "cell_type": "code",
   "execution_count": 24,
   "id": "e3691df1",
   "metadata": {},
   "outputs": [
    {
     "data": {
      "text/plain": [
       "22"
      ]
     },
     "execution_count": 24,
     "metadata": {},
     "output_type": "execute_result"
    }
   ],
   "source": [
    "v.b"
   ]
  },
  {
   "cell_type": "code",
   "execution_count": 25,
   "id": "89140726",
   "metadata": {},
   "outputs": [
    {
     "name": "stdout",
     "output_type": "stream",
     "text": [
      "this is a meth form class xyz2\n"
     ]
    }
   ],
   "source": [
    "v.test2()"
   ]
  },
  {
   "cell_type": "code",
   "execution_count": 26,
   "id": "24636dfe",
   "metadata": {},
   "outputs": [],
   "source": [
    "m = xyz3(44,55,66)"
   ]
  },
  {
   "cell_type": "code",
   "execution_count": 27,
   "id": "bfb4c881",
   "metadata": {},
   "outputs": [
    {
     "name": "stdout",
     "output_type": "stream",
     "text": [
      "this is my meth form class xyz3\n"
     ]
    }
   ],
   "source": [
    "m.test3()"
   ]
  },
  {
   "cell_type": "code",
   "execution_count": 28,
   "id": "97e89ca3",
   "metadata": {},
   "outputs": [
    {
     "data": {
      "text/plain": [
       "66"
      ]
     },
     "execution_count": 28,
     "metadata": {},
     "output_type": "execute_result"
    }
   ],
   "source": [
    "m.c"
   ]
  },
  {
   "cell_type": "code",
   "execution_count": 29,
   "id": "455eaa59",
   "metadata": {},
   "outputs": [
    {
     "name": "stdout",
     "output_type": "stream",
     "text": [
      "Inserted Lines .......\n"
     ]
    }
   ],
   "source": [
    "class readFile:\n",
    "    def __init__(self,fileObj, lines):\n",
    "        self.file = fileObj\n",
    "        self.lines = lines\n",
    "    def readFile(self):\n",
    "        file2=open(self.file,'r')\n",
    "        line=file2.readline()\n",
    "        while(line!=\"\"):\n",
    "            print(line)\n",
    "            line=file2.readline()\n",
    "\n",
    "    def writeFile(self):\n",
    "        content_write = open(self.file,'w')\n",
    "        content_write.writelines(lines)\n",
    "        content_write.close()\n",
    "        \n",
    "class readFile1(readFile):\n",
    "    def readFile1(self):\n",
    "        print(\"inheritance of readFile class\")\n",
    "\n",
    "file1 = r'test1.txt'\n",
    "lines = 'Inserted Lines .......'\n",
    "\n",
    "read_write = readFile1(file1,lines)\n",
    "read_write.writeFile()\n",
    "read_write.readFile()"
   ]
  },
  {
   "cell_type": "markdown",
   "id": "46c1e8a6",
   "metadata": {},
   "source": [
    "### Public, Private & Protected"
   ]
  },
  {
   "cell_type": "code",
   "execution_count": 30,
   "id": "68db73f9",
   "metadata": {},
   "outputs": [],
   "source": [
    "# Not available in Python as in Java"
   ]
  },
  {
   "cell_type": "code",
   "execution_count": 31,
   "id": "cae35e65",
   "metadata": {},
   "outputs": [],
   "source": [
    "class test:\n",
    "    def __init__(self, a, b, c):\n",
    "        self.a = a\n",
    "        self.b = b\n",
    "        self.c = c\n",
    "        \n",
    "u = test(4,5,6)\n",
    "        "
   ]
  },
  {
   "cell_type": "code",
   "execution_count": 32,
   "id": "f448185f",
   "metadata": {},
   "outputs": [
    {
     "data": {
      "text/plain": [
       "4"
      ]
     },
     "execution_count": 32,
     "metadata": {},
     "output_type": "execute_result"
    }
   ],
   "source": [
    "u.a"
   ]
  },
  {
   "cell_type": "code",
   "execution_count": 33,
   "id": "a70ecd3f",
   "metadata": {},
   "outputs": [],
   "source": [
    "class test:\n",
    "    def __init__(self, a, b, c):\n",
    "        self.a = a\n",
    "        self.b = b\n",
    "        self.c = c\n",
    "\n",
    "        class test1(test):\n",
    "            pass\n",
    "u = test(4,5,6)\n",
    "        "
   ]
  },
  {
   "cell_type": "code",
   "execution_count": 34,
   "id": "7357e390",
   "metadata": {},
   "outputs": [],
   "source": [
    "v = test(3,4,5) "
   ]
  },
  {
   "cell_type": "code",
   "execution_count": 35,
   "id": "e6bf9559",
   "metadata": {},
   "outputs": [
    {
     "data": {
      "text/plain": [
       "3"
      ]
     },
     "execution_count": 35,
     "metadata": {},
     "output_type": "execute_result"
    }
   ],
   "source": [
    "v.a"
   ]
  },
  {
   "cell_type": "code",
   "execution_count": 36,
   "id": "6f5b8c54",
   "metadata": {},
   "outputs": [],
   "source": [
    "class test:\n",
    "    def __init__(self):\n",
    "        self.a = 4\n",
    "      \n",
    "class test1(test):\n",
    "    pass\n",
    "u = test()"
   ]
  },
  {
   "cell_type": "code",
   "execution_count": 37,
   "id": "36c701ee",
   "metadata": {},
   "outputs": [
    {
     "data": {
      "text/plain": [
       "4"
      ]
     },
     "execution_count": 37,
     "metadata": {},
     "output_type": "execute_result"
    }
   ],
   "source": [
    "u.a"
   ]
  },
  {
   "cell_type": "code",
   "execution_count": 38,
   "id": "26228ce2",
   "metadata": {},
   "outputs": [],
   "source": [
    "v = test1()"
   ]
  },
  {
   "cell_type": "code",
   "execution_count": 39,
   "id": "2495d3fb",
   "metadata": {},
   "outputs": [
    {
     "data": {
      "text/plain": [
       "4"
      ]
     },
     "execution_count": 39,
     "metadata": {},
     "output_type": "execute_result"
    }
   ],
   "source": [
    "v.a"
   ]
  },
  {
   "cell_type": "code",
   "execution_count": 40,
   "id": "ae620abc",
   "metadata": {},
   "outputs": [],
   "source": [
    "class test:\n",
    "    def __init__(self):\n",
    "        self.a = 4\n",
    "      \n",
    "class test1(test):\n",
    "    def __init__(self):\n",
    "        self.a = 7\n",
    "    \n",
    "u = test()"
   ]
  },
  {
   "cell_type": "code",
   "execution_count": 41,
   "id": "5c8fe720",
   "metadata": {},
   "outputs": [
    {
     "data": {
      "text/plain": [
       "4"
      ]
     },
     "execution_count": 41,
     "metadata": {},
     "output_type": "execute_result"
    }
   ],
   "source": [
    "u.a"
   ]
  },
  {
   "cell_type": "code",
   "execution_count": 42,
   "id": "5164eefb",
   "metadata": {},
   "outputs": [],
   "source": [
    "v = test1()"
   ]
  },
  {
   "cell_type": "code",
   "execution_count": 43,
   "id": "3761f76d",
   "metadata": {},
   "outputs": [
    {
     "data": {
      "text/plain": [
       "7"
      ]
     },
     "execution_count": 43,
     "metadata": {},
     "output_type": "execute_result"
    }
   ],
   "source": [
    "v.a"
   ]
  },
  {
   "cell_type": "code",
   "execution_count": 44,
   "id": "8c128dea",
   "metadata": {},
   "outputs": [],
   "source": [
    "class test:\n",
    "    def __init__(self):\n",
    "        self.a = 4\n",
    "      \n",
    "class test1(test):\n",
    "    def __init__(self):\n",
    "        test.__init__(self)\n",
    "        self.a = 7\n",
    "        #self.a = 7\n",
    "    \n",
    "u = test()\n"
   ]
  },
  {
   "cell_type": "code",
   "execution_count": 45,
   "id": "4e55d5f3",
   "metadata": {},
   "outputs": [
    {
     "data": {
      "text/plain": [
       "4"
      ]
     },
     "execution_count": 45,
     "metadata": {},
     "output_type": "execute_result"
    }
   ],
   "source": [
    "u.a"
   ]
  },
  {
   "cell_type": "code",
   "execution_count": 46,
   "id": "fa5d1e9c",
   "metadata": {},
   "outputs": [],
   "source": [
    "v = test1()"
   ]
  },
  {
   "cell_type": "code",
   "execution_count": 47,
   "id": "ace28764",
   "metadata": {},
   "outputs": [
    {
     "data": {
      "text/plain": [
       "7"
      ]
     },
     "execution_count": 47,
     "metadata": {},
     "output_type": "execute_result"
    }
   ],
   "source": [
    "v.a"
   ]
  },
  {
   "cell_type": "code",
   "execution_count": 48,
   "id": "256b9434",
   "metadata": {},
   "outputs": [],
   "source": [
    "class test:\n",
    "    def __init__(self):\n",
    "        self._a = 4      # Add _ to make it a protected variable.\n",
    "      \n",
    "class test1(test):\n",
    "    def __init__(self):\n",
    "        self._a = 7\n",
    "    \n",
    "u = test()\n"
   ]
  },
  {
   "cell_type": "code",
   "execution_count": 49,
   "id": "0725ce7a",
   "metadata": {},
   "outputs": [
    {
     "ename": "AttributeError",
     "evalue": "'test' object has no attribute 'a'",
     "output_type": "error",
     "traceback": [
      "\u001b[1;31m---------------------------------------------------------------------------\u001b[0m",
      "\u001b[1;31mAttributeError\u001b[0m                            Traceback (most recent call last)",
      "\u001b[1;32m~\\AppData\\Local\\Temp\\ipykernel_11424\\1152367088.py\u001b[0m in \u001b[0;36m<module>\u001b[1;34m\u001b[0m\n\u001b[1;32m----> 1\u001b[1;33m \u001b[0mu\u001b[0m\u001b[1;33m.\u001b[0m\u001b[0ma\u001b[0m\u001b[1;33m\u001b[0m\u001b[1;33m\u001b[0m\u001b[0m\n\u001b[0m",
      "\u001b[1;31mAttributeError\u001b[0m: 'test' object has no attribute 'a'"
     ]
    }
   ],
   "source": [
    "u.a"
   ]
  },
  {
   "cell_type": "code",
   "execution_count": 50,
   "id": "0ec9dc25",
   "metadata": {},
   "outputs": [],
   "source": [
    "v = test1()"
   ]
  },
  {
   "cell_type": "code",
   "execution_count": 51,
   "id": "5596a261",
   "metadata": {},
   "outputs": [
    {
     "ename": "AttributeError",
     "evalue": "'test1' object has no attribute 'a'",
     "output_type": "error",
     "traceback": [
      "\u001b[1;31m---------------------------------------------------------------------------\u001b[0m",
      "\u001b[1;31mAttributeError\u001b[0m                            Traceback (most recent call last)",
      "\u001b[1;32m~\\AppData\\Local\\Temp\\ipykernel_11424\\3524926159.py\u001b[0m in \u001b[0;36m<module>\u001b[1;34m\u001b[0m\n\u001b[1;32m----> 1\u001b[1;33m \u001b[0mv\u001b[0m\u001b[1;33m.\u001b[0m\u001b[0ma\u001b[0m\u001b[1;33m\u001b[0m\u001b[1;33m\u001b[0m\u001b[0m\n\u001b[0m",
      "\u001b[1;31mAttributeError\u001b[0m: 'test1' object has no attribute 'a'"
     ]
    }
   ],
   "source": [
    "v.a"
   ]
  },
  {
   "cell_type": "code",
   "execution_count": 52,
   "id": "a6296fa2",
   "metadata": {},
   "outputs": [
    {
     "data": {
      "text/plain": [
       "4"
      ]
     },
     "execution_count": 52,
     "metadata": {},
     "output_type": "execute_result"
    }
   ],
   "source": [
    "u._a"
   ]
  },
  {
   "cell_type": "code",
   "execution_count": 53,
   "id": "9a7fe777",
   "metadata": {},
   "outputs": [
    {
     "data": {
      "text/plain": [
       "7"
      ]
     },
     "execution_count": 53,
     "metadata": {},
     "output_type": "execute_result"
    }
   ],
   "source": [
    "v._a"
   ]
  },
  {
   "cell_type": "code",
   "execution_count": 54,
   "id": "177f0943",
   "metadata": {},
   "outputs": [],
   "source": [
    "class test:\n",
    "    def __init__(self):\n",
    "        self.__a = 4      # Add __ (Double Underscore) to make it a protected variable.\n",
    "      \n",
    "class test1(test):\n",
    "    def __init__(self):\n",
    "        self.__a = 7\n",
    "    \n",
    "u = test()"
   ]
  },
  {
   "cell_type": "code",
   "execution_count": 55,
   "id": "3c993f19",
   "metadata": {},
   "outputs": [
    {
     "ename": "AttributeError",
     "evalue": "'test' object has no attribute '__a'",
     "output_type": "error",
     "traceback": [
      "\u001b[1;31m---------------------------------------------------------------------------\u001b[0m",
      "\u001b[1;31mAttributeError\u001b[0m                            Traceback (most recent call last)",
      "\u001b[1;32m~\\AppData\\Local\\Temp\\ipykernel_11424\\3701111835.py\u001b[0m in \u001b[0;36m<module>\u001b[1;34m\u001b[0m\n\u001b[1;32m----> 1\u001b[1;33m \u001b[0mu\u001b[0m\u001b[1;33m.\u001b[0m\u001b[0m__a\u001b[0m\u001b[1;33m\u001b[0m\u001b[1;33m\u001b[0m\u001b[0m\n\u001b[0m",
      "\u001b[1;31mAttributeError\u001b[0m: 'test' object has no attribute '__a'"
     ]
    }
   ],
   "source": [
    "u.__a"
   ]
  },
  {
   "cell_type": "code",
   "execution_count": 56,
   "id": "9dc52db8",
   "metadata": {},
   "outputs": [],
   "source": [
    "class test:\n",
    "    def __init__(self, a, b, c):\n",
    "        self.a = a\n",
    "        self.b = b\n",
    "        self.c = c\n",
    "        \n",
    "v = test(7,8,9)"
   ]
  },
  {
   "cell_type": "code",
   "execution_count": 57,
   "id": "036a8d59",
   "metadata": {},
   "outputs": [
    {
     "data": {
      "text/plain": [
       "7"
      ]
     },
     "execution_count": 57,
     "metadata": {},
     "output_type": "execute_result"
    }
   ],
   "source": [
    "v.a"
   ]
  },
  {
   "cell_type": "code",
   "execution_count": 64,
   "id": "35b8f429",
   "metadata": {},
   "outputs": [],
   "source": [
    "class test:\n",
    "    def __init__(self, a, b, c):\n",
    "        self._a = a      # _ protected\n",
    "        self.__b = b     # __ private\n",
    "        self.c = c       # No _ public\n",
    "\n",
    "class test1(test):\n",
    "    pass\n",
    "\n",
    "v = test(7,8,9)"
   ]
  },
  {
   "cell_type": "code",
   "execution_count": 65,
   "id": "55bdfe4a",
   "metadata": {},
   "outputs": [
    {
     "data": {
      "text/plain": [
       "7"
      ]
     },
     "execution_count": 65,
     "metadata": {},
     "output_type": "execute_result"
    }
   ],
   "source": [
    "v._a"
   ]
  },
  {
   "cell_type": "code",
   "execution_count": 66,
   "id": "bb5ae4e0",
   "metadata": {},
   "outputs": [
    {
     "ename": "AttributeError",
     "evalue": "'test' object has no attribute '__b'",
     "output_type": "error",
     "traceback": [
      "\u001b[1;31m---------------------------------------------------------------------------\u001b[0m",
      "\u001b[1;31mAttributeError\u001b[0m                            Traceback (most recent call last)",
      "\u001b[1;32m~\\AppData\\Local\\Temp\\ipykernel_11424\\2806812484.py\u001b[0m in \u001b[0;36m<module>\u001b[1;34m\u001b[0m\n\u001b[1;32m----> 1\u001b[1;33m \u001b[0mv\u001b[0m\u001b[1;33m.\u001b[0m\u001b[0m__b\u001b[0m\u001b[1;33m\u001b[0m\u001b[1;33m\u001b[0m\u001b[0m\n\u001b[0m",
      "\u001b[1;31mAttributeError\u001b[0m: 'test' object has no attribute '__b'"
     ]
    }
   ],
   "source": [
    "v.__b"
   ]
  },
  {
   "cell_type": "code",
   "execution_count": 67,
   "id": "36dfdfd5",
   "metadata": {},
   "outputs": [
    {
     "data": {
      "text/plain": [
       "8"
      ]
     },
     "execution_count": 67,
     "metadata": {},
     "output_type": "execute_result"
    }
   ],
   "source": [
    "v._test__b"
   ]
  },
  {
   "cell_type": "code",
   "execution_count": 68,
   "id": "bf5887ee",
   "metadata": {},
   "outputs": [
    {
     "data": {
      "text/plain": [
       "9"
      ]
     },
     "execution_count": 68,
     "metadata": {},
     "output_type": "execute_result"
    }
   ],
   "source": [
    "v.c"
   ]
  },
  {
   "cell_type": "code",
   "execution_count": 69,
   "id": "8a1ec9d7",
   "metadata": {},
   "outputs": [],
   "source": [
    "u = test1(3,4,7)"
   ]
  },
  {
   "cell_type": "code",
   "execution_count": 70,
   "id": "b3bec487",
   "metadata": {},
   "outputs": [
    {
     "data": {
      "text/plain": [
       "7"
      ]
     },
     "execution_count": 70,
     "metadata": {},
     "output_type": "execute_result"
    }
   ],
   "source": [
    "u.c"
   ]
  },
  {
   "cell_type": "code",
   "execution_count": 71,
   "id": "4200385d",
   "metadata": {},
   "outputs": [
    {
     "ename": "AttributeError",
     "evalue": "'test1' object has no attribute 'a'",
     "output_type": "error",
     "traceback": [
      "\u001b[1;31m---------------------------------------------------------------------------\u001b[0m",
      "\u001b[1;31mAttributeError\u001b[0m                            Traceback (most recent call last)",
      "\u001b[1;32m~\\AppData\\Local\\Temp\\ipykernel_11424\\1152367088.py\u001b[0m in \u001b[0;36m<module>\u001b[1;34m\u001b[0m\n\u001b[1;32m----> 1\u001b[1;33m \u001b[0mu\u001b[0m\u001b[1;33m.\u001b[0m\u001b[0ma\u001b[0m\u001b[1;33m\u001b[0m\u001b[1;33m\u001b[0m\u001b[0m\n\u001b[0m",
      "\u001b[1;31mAttributeError\u001b[0m: 'test1' object has no attribute 'a'"
     ]
    }
   ],
   "source": [
    "u.a"
   ]
  },
  {
   "cell_type": "code",
   "execution_count": 72,
   "id": "997d0478",
   "metadata": {},
   "outputs": [
    {
     "data": {
      "text/plain": [
       "3"
      ]
     },
     "execution_count": 72,
     "metadata": {},
     "output_type": "execute_result"
    }
   ],
   "source": [
    "u._a"
   ]
  },
  {
   "cell_type": "code",
   "execution_count": 73,
   "id": "d37611f4",
   "metadata": {},
   "outputs": [
    {
     "ename": "AttributeError",
     "evalue": "'test1' object has no attribute '__b'",
     "output_type": "error",
     "traceback": [
      "\u001b[1;31m---------------------------------------------------------------------------\u001b[0m",
      "\u001b[1;31mAttributeError\u001b[0m                            Traceback (most recent call last)",
      "\u001b[1;32m~\\AppData\\Local\\Temp\\ipykernel_11424\\341573333.py\u001b[0m in \u001b[0;36m<module>\u001b[1;34m\u001b[0m\n\u001b[1;32m----> 1\u001b[1;33m \u001b[0mu\u001b[0m\u001b[1;33m.\u001b[0m\u001b[0m__b\u001b[0m\u001b[1;33m\u001b[0m\u001b[1;33m\u001b[0m\u001b[0m\n\u001b[0m",
      "\u001b[1;31mAttributeError\u001b[0m: 'test1' object has no attribute '__b'"
     ]
    }
   ],
   "source": [
    "u.__b"
   ]
  },
  {
   "cell_type": "code",
   "execution_count": 75,
   "id": "35eaf1ed",
   "metadata": {},
   "outputs": [
    {
     "ename": "AttributeError",
     "evalue": "'test1' object has no attribute '_test1__b'",
     "output_type": "error",
     "traceback": [
      "\u001b[1;31m---------------------------------------------------------------------------\u001b[0m",
      "\u001b[1;31mAttributeError\u001b[0m                            Traceback (most recent call last)",
      "\u001b[1;32m~\\AppData\\Local\\Temp\\ipykernel_11424\\4083783106.py\u001b[0m in \u001b[0;36m<module>\u001b[1;34m\u001b[0m\n\u001b[1;32m----> 1\u001b[1;33m \u001b[0mu\u001b[0m\u001b[1;33m.\u001b[0m\u001b[0m_test1__b\u001b[0m\u001b[1;33m\u001b[0m\u001b[1;33m\u001b[0m\u001b[0m\n\u001b[0m",
      "\u001b[1;31mAttributeError\u001b[0m: 'test1' object has no attribute '_test1__b'"
     ]
    }
   ],
   "source": [
    "u._test1__b    # But worked for v Parent class . Not working for child class"
   ]
  },
  {
   "cell_type": "code",
   "execution_count": 77,
   "id": "c295371f",
   "metadata": {},
   "outputs": [
    {
     "data": {
      "text/plain": [
       "8"
      ]
     },
     "execution_count": 77,
     "metadata": {},
     "output_type": "execute_result"
    }
   ],
   "source": [
    "v._test__b"
   ]
  },
  {
   "cell_type": "code",
   "execution_count": 83,
   "id": "f9709393",
   "metadata": {},
   "outputs": [],
   "source": [
    "class bonuscalculator:\n",
    "    def __init__(self, empid , emprating) :\n",
    "        self.empid = empid\n",
    "        self.emprating = emprating\n",
    "        self._empmail = \"fdsfsfssf@gmail.com\"\n",
    "        self.__bonusforratingA = \"70%\"\n",
    "        self.__bonusforratingB = \"60%\"\n",
    "        self.__bonusforratingC = \"40%\"\n",
    "    \n",
    "    def bonuscalculator(self) :\n",
    "        if self.emprating == \"A\":\n",
    "            bonus = self.__bonusforratingA\n",
    "            return bonus\n",
    "        elif self.emprating == \"B\" :\n",
    "            bonus = self.__bonusforratingB\n",
    "            return bonus\n",
    "        else :\n",
    "            bonus = self.__bonusforratingC\n",
    "            return bonus"
   ]
  },
  {
   "cell_type": "code",
   "execution_count": 88,
   "id": "1d54f954",
   "metadata": {},
   "outputs": [],
   "source": [
    "emp1 = bonuscalculator(101, \"A\")\n",
    "emp2 = bonuscalculator(102, \"B\")\n",
    "emp3 = bonuscalculator(103, \"C\")"
   ]
  },
  {
   "cell_type": "code",
   "execution_count": 85,
   "id": "1875cfb2",
   "metadata": {},
   "outputs": [
    {
     "data": {
      "text/plain": [
       "'70%'"
      ]
     },
     "execution_count": 85,
     "metadata": {},
     "output_type": "execute_result"
    }
   ],
   "source": [
    "emp1.bonuscalculator()"
   ]
  },
  {
   "cell_type": "code",
   "execution_count": 86,
   "id": "47d8e61a",
   "metadata": {},
   "outputs": [
    {
     "data": {
      "text/plain": [
       "'60%'"
      ]
     },
     "execution_count": 86,
     "metadata": {},
     "output_type": "execute_result"
    }
   ],
   "source": [
    "emp2.bonuscalculator()"
   ]
  },
  {
   "cell_type": "code",
   "execution_count": 87,
   "id": "c881a383",
   "metadata": {},
   "outputs": [
    {
     "data": {
      "text/plain": [
       "'40%'"
      ]
     },
     "execution_count": 87,
     "metadata": {},
     "output_type": "execute_result"
    }
   ],
   "source": [
    "emp3.bonuscalculator()"
   ]
  },
  {
   "cell_type": "code",
   "execution_count": 89,
   "id": "8bdac797",
   "metadata": {},
   "outputs": [],
   "source": [
    "emp1.empid = 104"
   ]
  },
  {
   "cell_type": "code",
   "execution_count": 90,
   "id": "95f4fed7",
   "metadata": {},
   "outputs": [
    {
     "data": {
      "text/plain": [
       "104"
      ]
     },
     "execution_count": 90,
     "metadata": {},
     "output_type": "execute_result"
    }
   ],
   "source": [
    "emp1.empid"
   ]
  },
  {
   "cell_type": "code",
   "execution_count": 91,
   "id": "ad1e39ba",
   "metadata": {},
   "outputs": [],
   "source": [
    "emp1.emprating = \"B\""
   ]
  },
  {
   "cell_type": "code",
   "execution_count": 92,
   "id": "4a1f4242",
   "metadata": {},
   "outputs": [
    {
     "data": {
      "text/plain": [
       "'60%'"
      ]
     },
     "execution_count": 92,
     "metadata": {},
     "output_type": "execute_result"
    }
   ],
   "source": [
    "emp1.bonuscalculator()"
   ]
  },
  {
   "cell_type": "code",
   "execution_count": 93,
   "id": "5b4f5bad",
   "metadata": {},
   "outputs": [],
   "source": [
    "emp1.bonusforratingB = \"90%\""
   ]
  },
  {
   "cell_type": "code",
   "execution_count": 95,
   "id": "dd3e114f",
   "metadata": {},
   "outputs": [
    {
     "data": {
      "text/plain": [
       "'60%'"
      ]
     },
     "execution_count": 95,
     "metadata": {},
     "output_type": "execute_result"
    }
   ],
   "source": [
    "emp1.bonuscalculator()"
   ]
  },
  {
   "cell_type": "code",
   "execution_count": 96,
   "id": "c509883c",
   "metadata": {},
   "outputs": [
    {
     "data": {
      "text/plain": [
       "'B'"
      ]
     },
     "execution_count": 96,
     "metadata": {},
     "output_type": "execute_result"
    }
   ],
   "source": [
    "emp2.emprating"
   ]
  },
  {
   "cell_type": "code",
   "execution_count": 97,
   "id": "80655cfa",
   "metadata": {},
   "outputs": [
    {
     "data": {
      "text/plain": [
       "'60%'"
      ]
     },
     "execution_count": 97,
     "metadata": {},
     "output_type": "execute_result"
    }
   ],
   "source": [
    "emp2.bonuscalculator()"
   ]
  },
  {
   "cell_type": "code",
   "execution_count": 98,
   "id": "cd8a4fb5",
   "metadata": {},
   "outputs": [],
   "source": [
    "emp2.onusforratingB = \"100%\""
   ]
  },
  {
   "cell_type": "code",
   "execution_count": 99,
   "id": "dbcac862",
   "metadata": {},
   "outputs": [
    {
     "data": {
      "text/plain": [
       "'60%'"
      ]
     },
     "execution_count": 99,
     "metadata": {},
     "output_type": "execute_result"
    }
   ],
   "source": [
    "emp2.bonuscalculator()"
   ]
  },
  {
   "cell_type": "code",
   "execution_count": 100,
   "id": "958c5fb5",
   "metadata": {},
   "outputs": [],
   "source": [
    "emp2.empid = 324"
   ]
  },
  {
   "cell_type": "code",
   "execution_count": 101,
   "id": "d0359417",
   "metadata": {},
   "outputs": [
    {
     "data": {
      "text/plain": [
       "324"
      ]
     },
     "execution_count": 101,
     "metadata": {},
     "output_type": "execute_result"
    }
   ],
   "source": [
    "emp2.empid"
   ]
  },
  {
   "cell_type": "code",
   "execution_count": 103,
   "id": "3d0d0492",
   "metadata": {},
   "outputs": [],
   "source": [
    "emp2.__bonusforratingB = \"wuery\""
   ]
  },
  {
   "cell_type": "code",
   "execution_count": 104,
   "id": "33d71a49",
   "metadata": {},
   "outputs": [],
   "source": [
    "emp2._bonuscalculator__bonusforratingB = \"420\""
   ]
  },
  {
   "cell_type": "code",
   "execution_count": 105,
   "id": "2d6ca32e",
   "metadata": {},
   "outputs": [
    {
     "data": {
      "text/plain": [
       "'420'"
      ]
     },
     "execution_count": 105,
     "metadata": {},
     "output_type": "execute_result"
    }
   ],
   "source": [
    "emp2._bonuscalculator__bonusforratingB "
   ]
  },
  {
   "cell_type": "code",
   "execution_count": 106,
   "id": "bd70c854",
   "metadata": {},
   "outputs": [
    {
     "data": {
      "text/plain": [
       "'fdsfsfssf@gmail.com'"
      ]
     },
     "execution_count": 106,
     "metadata": {},
     "output_type": "execute_result"
    }
   ],
   "source": [
    "emp1._empmail"
   ]
  },
  {
   "cell_type": "code",
   "execution_count": 107,
   "id": "b4b38694",
   "metadata": {},
   "outputs": [],
   "source": [
    "emp1._empmail = \"rqeqwrq@gmail.com\""
   ]
  },
  {
   "cell_type": "code",
   "execution_count": 108,
   "id": "f0dfaf3c",
   "metadata": {},
   "outputs": [
    {
     "data": {
      "text/plain": [
       "'rqeqwrq@gmail.com'"
      ]
     },
     "execution_count": 108,
     "metadata": {},
     "output_type": "execute_result"
    }
   ],
   "source": [
    "emp1._empmail"
   ]
  },
  {
   "cell_type": "code",
   "execution_count": null,
   "id": "6b34af6c",
   "metadata": {},
   "outputs": [],
   "source": []
  },
  {
   "cell_type": "code",
   "execution_count": null,
   "id": "88f14423",
   "metadata": {},
   "outputs": [],
   "source": []
  },
  {
   "cell_type": "markdown",
   "id": "83b6331f",
   "metadata": {},
   "source": [
    "### Sololearn Exercise "
   ]
  },
  {
   "cell_type": "code",
   "execution_count": 116,
   "id": "7e7a99e9",
   "metadata": {},
   "outputs": [
    {
     "name": "stdout",
     "output_type": "stream",
     "text": [
      "enter list:[0,0,0,0,0,1,1,1,1,1,1,1,1,2,2,2,2,3,3,3]\n",
      "The mean of the given list is : 1.25\n"
     ]
    }
   ],
   "source": [
    "lst = eval(input(\"enter list:\"))\n",
    "length = len(lst)\n",
    "\n",
    "mean = sum = 0\n",
    "for i in range (0, length):\n",
    "        sum+=lst[i]\n",
    "\n",
    "mean = sum / length\n",
    "print(\"The mean of the given list is :\",mean)"
   ]
  },
  {
   "cell_type": "code",
   "execution_count": 117,
   "id": "bd7d82e2",
   "metadata": {},
   "outputs": [
    {
     "name": "stdout",
     "output_type": "stream",
     "text": [
      "The mean of the given list is : 1.25\n"
     ]
    }
   ],
   "source": [
    "vac_nums = [0,0,0,0,0,\n",
    "            1,1,1,1,1,1,1,1,\n",
    "            2,2,2,2,\n",
    "            3,3,3\n",
    "            ]\n",
    "\n",
    "lst = vac_nums\n",
    "length = len(lst)\n",
    "\n",
    "mean = sum = 0\n",
    "for i in range (0, length):\n",
    "        sum+=lst[i]\n",
    "\n",
    "mean = sum / length\n",
    "print(\"The mean of the given list is :\",mean)"
   ]
  },
  {
   "cell_type": "code",
   "execution_count": 118,
   "id": "d30527d3",
   "metadata": {},
   "outputs": [
    {
     "name": "stdout",
     "output_type": "stream",
     "text": [
      "mean number of times those people have been vaccinated : 1.25\n"
     ]
    }
   ],
   "source": [
    "vac_nums = [0,0,0,0,0,\n",
    "            1,1,1,1,1,1,1,1,\n",
    "            2,2,2,2,\n",
    "            3,3,3\n",
    "            ]\n",
    "\n",
    "\n",
    "length = len(vac_nums)\n",
    "\n",
    "mean = sum = 0\n",
    "for i in range (0, length):\n",
    "        sum+=vac_nums[i]\n",
    "\n",
    "mean = sum / length\n",
    "print(\"mean number of times those people have been vaccinated :\",mean)"
   ]
  },
  {
   "cell_type": "code",
   "execution_count": 123,
   "id": "6d8d8c0c",
   "metadata": {},
   "outputs": [
    {
     "name": "stdout",
     "output_type": "stream",
     "text": [
      "0.9875\n"
     ]
    }
   ],
   "source": [
    "import numpy as np\n",
    "a = np.array([0,0,0,0,0,1,1,1,1,1,1,1,1,2,2,2,2,3,3,3])\n",
    "\n",
    "mean = np.sum(a)/a.size\n",
    "variance = np.sum((a-mean)**2)/a.size\n",
    "print (variance)"
   ]
  },
  {
   "cell_type": "code",
   "execution_count": null,
   "id": "3499fd71",
   "metadata": {},
   "outputs": [],
   "source": []
  }
 ],
 "metadata": {
  "kernelspec": {
   "display_name": "Python 3 (ipykernel)",
   "language": "python",
   "name": "python3"
  },
  "language_info": {
   "codemirror_mode": {
    "name": "ipython",
    "version": 3
   },
   "file_extension": ".py",
   "mimetype": "text/x-python",
   "name": "python",
   "nbconvert_exporter": "python",
   "pygments_lexer": "ipython3",
   "version": "3.9.13"
  }
 },
 "nbformat": 4,
 "nbformat_minor": 5
}
