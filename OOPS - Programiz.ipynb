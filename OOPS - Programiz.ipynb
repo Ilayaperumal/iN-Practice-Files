{
 "cells": [
  {
   "cell_type": "code",
   "execution_count": 1,
   "id": "35443dbd",
   "metadata": {},
   "outputs": [
    {
     "name": "stdout",
     "output_type": "stream",
     "text": [
      "Ilaya\n",
      "85\n"
     ]
    }
   ],
   "source": [
    "class student:\n",
    "    pass\n",
    "\n",
    "student1 = student()\n",
    "student1.name = \"Ilaya\"\n",
    "student1.marks = 85\n",
    "\n",
    "print(student1.name)\n",
    "print(student1.marks)"
   ]
  },
  {
   "cell_type": "code",
   "execution_count": 2,
   "id": "4377d6e9",
   "metadata": {},
   "outputs": [
    {
     "name": "stdout",
     "output_type": "stream",
     "text": [
      "True\n",
      "Ilaya\n",
      "85\n"
     ]
    }
   ],
   "source": [
    "class student:\n",
    "    def check_pass_fail(self):\n",
    "        if self.marks >=40:\n",
    "            return True\n",
    "        else:\n",
    "            return False\n",
    "    \n",
    "student1 = student()\n",
    "student1.name = \"Ilaya\"\n",
    "student1.marks = 85\n",
    "\n",
    "did_pass = student1.check_pass_fail()\n",
    "print(did_pass)\n",
    "print(student1.name)\n",
    "print(student1.marks)"
   ]
  },
  {
   "cell_type": "code",
   "execution_count": 3,
   "id": "26a7375b",
   "metadata": {},
   "outputs": [
    {
     "name": "stdout",
     "output_type": "stream",
     "text": [
      "False\n",
      "Ilaya\n",
      "25\n",
      "True\n",
      "Sahaana\n",
      "95\n"
     ]
    }
   ],
   "source": [
    "class student:\n",
    "    def check_pass_fail(self):\n",
    "        if self.marks >=40:\n",
    "            return True\n",
    "        else:\n",
    "            return False\n",
    "   \n",
    "\n",
    "student1 = student()\n",
    "student1.name = \"Ilaya\"\n",
    "student1.marks = 25\n",
    "\n",
    "did_pass = student1.check_pass_fail()\n",
    "print(did_pass)\n",
    "print(student1.name)\n",
    "print(student1.marks)\n",
    "\n",
    "student2 = student()\n",
    "student2.name = \"Sahaana\"\n",
    "student2.marks = 95\n",
    "\n",
    "did_pass = student2.check_pass_fail()\n",
    "print(did_pass)\n",
    "print(student2.name)\n",
    "print(student2.marks)"
   ]
  },
  {
   "cell_type": "markdown",
   "id": "02b0bac4",
   "metadata": {},
   "source": [
    "### __init__ method"
   ]
  },
  {
   "cell_type": "code",
   "execution_count": 4,
   "id": "9455f654",
   "metadata": {},
   "outputs": [
    {
     "name": "stdout",
     "output_type": "stream",
     "text": [
      "Ilaya\n",
      "25\n"
     ]
    }
   ],
   "source": [
    "class student:\n",
    "    def check_pass_fail(self):\n",
    "        if self.marks >=40:\n",
    "            return True\n",
    "        else:\n",
    "            return False\n",
    "    def __init__(self, name, marks):\n",
    "        self.name = name\n",
    "        self.marks = marks\n",
    "\n",
    "student1 = student(\"Ilaya\", 25)\n",
    "\n",
    "\n",
    "print(student1.name)\n",
    "print(student1.marks)"
   ]
  },
  {
   "cell_type": "code",
   "execution_count": 5,
   "id": "a07361ae",
   "metadata": {},
   "outputs": [
    {
     "name": "stdout",
     "output_type": "stream",
     "text": [
      "Ilaya\n",
      "25\n",
      "Sahaana 95\n"
     ]
    }
   ],
   "source": [
    "class student:\n",
    "    def check_pass_fail(self):\n",
    "        if self.marks >=40:\n",
    "            return True\n",
    "        else:\n",
    "            return False\n",
    "    def __init__(self, name, marks):\n",
    "        self.name = name\n",
    "        self.marks = marks\n",
    "\n",
    "student1 = student(\"Ilaya\", 25)\n",
    "student2 = student(\"Sahaana\", 95)\n",
    "\n",
    "print(student1.name)\n",
    "print(student1.marks)\n",
    "print(student2.name, student2.marks)\n"
   ]
  },
  {
   "cell_type": "code",
   "execution_count": 6,
   "id": "f30fa13f",
   "metadata": {},
   "outputs": [
    {
     "name": "stdout",
     "output_type": "stream",
     "text": [
      "False\n",
      "Ilaya 25\n",
      "True\n",
      "Sahaana 95\n"
     ]
    }
   ],
   "source": [
    "class student:\n",
    "    def check_pass_fail(self):\n",
    "        if self.marks >=40:\n",
    "            return True\n",
    "        else:\n",
    "            return False\n",
    "    def __init__(self, name, marks):\n",
    "        self.name = name\n",
    "        self.marks = marks\n",
    "\n",
    "student1 = student(\"Ilaya\", 25)\n",
    "student2 = student(\"Sahaana\", 95)\n",
    "\n",
    "did_pass = student1.check_pass_fail()\n",
    "print(did_pass)\n",
    "print(student1.name, student1.marks)\n",
    "\n",
    "did_pass = student2.check_pass_fail()\n",
    "print(did_pass)\n",
    "print(student2.name, student2.marks)\n"
   ]
  },
  {
   "cell_type": "code",
   "execution_count": 7,
   "id": "310996ed",
   "metadata": {},
   "outputs": [],
   "source": [
    "# Adding 2 complex numbers"
   ]
  },
  {
   "cell_type": "code",
   "execution_count": 8,
   "id": "a34485b5",
   "metadata": {},
   "outputs": [
    {
     "name": "stdout",
     "output_type": "stream",
     "text": [
      "real = 1\n",
      "imag = 8\n"
     ]
    }
   ],
   "source": [
    "class Complex:\n",
    "    def __init__(self, real, imag):\n",
    "        self.real = real\n",
    "        self.imag = imag\n",
    "        \n",
    "    def add(self, number):\n",
    "        real = self.real + number.real\n",
    "        imag = self.imag + number.imag\n",
    "        result = Complex(real, imag)\n",
    "        return result\n",
    "\n",
    "n1 = Complex(5,6)\n",
    "n2 = Complex(-4,2)\n",
    "result = n1.add(n2)\n",
    "print(\"real =\", result.real)\n",
    "print(\"imag =\", result.imag)"
   ]
  },
  {
   "cell_type": "code",
   "execution_count": 9,
   "id": "8a3ebdf2",
   "metadata": {},
   "outputs": [
    {
     "name": "stdout",
     "output_type": "stream",
     "text": [
      "Perimeter = 12\n"
     ]
    }
   ],
   "source": [
    "class Triangle:\n",
    "    def __init__ (self, a, b, c):\n",
    "        self.a = a\n",
    "        self.b = b\n",
    "        self.c = c\n",
    "        \n",
    "    def perimeter(self):\n",
    "        perimeter = (self.a + self.b + self.c)\n",
    "        return perimeter\n",
    "     \n",
    "\n",
    "t1 = Triangle(3,4,5)\n",
    "print (\"Perimeter =\",t1.perimeter())"
   ]
  },
  {
   "cell_type": "code",
   "execution_count": 10,
   "id": "4525044f",
   "metadata": {},
   "outputs": [
    {
     "name": "stdout",
     "output_type": "stream",
     "text": [
      "area =  24.0\n"
     ]
    }
   ],
   "source": [
    "import math\n",
    "class Triangle:\n",
    "    def __init__ (self, a, b, c):\n",
    "        self.a = a\n",
    "        self.b = b\n",
    "        self.c = c\n",
    "    def area(self):\n",
    "        s=(self.a + self.b + self.c) / 2\n",
    "        area = math.sqrt(s*(s-self.a)*(s-self.b)*(s-self.c))\n",
    "        return area\n",
    "\n",
    "t2 = Triangle(4,13,15)\n",
    "print ('area = ',t2.area())"
   ]
  },
  {
   "cell_type": "code",
   "execution_count": 11,
   "id": "410a2028",
   "metadata": {},
   "outputs": [
    {
     "name": "stdout",
     "output_type": "stream",
     "text": [
      "<class 'list'>\n",
      "<class 'int'>\n",
      "<class 'bool'>\n",
      "<class 'function'>\n"
     ]
    }
   ],
   "source": [
    "numbers = [1,4,5,6]\n",
    "print(type(numbers))\n",
    "\n",
    "n1 = 5\n",
    "print(type(n1))\n",
    "\n",
    "flag = True\n",
    "print(type(flag))\n",
    "\n",
    "def my_function():\n",
    "    pass\n",
    "print(type(my_function))\n"
   ]
  },
  {
   "cell_type": "code",
   "execution_count": 12,
   "id": "597b1a4b",
   "metadata": {},
   "outputs": [
    {
     "name": "stdout",
     "output_type": "stream",
     "text": [
      "['__add__', '__class__', '__class_getitem__', '__contains__', '__delattr__', '__delitem__', '__dir__', '__doc__', '__eq__', '__format__', '__ge__', '__getattribute__', '__getitem__', '__gt__', '__hash__', '__iadd__', '__imul__', '__init__', '__init_subclass__', '__iter__', '__le__', '__len__', '__lt__', '__mul__', '__ne__', '__new__', '__reduce__', '__reduce_ex__', '__repr__', '__reversed__', '__rmul__', '__setattr__', '__setitem__', '__sizeof__', '__str__', '__subclasshook__', 'append', 'clear', 'copy', 'count', 'extend', 'index', 'insert', 'pop', 'remove', 'reverse', 'sort']\n"
     ]
    }
   ],
   "source": [
    "numbers_list = [1,2]\n",
    "print(dir(numbers_list))"
   ]
  },
  {
   "cell_type": "code",
   "execution_count": 13,
   "id": "e08ef329",
   "metadata": {},
   "outputs": [
    {
     "name": "stdout",
     "output_type": "stream",
     "text": [
      "[1, 2, 3, 4]\n"
     ]
    }
   ],
   "source": [
    "numbers_list = [1,2]\n",
    "#print(dir(numbers_list))\n",
    "result = numbers_list.__add__([3,4])\n",
    "print(result)"
   ]
  },
  {
   "cell_type": "code",
   "execution_count": 14,
   "id": "fbf1ed24",
   "metadata": {},
   "outputs": [
    {
     "name": "stdout",
     "output_type": "stream",
     "text": [
      "[1, 2, 3, 4]\n"
     ]
    }
   ],
   "source": [
    "numbers_list = [1,2]\n",
    "#print(dir(numbers_list))\n",
    "#result = numbers_list.__add__([3,4])\n",
    "reslut = numbers_list + [3,4]\n",
    "print(result)"
   ]
  },
  {
   "cell_type": "code",
   "execution_count": 15,
   "id": "bd2c63dd",
   "metadata": {},
   "outputs": [
    {
     "name": "stdout",
     "output_type": "stream",
     "text": [
      "2033152387504\n",
      "2033152387568\n",
      "2033152387504\n",
      "2033152387568\n"
     ]
    }
   ],
   "source": [
    "number1 = 5\n",
    "print(id(number1))\n",
    "\n",
    "number2 = 7\n",
    "print(id(number2))\n",
    "\n",
    "number3 = 5\n",
    "print(id(number3))\n",
    "\n",
    "number4 = number2 \n",
    "print(id(number4))"
   ]
  },
  {
   "cell_type": "code",
   "execution_count": 16,
   "id": "535a42ed",
   "metadata": {},
   "outputs": [
    {
     "name": "stdout",
     "output_type": "stream",
     "text": [
      "a =  [1, 2, 3, 4]\n",
      "b =  [1, 2, 3, 4]\n"
     ]
    }
   ],
   "source": [
    "a = [1,2,3]\n",
    "b = a\n",
    "\n",
    "a.append(4)\n",
    "\n",
    "print(\"a = \", a)\n",
    "print(\"b = \", b)"
   ]
  },
  {
   "cell_type": "code",
   "execution_count": 17,
   "id": "5632b73e",
   "metadata": {},
   "outputs": [
    {
     "name": "stdout",
     "output_type": "stream",
     "text": [
      "a =  [1, 2, 3, 4]\n",
      "b =  [1, 2, 3]\n"
     ]
    }
   ],
   "source": [
    "a = [1,2,3]\n",
    "b = a.copy()\n",
    "\n",
    "a.append(4)\n",
    "\n",
    "print(\"a = \", a)\n",
    "print(\"b = \", b)"
   ]
  },
  {
   "cell_type": "markdown",
   "id": "8c7845cf",
   "metadata": {},
   "source": [
    "### Inheritance"
   ]
  },
  {
   "cell_type": "code",
   "execution_count": 18,
   "id": "88dddbad",
   "metadata": {},
   "outputs": [
    {
     "name": "stdout",
     "output_type": "stream",
     "text": [
      "I can bark\n"
     ]
    }
   ],
   "source": [
    "class Animal:\n",
    "    def eat(self):\n",
    "        print(\"I can eat\")\n",
    "\n",
    "class Dog(Animal):\n",
    "    def bark(self):\n",
    "                print(\"I can bark\")\n",
    "\n",
    "dog1 = Dog()\n",
    "dog1.bark()\n",
    "        "
   ]
  },
  {
   "cell_type": "code",
   "execution_count": 19,
   "id": "1cf929ec",
   "metadata": {},
   "outputs": [
    {
     "name": "stdout",
     "output_type": "stream",
     "text": [
      "I can eat\n"
     ]
    }
   ],
   "source": [
    "class Animal:\n",
    "    def eat(self):\n",
    "        print(\"I can eat\")\n",
    "\n",
    "class Dog(Animal):\n",
    "    def bark(self):\n",
    "        print(\"I can bark\")\n",
    "\n",
    "dog1 = Dog()\n",
    "dog1.eat()\n",
    "        "
   ]
  },
  {
   "cell_type": "code",
   "execution_count": 20,
   "id": "547db87a",
   "metadata": {},
   "outputs": [
    {
     "name": "stdout",
     "output_type": "stream",
     "text": [
      "I can bark\n",
      "I can eat\n"
     ]
    }
   ],
   "source": [
    "class Animal:\n",
    "    def eat(self):\n",
    "        print(\"I can eat\")\n",
    "\n",
    "class Dog(Animal):\n",
    "    def bark(self):\n",
    "        print(\"I can bark\")\n",
    "\n",
    "dog1 = Dog()\n",
    "dog1.bark()\n",
    "dog1.eat()"
   ]
  },
  {
   "cell_type": "code",
   "execution_count": 21,
   "id": "dce4cd11",
   "metadata": {},
   "outputs": [
    {
     "name": "stdout",
     "output_type": "stream",
     "text": [
      "I can bark\n",
      "I can eat\n",
      "I am getting crumpy\n",
      "I can eat\n"
     ]
    }
   ],
   "source": [
    "class Animal:\n",
    "    def eat(self):\n",
    "        print(\"I can eat\")\n",
    "\n",
    "class Dog(Animal):\n",
    "    def bark(self):\n",
    "        print(\"I can bark\")\n",
    "            \n",
    "class Cat(Animal):\n",
    "     def get_crumpy(self):\n",
    "        print(\"I am getting crumpy\")    \n",
    "\n",
    "dog1 = Dog()\n",
    "dog1.bark()\n",
    "dog1.eat()\n",
    "cat1 = Cat()\n",
    "cat1.get_crumpy()\n",
    "cat1.eat()"
   ]
  },
  {
   "cell_type": "code",
   "execution_count": 22,
   "id": "de5ab12c",
   "metadata": {},
   "outputs": [
    {
     "name": "stdout",
     "output_type": "stream",
     "text": [
      "I can bark\n",
      "I can eat\n",
      "I am getting crumpy\n",
      "I can eat\n"
     ]
    },
    {
     "ename": "AttributeError",
     "evalue": "'Cat' object has no attribute 'bark'",
     "output_type": "error",
     "traceback": [
      "\u001b[1;31m---------------------------------------------------------------------------\u001b[0m",
      "\u001b[1;31mAttributeError\u001b[0m                            Traceback (most recent call last)",
      "\u001b[1;32m~\\AppData\\Local\\Temp\\ipykernel_16936\\2991374628.py\u001b[0m in \u001b[0;36m<module>\u001b[1;34m\u001b[0m\n\u001b[0;32m     17\u001b[0m \u001b[0mcat1\u001b[0m\u001b[1;33m.\u001b[0m\u001b[0mget_crumpy\u001b[0m\u001b[1;33m(\u001b[0m\u001b[1;33m)\u001b[0m\u001b[1;33m\u001b[0m\u001b[1;33m\u001b[0m\u001b[0m\n\u001b[0;32m     18\u001b[0m \u001b[0mcat1\u001b[0m\u001b[1;33m.\u001b[0m\u001b[0meat\u001b[0m\u001b[1;33m(\u001b[0m\u001b[1;33m)\u001b[0m\u001b[1;33m\u001b[0m\u001b[1;33m\u001b[0m\u001b[0m\n\u001b[1;32m---> 19\u001b[1;33m \u001b[0mcat1\u001b[0m\u001b[1;33m.\u001b[0m\u001b[0mbark\u001b[0m\u001b[1;33m(\u001b[0m\u001b[1;33m)\u001b[0m\u001b[1;33m\u001b[0m\u001b[1;33m\u001b[0m\u001b[0m\n\u001b[0m",
      "\u001b[1;31mAttributeError\u001b[0m: 'Cat' object has no attribute 'bark'"
     ]
    }
   ],
   "source": [
    "class Animal:\n",
    "    def eat(self):\n",
    "        print(\"I can eat\")\n",
    "\n",
    "class Dog(Animal):\n",
    "    def bark(self):\n",
    "        print(\"I can bark\")\n",
    "            \n",
    "class Cat(Animal):\n",
    "     def get_crumpy(self):\n",
    "        print(\"I am getting crumpy\")    \n",
    "\n",
    "dog1 = Dog()\n",
    "dog1.bark()\n",
    "dog1.eat()\n",
    "cat1 = Cat()\n",
    "cat1.get_crumpy()\n",
    "cat1.eat()\n",
    "cat1.bark()"
   ]
  },
  {
   "cell_type": "markdown",
   "id": "fcd657d2",
   "metadata": {},
   "source": [
    "### Inheritance with Method Overriding"
   ]
  },
  {
   "cell_type": "code",
   "execution_count": 23,
   "id": "7667b17f",
   "metadata": {},
   "outputs": [
    {
     "name": "stdout",
     "output_type": "stream",
     "text": [
      "The perimeter is = 18\n",
      "The perimeter is = 27\n"
     ]
    }
   ],
   "source": [
    "class Polygon:\n",
    "    def __init__ (self, sides):\n",
    "        self.sides = sides\n",
    "        \n",
    "    def display_info(self):\n",
    "        print (\"A Polygon is a 2D shape with straignt lines\")\n",
    "        \n",
    "    def get_perimeter(self):\n",
    "        perimeter = sum(self.sides)\n",
    "        return perimeter\n",
    "    \n",
    "class Triangle(Polygon):\n",
    "    def display_info(self):\n",
    "        print (\"A triangle is a polygon with 3 edges\")\n",
    "        \n",
    "class Quadrilateral(Polygon):\n",
    "    def display_info(self):\n",
    "        print (\"A Quadrilateral is a polygon with 4 edges\")\n",
    "        \n",
    "t1 = Triangle([5,6,7])\n",
    "perimeter = t1.get_perimeter()\n",
    "print(\"The perimeter is =\", perimeter)\n",
    "\n",
    "q1 = Quadrilateral([5,6,7,9])\n",
    "perimeter = q1.get_perimeter()\n",
    "print(\"The perimeter is =\", perimeter)\n",
    "        "
   ]
  },
  {
   "cell_type": "code",
   "execution_count": 24,
   "id": "d20e82c9",
   "metadata": {},
   "outputs": [
    {
     "name": "stdout",
     "output_type": "stream",
     "text": [
      "The perimeter is = 18\n",
      "The perimeter is = 27\n",
      "A triangle is a polygon with 3 edges\n"
     ]
    }
   ],
   "source": [
    "class Polygon:\n",
    "    def __init__ (self, sides):\n",
    "        self.sides = sides\n",
    "        \n",
    "    def display_info(self):\n",
    "        print (\"A Polygon is a 2D shape with straignt lines\")\n",
    "        \n",
    "    def get_perimeter(self):\n",
    "        perimeter = sum(self.sides)\n",
    "        return perimeter\n",
    "    \n",
    "class Triangle(Polygon):\n",
    "    def display_info(self):\n",
    "        print (\"A triangle is a polygon with 3 edges\")\n",
    "        \n",
    "class Quadrilateral(Polygon):\n",
    "    def display_info(self):\n",
    "        print (\"A Quadrilateral is a polygon with 4 edges\")\n",
    "        \n",
    "t1 = Triangle([5,6,7])\n",
    "perimeter = t1.get_perimeter()\n",
    "print(\"The perimeter is =\", perimeter)\n",
    "\n",
    "q1 = Quadrilateral([5,6,7,9])\n",
    "perimeter = q1.get_perimeter()\n",
    "print(\"The perimeter is =\", perimeter)\n",
    "t1.display_info()        "
   ]
  },
  {
   "cell_type": "code",
   "execution_count": 25,
   "id": "113383a4",
   "metadata": {},
   "outputs": [],
   "source": [
    "# If the same method is defined in both base and derived classes, then the method in the derived class overrides the mehtod of the base class."
   ]
  },
  {
   "cell_type": "code",
   "execution_count": 26,
   "id": "5f831676",
   "metadata": {},
   "outputs": [
    {
     "name": "stdout",
     "output_type": "stream",
     "text": [
      "The perimeter is = 18\n",
      "The perimeter is = 27\n",
      "A triangle is a polygon with 3 edges\n",
      "A Polygon is a 2D shape with straignt lines\n"
     ]
    }
   ],
   "source": [
    "class Polygon:\n",
    "    def __init__ (self, sides):\n",
    "        self.sides = sides\n",
    "        \n",
    "    def display_info(self):\n",
    "        print (\"A Polygon is a 2D shape with straignt lines\")\n",
    "        \n",
    "    def get_perimeter(self):\n",
    "        perimeter = sum(self.sides)\n",
    "        return perimeter\n",
    "    \n",
    "class Triangle(Polygon):\n",
    "    def display_info(self):\n",
    "        print (\"A triangle is a polygon with 3 edges\")\n",
    "        Polygon.display_info(self)       # If the same method is defined in both base and derived classes, then the method in the derived class overrides the mehtod of the base class.\n",
    "        \n",
    "class Quadrilateral(Polygon):\n",
    "    def display_info(self):\n",
    "        print (\"A Quadrilateral is a polygon with 4 edges\")\n",
    "        \n",
    "t1 = Triangle([5,6,7])\n",
    "perimeter = t1.get_perimeter()\n",
    "print(\"The perimeter is =\", perimeter)\n",
    "\n",
    "q1 = Quadrilateral([5,6,7,9])\n",
    "perimeter = q1.get_perimeter()\n",
    "print(\"The perimeter is =\", perimeter)\n",
    "t1.display_info()        "
   ]
  },
  {
   "cell_type": "code",
   "execution_count": 27,
   "id": "a77f15ab",
   "metadata": {},
   "outputs": [
    {
     "name": "stdout",
     "output_type": "stream",
     "text": [
      "The perimeter is = 18\n",
      "The perimeter is = 27\n",
      "A triangle is a polygon with 3 edges\n",
      "A Polygon is a 2D shape with straignt lines\n"
     ]
    }
   ],
   "source": [
    "class Polygon:\n",
    "    def __init__ (self, sides):\n",
    "        self.sides = sides\n",
    "        \n",
    "    def display_info(self):\n",
    "        print (\"A Polygon is a 2D shape with straignt lines\")\n",
    "        \n",
    "    def get_perimeter(self):\n",
    "        perimeter = sum(self.sides)\n",
    "        return perimeter\n",
    "    \n",
    "class Triangle(Polygon):\n",
    "    def display_info(self):\n",
    "        print (\"A triangle is a polygon with 3 edges\")\n",
    "        super().display_info()  #super function     \n",
    "        \n",
    "class Quadrilateral(Polygon):\n",
    "    def display_info(self):\n",
    "        print (\"A Quadrilateral is a polygon with 4 edges\")\n",
    "        \n",
    "t1 = Triangle([5,6,7])\n",
    "perimeter = t1.get_perimeter()\n",
    "print(\"The perimeter is =\", perimeter)\n",
    "\n",
    "q1 = Quadrilateral([5,6,7,9])\n",
    "perimeter = q1.get_perimeter()\n",
    "print(\"The perimeter is =\", perimeter)\n",
    "t1.display_info()        "
   ]
  }
 ],
 "metadata": {
  "kernelspec": {
   "display_name": "Python 3 (ipykernel)",
   "language": "python",
   "name": "python3"
  },
  "language_info": {
   "codemirror_mode": {
    "name": "ipython",
    "version": 3
   },
   "file_extension": ".py",
   "mimetype": "text/x-python",
   "name": "python",
   "nbconvert_exporter": "python",
   "pygments_lexer": "ipython3",
   "version": "3.9.13"
  }
 },
 "nbformat": 4,
 "nbformat_minor": 5
}
