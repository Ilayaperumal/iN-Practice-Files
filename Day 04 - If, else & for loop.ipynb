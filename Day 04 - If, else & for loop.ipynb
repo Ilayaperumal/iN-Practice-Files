{
 "cells": [
  {
   "cell_type": "code",
   "execution_count": 1,
   "id": "14b901b8",
   "metadata": {},
   "outputs": [],
   "source": [
    "a = 10"
   ]
  },
  {
   "cell_type": "code",
   "execution_count": 2,
   "id": "50d9fdb4",
   "metadata": {},
   "outputs": [
    {
     "name": "stdout",
     "output_type": "stream",
     "text": [
      "My name is Ilaya\n"
     ]
    }
   ],
   "source": [
    "if a < 15: print (\"My name is Ilaya\")"
   ]
  },
  {
   "cell_type": "code",
   "execution_count": 3,
   "id": "552346cd",
   "metadata": {},
   "outputs": [
    {
     "data": {
      "text/plain": [
       "True"
      ]
     },
     "execution_count": 3,
     "metadata": {},
     "output_type": "execute_result"
    }
   ],
   "source": [
    "a < 15"
   ]
  },
  {
   "cell_type": "code",
   "execution_count": 4,
   "id": "e43f247f",
   "metadata": {},
   "outputs": [
    {
     "name": "stdout",
     "output_type": "stream",
     "text": [
      "My name is Sahaana\n"
     ]
    }
   ],
   "source": [
    "if a < 5: print (\"My name is Ilaya\")\n",
    "else: print (\"My name is Sahaana\")"
   ]
  },
  {
   "cell_type": "code",
   "execution_count": 5,
   "id": "75510a55",
   "metadata": {},
   "outputs": [
    {
     "name": "stdout",
     "output_type": "stream",
     "text": [
      "10 is greater than 3\n"
     ]
    }
   ],
   "source": [
    "if 10 < 3:\n",
    "    print (\"10 is less than 3\")\n",
    "else:\n",
    "      print (\"10 is greater than 3\")"
   ]
  },
  {
   "cell_type": "code",
   "execution_count": 6,
   "id": "8a599fff",
   "metadata": {},
   "outputs": [
    {
     "name": "stdout",
     "output_type": "stream",
     "text": [
      "I will be able to buy a Bike\n"
     ]
    }
   ],
   "source": [
    "income = 100\n",
    "if income > 90:\n",
    "    print (\"I will be able to buy a Bike\")\n",
    "elif income > 70:\n",
    "    print (\"I will be able to buy a Laptop\")\n",
    "elif income > 60:\n",
    "    print (\"I will be able to buy a Phone\")\n",
    "else:\n",
    "    print (\"I will not be able to buy anything\")"
   ]
  },
  {
   "cell_type": "code",
   "execution_count": 7,
   "id": "e94363b3",
   "metadata": {},
   "outputs": [
    {
     "name": "stdout",
     "output_type": "stream",
     "text": [
      "I will be able to buy a Phone\n"
     ]
    }
   ],
   "source": [
    "income = 100\n",
    "if income > 60:\n",
    "    print (\"I will be able to buy a Phone\")\n",
    "elif income > 70:\n",
    "    print (\"I will be able to buy a Laptop\")\n",
    "elif income > 90:\n",
    "    print (\"I will be able to buy a Bike\")\n",
    "else:\n",
    "    print (\"I will not be able to buy anything\")"
   ]
  },
  {
   "cell_type": "code",
   "execution_count": 8,
   "id": "6ee54b47",
   "metadata": {},
   "outputs": [
    {
     "name": "stdout",
     "output_type": "stream",
     "text": [
      "60\n",
      "I will not be able to buy anything\n"
     ]
    }
   ],
   "source": [
    "income = int(input())\n",
    "if income > 60:\n",
    "    print (\"I will be able to buy a Phone\")\n",
    "elif income > 70:\n",
    "    print (\"I will be able to buy a Laptop\")\n",
    "elif income > 90:\n",
    "    print (\"I will be able to buy a Bike\")\n",
    "else:\n",
    "    print (\"I will not be able to buy anything\")"
   ]
  },
  {
   "cell_type": "code",
   "execution_count": 9,
   "id": "da231993",
   "metadata": {},
   "outputs": [
    {
     "name": "stdout",
     "output_type": "stream",
     "text": [
      "10000\n",
      "Discount will be 2000.0\n"
     ]
    }
   ],
   "source": [
    "Total_Price = int (input())\n",
    "if Total_Price >= 10000:\n",
    "    Discount = Total_Price * 0.20\n",
    "    print(\"Discount will be\", Discount)\n",
    "elif Total_Price >= 5000:\n",
    "    Discount = Total_Price * 0.10\n",
    "    print(\"Discount will be\", Discount)\n",
    "else:\n",
    "   print(\"Discount will not be Applicable\")"
   ]
  },
  {
   "cell_type": "code",
   "execution_count": 10,
   "id": "39e3bc79",
   "metadata": {},
   "outputs": [
    {
     "name": "stdout",
     "output_type": "stream",
     "text": [
      "7500\n",
      "kindly enter a valid coupon code\n"
     ]
    }
   ],
   "source": [
    "coup = input()\n",
    "if coup == \"SUDH5\":\n",
    "    print(\"You will get a discount of 5%\")\n",
    "    amount_payable = 7000-7000*0.05\n",
    "    print(\"you will be able to get this one neuron course for\", amount_payable)\n",
    "else:\n",
    "    print(\"kindly enter a valid coupon code\")"
   ]
  },
  {
   "cell_type": "code",
   "execution_count": 11,
   "id": "a23a3ee0",
   "metadata": {},
   "outputs": [
    {
     "name": "stdout",
     "output_type": "stream",
     "text": [
      "4\n",
      "It may take 6 months to complete the course\n"
     ]
    }
   ],
   "source": [
    "study_hour = int(input())\n",
    "if study_hour < 2:\n",
    "    print (\"It may take 8 to 9 months to complete the course\")\n",
    "elif study_hour <= 4 and study_hour >= 2:\n",
    "    print (\"It may take 6 months to complete the course\")\n",
    "elif study_hour >= 5:\n",
    "    print (\"It may take 3 months to complete the course\")\n",
    "else:\n",
    "    print (\"It will be difficult to complete the course\")"
   ]
  },
  {
   "cell_type": "markdown",
   "id": "46579db7",
   "metadata": {},
   "source": [
    "# for "
   ]
  },
  {
   "cell_type": "code",
   "execution_count": 12,
   "id": "6dab722b",
   "metadata": {},
   "outputs": [
    {
     "name": "stdout",
     "output_type": "stream",
     "text": [
      "1\n",
      "2\n",
      "3\n",
      "4\n",
      "5\n",
      "6\n",
      "7\n"
     ]
    }
   ],
   "source": [
    "l = [1,2,3,4,5,6,7]\n",
    "for  i in l :\n",
    "    print(i)"
   ]
  },
  {
   "cell_type": "code",
   "execution_count": 13,
   "id": "f7d6e42b",
   "metadata": {},
   "outputs": [
    {
     "name": "stdout",
     "output_type": "stream",
     "text": [
      "I\n",
      "L\n",
      "A\n",
      "Y\n",
      "A\n"
     ]
    }
   ],
   "source": [
    "s = \"ILAYA\"\n",
    "for i in s:\n",
    "    print(i)"
   ]
  },
  {
   "cell_type": "code",
   "execution_count": 14,
   "id": "a601f33c",
   "metadata": {},
   "outputs": [
    {
     "name": "stdout",
     "output_type": "stream",
     "text": [
      "I\n",
      "L\n",
      "A\n",
      "Y\n",
      "A\n"
     ]
    }
   ],
   "source": [
    "for i in \"ILAYA\":\n",
    "    print(i)"
   ]
  },
  {
   "cell_type": "code",
   "execution_count": 15,
   "id": "62131db5",
   "metadata": {},
   "outputs": [],
   "source": [
    "l = [1,4,5,3.14,4+3j,\"ILAYA\"]"
   ]
  },
  {
   "cell_type": "code",
   "execution_count": 16,
   "id": "bb5dbcac",
   "metadata": {},
   "outputs": [
    {
     "name": "stdout",
     "output_type": "stream",
     "text": [
      "<class 'int'>\n",
      "<class 'int'>\n",
      "<class 'int'>\n",
      "<class 'float'>\n",
      "<class 'complex'>\n",
      "<class 'str'>\n"
     ]
    }
   ],
   "source": [
    "for i in l:\n",
    "    print(type(i))"
   ]
  },
  {
   "cell_type": "code",
   "execution_count": 17,
   "id": "a9d8b7cc",
   "metadata": {},
   "outputs": [
    {
     "name": "stdout",
     "output_type": "stream",
     "text": [
      "3\n",
      "6\n",
      "5.5\n"
     ]
    }
   ],
   "source": [
    "l = [1,4,3.5]\n",
    "for i in l:\n",
    "    print(i+2)"
   ]
  },
  {
   "cell_type": "code",
   "execution_count": 18,
   "id": "fb8e08b0",
   "metadata": {},
   "outputs": [
    {
     "name": "stdout",
     "output_type": "stream",
     "text": [
      "3\n",
      "6\n",
      "5.5\n"
     ]
    }
   ],
   "source": [
    "l = [1,4,3.5]\n",
    "l1=[]\n",
    "for i in l:\n",
    "    print(i+2)\n",
    "    l1.append(i+2)"
   ]
  },
  {
   "cell_type": "code",
   "execution_count": 19,
   "id": "f9a02734",
   "metadata": {},
   "outputs": [
    {
     "data": {
      "text/plain": [
       "[3, 6, 5.5]"
      ]
     },
     "execution_count": 19,
     "metadata": {},
     "output_type": "execute_result"
    }
   ],
   "source": [
    "l1"
   ]
  },
  {
   "cell_type": "code",
   "execution_count": 27,
   "id": "d87a39b7",
   "metadata": {},
   "outputs": [],
   "source": [
    "l = [3,45,65,\"ILAYA\", 3.14, 5+4j,[23,45,34,\"SAHAANA\"], 99]"
   ]
  },
  {
   "cell_type": "code",
   "execution_count": 21,
   "id": "b88607ed",
   "metadata": {},
   "outputs": [
    {
     "name": "stdout",
     "output_type": "stream",
     "text": [
      "3\n",
      "45\n",
      "65\n",
      "99\n"
     ]
    }
   ],
   "source": [
    "for i in l :\n",
    "    if type(i) == int:\n",
    "        print(i)"
   ]
  },
  {
   "cell_type": "code",
   "execution_count": 22,
   "id": "6eb79032",
   "metadata": {},
   "outputs": [
    {
     "data": {
      "text/plain": [
       "[3, 45, 65, 'ILAYA', 3.14, (5+4j), [23, 45, 34], 99]"
      ]
     },
     "execution_count": 22,
     "metadata": {},
     "output_type": "execute_result"
    }
   ],
   "source": [
    "l = [3, 45, 65, 'ILAYA', 3.14, (5+4j), [23, 45, 34], 99]\n",
    "# Q1 Print index of all elements\n",
    "# Q2 Extract all the list of character if element is string\n",
    "# Q3 To return a list after squaring of all the int elements"
   ]
  },
  {
   "cell_type": "code",
   "execution_count": 28,
   "id": "53f0880e",
   "metadata": {},
   "outputs": [
    {
     "name": "stdout",
     "output_type": "stream",
     "text": [
      "3\n",
      "45\n",
      "65\n",
      "23\n",
      "45\n",
      "34\n",
      "SAHAANA\n",
      "99\n"
     ]
    }
   ],
   "source": [
    "for i in l :\n",
    "    if type(i) == int:\n",
    "        print(i)\n",
    "    elif type(i) == list:\n",
    "        for j in i :\n",
    "            print(j)"
   ]
  },
  {
   "cell_type": "code",
   "execution_count": 29,
   "id": "5ff15f2b",
   "metadata": {},
   "outputs": [
    {
     "name": "stdout",
     "output_type": "stream",
     "text": [
      "3\n",
      "45\n",
      "65\n",
      "23\n",
      "45\n",
      "34\n",
      "99\n"
     ]
    }
   ],
   "source": [
    "for i in l :\n",
    "    if type(i) == int:\n",
    "        print(i)\n",
    "    elif type(i) == list:\n",
    "        for j in i :\n",
    "            if type(j) == int:\n",
    "                print(j)"
   ]
  },
  {
   "cell_type": "code",
   "execution_count": 30,
   "id": "5e83d2f3",
   "metadata": {},
   "outputs": [
    {
     "name": "stdout",
     "output_type": "stream",
     "text": [
      "index 0 for the element 3\n",
      "index 1 for the element 45\n",
      "index 2 for the element 65\n",
      "index 3 for the element ILAYA\n",
      "index 4 for the element 3.14\n",
      "index 5 for the element (5+4j)\n",
      "index 6 for the element [23, 45, 34, 'SAHAANA']\n",
      "index 7 for the element 99\n"
     ]
    }
   ],
   "source": [
    "for i in range(len(l)):\n",
    "    print(\"index\", i, \"for the element\",l[i])"
   ]
  },
  {
   "cell_type": "code",
   "execution_count": 31,
   "id": "085381f8",
   "metadata": {},
   "outputs": [
    {
     "data": {
      "text/plain": [
       "8"
      ]
     },
     "execution_count": 31,
     "metadata": {},
     "output_type": "execute_result"
    }
   ],
   "source": [
    "len(l)"
   ]
  },
  {
   "cell_type": "code",
   "execution_count": 32,
   "id": "ddf27299",
   "metadata": {},
   "outputs": [
    {
     "name": "stdout",
     "output_type": "stream",
     "text": [
      "(0, 3)\n",
      "(1, 45)\n",
      "(2, 65)\n",
      "(3, 'ILAYA')\n",
      "(4, 3.14)\n",
      "(5, (5+4j))\n",
      "(6, [23, 45, 34, 'SAHAANA'])\n",
      "(7, 99)\n"
     ]
    }
   ],
   "source": [
    "for i in enumerate(l):\n",
    "    print(i)"
   ]
  },
  {
   "cell_type": "code",
   "execution_count": 34,
   "id": "102d7859",
   "metadata": {},
   "outputs": [
    {
     "name": "stdout",
     "output_type": "stream",
     "text": [
      "0 3\n",
      "1 45\n",
      "2 65\n",
      "3 ILAYA\n",
      "4 3.14\n",
      "5 (5+4j)\n",
      "6 [23, 45, 34, 'SAHAANA']\n",
      "7 99\n"
     ]
    }
   ],
   "source": [
    "for i,j in enumerate(l):\n",
    "    print(i,j)"
   ]
  },
  {
   "cell_type": "code",
   "execution_count": null,
   "id": "642b5217",
   "metadata": {},
   "outputs": [],
   "source": [
    "# Q2 Extract all the list of character if element is string"
   ]
  },
  {
   "cell_type": "code",
   "execution_count": 41,
   "id": "f9f3ded3",
   "metadata": {},
   "outputs": [
    {
     "name": "stdout",
     "output_type": "stream",
     "text": [
      "['I', 'L', 'A', 'Y', 'A']\n"
     ]
    }
   ],
   "source": [
    "for i in l :\n",
    "    if type(i) == str :\n",
    "        l1 = []\n",
    "        for j in i :\n",
    "                l1.append(j)\n",
    "        print(l1)"
   ]
  },
  {
   "cell_type": "code",
   "execution_count": 1,
   "id": "b0f72608",
   "metadata": {},
   "outputs": [
    {
     "ename": "NameError",
     "evalue": "name 'l' is not defined",
     "output_type": "error",
     "traceback": [
      "\u001b[1;31m---------------------------------------------------------------------------\u001b[0m",
      "\u001b[1;31mNameError\u001b[0m                                 Traceback (most recent call last)",
      "Input \u001b[1;32mIn [1]\u001b[0m, in \u001b[0;36m<cell line: 2>\u001b[1;34m()\u001b[0m\n\u001b[0;32m      1\u001b[0m l2 \u001b[38;5;241m=\u001b[39m []\n\u001b[1;32m----> 2\u001b[0m \u001b[38;5;28;01mfor\u001b[39;00m i \u001b[38;5;129;01min\u001b[39;00m \u001b[43ml\u001b[49m:\n\u001b[0;32m      3\u001b[0m     \u001b[38;5;28;01mif\u001b[39;00m \u001b[38;5;28mtype\u001b[39m(i) \u001b[38;5;241m==\u001b[39m \u001b[38;5;28mint\u001b[39m:\n\u001b[0;32m      4\u001b[0m         l2\u001b[38;5;241m.\u001b[39mappend(i\u001b[38;5;241m*\u001b[39m\u001b[38;5;241m*\u001b[39m\u001b[38;5;241m2\u001b[39m)\n",
      "\u001b[1;31mNameError\u001b[0m: name 'l' is not defined"
     ]
    }
   ],
   "source": [
    "l2 = []\n",
    "for i in l:\n",
    "    if type(i) == int:\n",
    "        l2.append(i**2)"
   ]
  },
  {
   "cell_type": "code",
   "execution_count": 43,
   "id": "462e9fd6",
   "metadata": {},
   "outputs": [
    {
     "data": {
      "text/plain": [
       "[9, 2025, 4225, 9801]"
      ]
     },
     "execution_count": 43,
     "metadata": {},
     "output_type": "execute_result"
    }
   ],
   "source": [
    "l2"
   ]
  },
  {
   "cell_type": "code",
   "execution_count": null,
   "id": "ed4ae865",
   "metadata": {},
   "outputs": [],
   "source": []
  }
 ],
 "metadata": {
  "kernelspec": {
   "display_name": "Python 3 (ipykernel)",
   "language": "python",
   "name": "python3"
  },
  "language_info": {
   "codemirror_mode": {
    "name": "ipython",
    "version": 3
   },
   "file_extension": ".py",
   "mimetype": "text/x-python",
   "name": "python",
   "nbconvert_exporter": "python",
   "pygments_lexer": "ipython3",
   "version": "3.9.12"
  }
 },
 "nbformat": 4,
 "nbformat_minor": 5
}
