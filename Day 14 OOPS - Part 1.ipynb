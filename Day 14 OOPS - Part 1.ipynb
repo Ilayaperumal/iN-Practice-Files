{
 "cells": [
  {
   "cell_type": "code",
   "execution_count": 6,
   "id": "cd4088b1",
   "metadata": {},
   "outputs": [],
   "source": [
    "class car:\n",
    "    def __init__(self , body_type, engine_type, fuel_type):\n",
    "        \n",
    "        self.a = body_type\n",
    "        self.b = engine_type\n",
    "        self.c = fuel_type\n",
    "    \n",
    "    def test(self):\n",
    "        print(\"this is my first method in car class\")\n",
    "   "
   ]
  },
  {
   "cell_type": "code",
   "execution_count": 8,
   "id": "43259d1b",
   "metadata": {},
   "outputs": [],
   "source": [
    "fortuner = car(\"SUV\", \"CRDI\", \"Diesel\")"
   ]
  },
  {
   "cell_type": "code",
   "execution_count": 9,
   "id": "e5857515",
   "metadata": {},
   "outputs": [
    {
     "data": {
      "text/plain": [
       "'SUV'"
      ]
     },
     "execution_count": 9,
     "metadata": {},
     "output_type": "execute_result"
    }
   ],
   "source": [
    "fortuner.a"
   ]
  },
  {
   "cell_type": "code",
   "execution_count": 10,
   "id": "a5bcefd4",
   "metadata": {},
   "outputs": [
    {
     "data": {
      "text/plain": [
       "'CRDI'"
      ]
     },
     "execution_count": 10,
     "metadata": {},
     "output_type": "execute_result"
    }
   ],
   "source": [
    "fortuner.b"
   ]
  },
  {
   "cell_type": "code",
   "execution_count": 2,
   "id": "cee62531",
   "metadata": {},
   "outputs": [],
   "source": [
    "fortuner = car(\"SUV\", \"CRDI\", \"Diesel\")"
   ]
  },
  {
   "cell_type": "code",
   "execution_count": 3,
   "id": "96486a7d",
   "metadata": {},
   "outputs": [],
   "source": [
    "nexon = car(\"SUV\", \"BS4\", \"Petrol\")"
   ]
  },
  {
   "cell_type": "code",
   "execution_count": 4,
   "id": "3dedff81",
   "metadata": {},
   "outputs": [
    {
     "data": {
      "text/plain": [
       "'SUV'"
      ]
     },
     "execution_count": 4,
     "metadata": {},
     "output_type": "execute_result"
    }
   ],
   "source": [
    "fortuner.body_type"
   ]
  },
  {
   "cell_type": "code",
   "execution_count": 5,
   "id": "99c5c69b",
   "metadata": {},
   "outputs": [
    {
     "data": {
      "text/plain": [
       "'BS4'"
      ]
     },
     "execution_count": 5,
     "metadata": {},
     "output_type": "execute_result"
    }
   ],
   "source": [
    "nexon.engine_type"
   ]
  },
  {
   "cell_type": "code",
   "execution_count": 4,
   "id": "b7b22428",
   "metadata": {},
   "outputs": [],
   "source": [
    "class car:\n",
    "    def __init__(self , body_type, engine_type, fuel_type):\n",
    "        \n",
    "        self.body_type = body_type\n",
    "        self.engine_type = engine_type\n",
    "        self.fuel_type = fuel_type\n",
    "    \n",
    "    def test(self):\n",
    "        print(\"this is my first method in car class\")\n",
    "   "
   ]
  },
  {
   "cell_type": "code",
   "execution_count": 11,
   "id": "9fd02e2f",
   "metadata": {},
   "outputs": [],
   "source": [
    "nexon = car(\"SUV\", \"BS4\", \"Petrol\")"
   ]
  },
  {
   "cell_type": "code",
   "execution_count": 6,
   "id": "0aa12f1b",
   "metadata": {},
   "outputs": [],
   "source": [
    "     \n",
    "    def desc_car(self):\n",
    "        print(self , body_type, engine_type, fuel_type)"
   ]
  },
  {
   "cell_type": "code",
   "execution_count": 12,
   "id": "e57b068b",
   "metadata": {},
   "outputs": [
    {
     "data": {
      "text/plain": [
       "'SUV'"
      ]
     },
     "execution_count": 12,
     "metadata": {},
     "output_type": "execute_result"
    }
   ],
   "source": [
    "nexon.a"
   ]
  },
  {
   "cell_type": "code",
   "execution_count": 13,
   "id": "6932da21",
   "metadata": {},
   "outputs": [],
   "source": [
    "class car:\n",
    "    def __init__(ilaya , body_type, engine_type, fuel_type):\n",
    "        \n",
    "        ilaya.a = body_type\n",
    "        ilaya.b = engine_type\n",
    "        ilaya.c = fuel_type\n",
    "    \n",
    "    def test(ilaya):\n",
    "        print(\"this is my first method in car class\")\n",
    "   "
   ]
  },
  {
   "cell_type": "code",
   "execution_count": 14,
   "id": "a18acb98",
   "metadata": {},
   "outputs": [],
   "source": [
    "i20 = car(\"Hatchback\", \"CRDI\", \"Diesel\")"
   ]
  },
  {
   "cell_type": "code",
   "execution_count": 15,
   "id": "35996e99",
   "metadata": {},
   "outputs": [
    {
     "data": {
      "text/plain": [
       "'Hatchback'"
      ]
     },
     "execution_count": 15,
     "metadata": {},
     "output_type": "execute_result"
    }
   ],
   "source": [
    "i20.a"
   ]
  },
  {
   "cell_type": "code",
   "execution_count": 16,
   "id": "0c3c07f2",
   "metadata": {},
   "outputs": [],
   "source": [
    "class car:\n",
    "   \n",
    "    \n",
    "    def test(ilaya):\n",
    "        print(\"this is my first method in car class\")"
   ]
  },
  {
   "cell_type": "code",
   "execution_count": 17,
   "id": "0fc5f33c",
   "metadata": {},
   "outputs": [],
   "source": [
    "x = car()"
   ]
  },
  {
   "cell_type": "code",
   "execution_count": 18,
   "id": "e02edadf",
   "metadata": {},
   "outputs": [
    {
     "name": "stdout",
     "output_type": "stream",
     "text": [
      "this is my first method in car class\n"
     ]
    }
   ],
   "source": [
    "x.test()"
   ]
  },
  {
   "cell_type": "code",
   "execution_count": 23,
   "id": "7e30a55c",
   "metadata": {},
   "outputs": [],
   "source": [
    "class car:\n",
    "   \n",
    "    \n",
    "    def test(ilaya, b, c):\n",
    "        print(\"this is my first method in car class\")"
   ]
  },
  {
   "cell_type": "code",
   "execution_count": 25,
   "id": "2c65b9c0",
   "metadata": {},
   "outputs": [],
   "source": [
    "x = car()"
   ]
  },
  {
   "cell_type": "code",
   "execution_count": 27,
   "id": "296eea7a",
   "metadata": {},
   "outputs": [
    {
     "name": "stdout",
     "output_type": "stream",
     "text": [
      "<class '__main__.car'>\n"
     ]
    }
   ],
   "source": [
    "print(type(x))"
   ]
  },
  {
   "cell_type": "code",
   "execution_count": 28,
   "id": "7b105896",
   "metadata": {},
   "outputs": [
    {
     "name": "stdout",
     "output_type": "stream",
     "text": [
      "this is my first method in car class\n"
     ]
    }
   ],
   "source": [
    "x.test(6, \"jydy\")"
   ]
  },
  {
   "cell_type": "code",
   "execution_count": null,
   "id": "d0ff20c8",
   "metadata": {},
   "outputs": [],
   "source": []
  },
  {
   "cell_type": "code",
   "execution_count": 36,
   "id": "0318afc6",
   "metadata": {},
   "outputs": [],
   "source": [
    "class list_parcer :\n",
    "    def parcer(self, a):\n",
    "        if type(a) == list:\n",
    "            for i in a:\n",
    "                print(i)\n",
    "    def reverse_list(self, z):\n",
    "        if type(z) == list:\n",
    "            return z[::-1]"
   ]
  },
  {
   "cell_type": "code",
   "execution_count": 35,
   "id": "8c123a4a",
   "metadata": {},
   "outputs": [
    {
     "name": "stdout",
     "output_type": "stream",
     "text": [
      "2\n",
      "3\n",
      "4\n",
      "5\n",
      "78\n"
     ]
    }
   ],
   "source": [
    "c = list_parcer()\n",
    "c.parcer ([2,3,4,5,78])"
   ]
  },
  {
   "cell_type": "code",
   "execution_count": 37,
   "id": "6c5c48a8",
   "metadata": {
    "scrolled": true
   },
   "outputs": [
    {
     "data": {
      "text/plain": [
       "[78, 5, 4, 3, 2]"
      ]
     },
     "execution_count": 37,
     "metadata": {},
     "output_type": "execute_result"
    }
   ],
   "source": [
    "c.reverse_list([2,3,4,5,78])"
   ]
  },
  {
   "cell_type": "code",
   "execution_count": 45,
   "id": "b04b3c6f",
   "metadata": {},
   "outputs": [],
   "source": [
    "class list_parcer :\n",
    "    def __init__(self, l):\n",
    "        self.l = l\n",
    "        \n",
    "    def parcer(self):\n",
    "        if type(self.l) == list:\n",
    "            for i in self.l:\n",
    "                print(i)\n",
    "    def reverse_list(self):\n",
    "        if type(self.l) == list:\n",
    "            return self.l [::-1]"
   ]
  },
  {
   "cell_type": "code",
   "execution_count": 47,
   "id": "d89baefe",
   "metadata": {},
   "outputs": [
    {
     "name": "stdout",
     "output_type": "stream",
     "text": [
      "2\n",
      "3\n",
      "4\n",
      "5\n",
      "78\n"
     ]
    }
   ],
   "source": [
    "c = list_parcer([2,3,4,5,78])\n",
    "c.parcer ()"
   ]
  },
  {
   "cell_type": "code",
   "execution_count": 48,
   "id": "873a4bf7",
   "metadata": {},
   "outputs": [
    {
     "data": {
      "text/plain": [
       "[78, 5, 4, 3, 2]"
      ]
     },
     "execution_count": 48,
     "metadata": {},
     "output_type": "execute_result"
    }
   ],
   "source": [
    "c.reverse_list()"
   ]
  },
  {
   "cell_type": "code",
   "execution_count": 1,
   "id": "fbaaac92",
   "metadata": {},
   "outputs": [],
   "source": [
    "#create a class for dictonary parsing \n",
    "\n",
    "#1 . write a functoin to give all the keys\n",
    "#2  .write a function to give all the values \n",
    "#3 . write a function to throw an exception in case of input is not dictonary\n",
    "#4. write a function to take user input and then parse a key and value out of dictonary \n",
    "#5. write a function to insert new key value pair  into dictonary \n"
   ]
  },
  {
   "cell_type": "code",
   "execution_count": 2,
   "id": "e16e9037",
   "metadata": {},
   "outputs": [],
   "source": [
    "class dict_parsing:\n",
    "    \n",
    "    def __init__(self,a):\n",
    "        self.a = a\n",
    "    \n",
    "    def getkeys(self):\n",
    "        if self.notdict():\n",
    "            return list(self.a.keys())\n",
    "        \n",
    "    def getvalues(self):\n",
    "        if self.notdict():\n",
    "            return list(self.a.values())\n",
    "        \n",
    "    def notdict(self):\n",
    "        if type(self.a) != dict:\n",
    "            raise Exception(self.a,'Not a dictionary')\n",
    "        return 1\n",
    "    def userinput(self):\n",
    "        self.a = eval(input())\n",
    "        print(self.a,type(self.a))\n",
    "        print(self.getkeys())\n",
    "        print(self.getvalues())\n",
    "        \n",
    "    def insertion(self,k,v):\n",
    "        self.a[k] = v\n"
   ]
  },
  {
   "cell_type": "code",
   "execution_count": 3,
   "id": "e182ea8f",
   "metadata": {},
   "outputs": [],
   "source": [
    "d = dict_parsing({\"k1\" : \"Ilaya\", \"k2\" : [2,3,4,5]})"
   ]
  },
  {
   "cell_type": "code",
   "execution_count": 4,
   "id": "17818382",
   "metadata": {},
   "outputs": [
    {
     "data": {
      "text/plain": [
       "['k1', 'k2']"
      ]
     },
     "execution_count": 4,
     "metadata": {},
     "output_type": "execute_result"
    }
   ],
   "source": [
    "d.getkeys()"
   ]
  },
  {
   "cell_type": "code",
   "execution_count": 5,
   "id": "a7219354",
   "metadata": {},
   "outputs": [
    {
     "data": {
      "text/plain": [
       "['Ilaya', [2, 3, 4, 5]]"
      ]
     },
     "execution_count": 5,
     "metadata": {},
     "output_type": "execute_result"
    }
   ],
   "source": [
    "d.getvalues()"
   ]
  },
  {
   "cell_type": "code",
   "execution_count": 10,
   "id": "ba50b715",
   "metadata": {
    "scrolled": true
   },
   "outputs": [
    {
     "name": "stdout",
     "output_type": "stream",
     "text": [
      "{\"k\": \"Sahaana\"}\n",
      "{'k': 'Sahaana'} <class 'dict'>\n",
      "['k']\n",
      "['Sahaana']\n"
     ]
    }
   ],
   "source": [
    "d.userinput()"
   ]
  },
  {
   "cell_type": "code",
   "execution_count": 8,
   "id": "0d56537d",
   "metadata": {},
   "outputs": [
    {
     "data": {
      "text/plain": [
       "1"
      ]
     },
     "execution_count": 8,
     "metadata": {},
     "output_type": "execute_result"
    }
   ],
   "source": [
    "d.notdict()"
   ]
  },
  {
   "cell_type": "code",
   "execution_count": 9,
   "id": "1e53ad5e",
   "metadata": {},
   "outputs": [
    {
     "ename": "Exception",
     "evalue": "([9, 8, 7, 6], 'Not a dictionary')",
     "output_type": "error",
     "traceback": [
      "\u001b[1;31m---------------------------------------------------------------------------\u001b[0m",
      "\u001b[1;31mException\u001b[0m                                 Traceback (most recent call last)",
      "\u001b[1;32m~\\AppData\\Local\\Temp\\ipykernel_9960\\1342070626.py\u001b[0m in \u001b[0;36m<module>\u001b[1;34m\u001b[0m\n\u001b[0;32m      1\u001b[0m \u001b[0md\u001b[0m \u001b[1;33m=\u001b[0m \u001b[0mdict_parsing\u001b[0m\u001b[1;33m(\u001b[0m\u001b[1;33m[\u001b[0m\u001b[1;36m9\u001b[0m\u001b[1;33m,\u001b[0m\u001b[1;36m8\u001b[0m\u001b[1;33m,\u001b[0m\u001b[1;36m7\u001b[0m\u001b[1;33m,\u001b[0m\u001b[1;36m6\u001b[0m\u001b[1;33m]\u001b[0m\u001b[1;33m)\u001b[0m\u001b[1;33m\u001b[0m\u001b[1;33m\u001b[0m\u001b[0m\n\u001b[1;32m----> 2\u001b[1;33m \u001b[0md\u001b[0m\u001b[1;33m.\u001b[0m\u001b[0mnotdict\u001b[0m\u001b[1;33m(\u001b[0m\u001b[1;33m)\u001b[0m\u001b[1;33m\u001b[0m\u001b[1;33m\u001b[0m\u001b[0m\n\u001b[0m",
      "\u001b[1;32m~\\AppData\\Local\\Temp\\ipykernel_9960\\3878512501.py\u001b[0m in \u001b[0;36mnotdict\u001b[1;34m(self)\u001b[0m\n\u001b[0;32m     14\u001b[0m     \u001b[1;32mdef\u001b[0m \u001b[0mnotdict\u001b[0m\u001b[1;33m(\u001b[0m\u001b[0mself\u001b[0m\u001b[1;33m)\u001b[0m\u001b[1;33m:\u001b[0m\u001b[1;33m\u001b[0m\u001b[1;33m\u001b[0m\u001b[0m\n\u001b[0;32m     15\u001b[0m         \u001b[1;32mif\u001b[0m \u001b[0mtype\u001b[0m\u001b[1;33m(\u001b[0m\u001b[0mself\u001b[0m\u001b[1;33m.\u001b[0m\u001b[0ma\u001b[0m\u001b[1;33m)\u001b[0m \u001b[1;33m!=\u001b[0m \u001b[0mdict\u001b[0m\u001b[1;33m:\u001b[0m\u001b[1;33m\u001b[0m\u001b[1;33m\u001b[0m\u001b[0m\n\u001b[1;32m---> 16\u001b[1;33m             \u001b[1;32mraise\u001b[0m \u001b[0mException\u001b[0m\u001b[1;33m(\u001b[0m\u001b[0mself\u001b[0m\u001b[1;33m.\u001b[0m\u001b[0ma\u001b[0m\u001b[1;33m,\u001b[0m\u001b[1;34m'Not a dictionary'\u001b[0m\u001b[1;33m)\u001b[0m\u001b[1;33m\u001b[0m\u001b[1;33m\u001b[0m\u001b[0m\n\u001b[0m\u001b[0;32m     17\u001b[0m         \u001b[1;32mreturn\u001b[0m \u001b[1;36m1\u001b[0m\u001b[1;33m\u001b[0m\u001b[1;33m\u001b[0m\u001b[0m\n\u001b[0;32m     18\u001b[0m     \u001b[1;32mdef\u001b[0m \u001b[0muserinput\u001b[0m\u001b[1;33m(\u001b[0m\u001b[0mself\u001b[0m\u001b[1;33m)\u001b[0m\u001b[1;33m:\u001b[0m\u001b[1;33m\u001b[0m\u001b[1;33m\u001b[0m\u001b[0m\n",
      "\u001b[1;31mException\u001b[0m: ([9, 8, 7, 6], 'Not a dictionary')"
     ]
    }
   ],
   "source": [
    "d = dict_parsing([9,8,7,6])\n",
    "d.notdict()"
   ]
  },
  {
   "cell_type": "code",
   "execution_count": 12,
   "id": "04b4e5b9",
   "metadata": {},
   "outputs": [],
   "source": [
    "d.insertion(\"k3\", [23,34,45])"
   ]
  },
  {
   "cell_type": "code",
   "execution_count": 13,
   "id": "0711d3b2",
   "metadata": {},
   "outputs": [
    {
     "data": {
      "text/plain": [
       "['k', 'k3']"
      ]
     },
     "execution_count": 13,
     "metadata": {},
     "output_type": "execute_result"
    }
   ],
   "source": [
    "d.getkeys()"
   ]
  },
  {
   "cell_type": "code",
   "execution_count": 14,
   "id": "a2bf3e97",
   "metadata": {},
   "outputs": [
    {
     "data": {
      "text/plain": [
       "['Sahaana', [23, 34, 45]]"
      ]
     },
     "execution_count": 14,
     "metadata": {},
     "output_type": "execute_result"
    }
   ],
   "source": [
    "d.getvalues()"
   ]
  },
  {
   "cell_type": "code",
   "execution_count": 17,
   "id": "a90daf34",
   "metadata": {},
   "outputs": [],
   "source": [
    "# ALiter\n",
    "class dictparser:\n",
    "    def __init__(self, d): \n",
    "        self.d = d\n",
    "\n",
    "    def mykeys(self):\n",
    "        if type(self.d) == dict: \n",
    "            return self .d.keys() \n",
    "    def myvalues(self):\n",
    "        if type(self.d) == dict: \n",
    "            return self.d.values() \n",
    "    def inputkey(self):     \n",
    "        self.mykey = input() \n",
    "        try: \n",
    "            return self.d[self.mykey] \n",
    "        except Exception as e: \n",
    "            print(e)\n",
    "    def newvalue(self, mykey1, myval1): \n",
    "        if type(self.d) == dict:\n",
    "            self.d[mykey1] = myval1"
   ]
  },
  {
   "cell_type": "code",
   "execution_count": 18,
   "id": "411d7275",
   "metadata": {},
   "outputs": [],
   "source": [
    "d = dictparser({\"k1\" : \"IP\", \"k2\" : [11,22,33]})"
   ]
  },
  {
   "cell_type": "code",
   "execution_count": 19,
   "id": "6f32025d",
   "metadata": {},
   "outputs": [
    {
     "data": {
      "text/plain": [
       "dict_keys(['k1', 'k2'])"
      ]
     },
     "execution_count": 19,
     "metadata": {},
     "output_type": "execute_result"
    }
   ],
   "source": [
    "d.mykeys()"
   ]
  },
  {
   "cell_type": "code",
   "execution_count": 20,
   "id": "37747688",
   "metadata": {},
   "outputs": [
    {
     "data": {
      "text/plain": [
       "dict_values(['IP', [11, 22, 33]])"
      ]
     },
     "execution_count": 20,
     "metadata": {},
     "output_type": "execute_result"
    }
   ],
   "source": [
    "d.myvalues()"
   ]
  },
  {
   "cell_type": "code",
   "execution_count": 21,
   "id": "21d595dc",
   "metadata": {},
   "outputs": [
    {
     "name": "stdout",
     "output_type": "stream",
     "text": [
      "{\"kx\": \"Ruchi\"}\n",
      "'{\"kx\": \"Ruchi\"}'\n"
     ]
    }
   ],
   "source": [
    "d.inputkey()"
   ]
  },
  {
   "cell_type": "code",
   "execution_count": 22,
   "id": "9a83e4d8",
   "metadata": {},
   "outputs": [],
   "source": [
    "# Aliter 2\n",
    "class dict_Parser:\n",
    "    def __init__ (self,dic):\n",
    "        if type(dic) != dict:\n",
    "            raise ValueError(\"Input is not dictionary\") \n",
    "        self.dictionary = dic\n",
    "\n",
    "    def get_keys(self):\n",
    "        return self.dictionary.keys() \n",
    "    def get_values(self):\n",
    "        return self.dictionary.values()\n",
    "    def take_input(self):\n",
    "        a = input(\"enter key\")\n",
    "        b = input(\"enter value\")\n",
    "        self.dictionary[a] = b \n",
    "    def insert_key_val_pair(self,key,value):\n",
    "        self.dictionary[key] = value"
   ]
  },
  {
   "cell_type": "code",
   "execution_count": 24,
   "id": "be3570b1",
   "metadata": {},
   "outputs": [],
   "source": [
    "d = dict_Parser({\"k1\" : \"Ruchi\", \"k2\" : [11,22,33]})"
   ]
  },
  {
   "cell_type": "code",
   "execution_count": 25,
   "id": "ba1c1346",
   "metadata": {},
   "outputs": [
    {
     "data": {
      "text/plain": [
       "dict_keys(['k1', 'k2'])"
      ]
     },
     "execution_count": 25,
     "metadata": {},
     "output_type": "execute_result"
    }
   ],
   "source": [
    "d.get_keys()"
   ]
  },
  {
   "cell_type": "code",
   "execution_count": 26,
   "id": "b496ac8b",
   "metadata": {},
   "outputs": [
    {
     "data": {
      "text/plain": [
       "dict_values(['Ruchi', [11, 22, 33]])"
      ]
     },
     "execution_count": 26,
     "metadata": {},
     "output_type": "execute_result"
    }
   ],
   "source": [
    "d.get_values()"
   ]
  },
  {
   "cell_type": "code",
   "execution_count": 28,
   "id": "8b38ab0c",
   "metadata": {},
   "outputs": [],
   "source": [
    "class Dict_class:\n",
    "    def __init__(self, d): \n",
    "        if type(d) != dict:\n",
    "            raise Exception(\"Not a dict\") \n",
    "        self.d = d\n",
    "    \n",
    "    def keys(self):\n",
    "        for i in self.d.keys(): \n",
    "            print(i)\n",
    "    \n",
    "    def values(self):\n",
    "        for i in self.d.values():\n",
    "            print(i)\n",
    "    \n",
    "    def parse(self, key): \n",
    "        print(self.d[key])\n",
    "    \n",
    "    def insert(self, **kwargs): \n",
    "        for k,v in kwargs.items(): \n",
    "            self.d[k] = v \n",
    "            print(\"Value inserted\")"
   ]
  },
  {
   "cell_type": "code",
   "execution_count": 29,
   "id": "61f162a6",
   "metadata": {},
   "outputs": [],
   "source": [
    "d = Dict_class({\"k1\" : \"GK\", \"k2\" : [11,22,33]})"
   ]
  },
  {
   "cell_type": "code",
   "execution_count": 30,
   "id": "6c6c36e7",
   "metadata": {},
   "outputs": [
    {
     "name": "stdout",
     "output_type": "stream",
     "text": [
      "k1\n",
      "k2\n"
     ]
    }
   ],
   "source": [
    "d.keys()"
   ]
  },
  {
   "cell_type": "code",
   "execution_count": 31,
   "id": "eb34763d",
   "metadata": {},
   "outputs": [
    {
     "name": "stdout",
     "output_type": "stream",
     "text": [
      "GK\n",
      "[11, 22, 33]\n"
     ]
    }
   ],
   "source": [
    "d.values()"
   ]
  },
  {
   "cell_type": "code",
   "execution_count": 32,
   "id": "6e69d2c8",
   "metadata": {},
   "outputs": [
    {
     "data": {
      "text/plain": [
       "<_io.TextIOWrapper name='mydict.py' mode='w' encoding='cp1252'>"
      ]
     },
     "execution_count": 32,
     "metadata": {},
     "output_type": "execute_result"
    }
   ],
   "source": [
    "open(\"mydict.py\", \"w\")"
   ]
  },
  {
   "cell_type": "code",
   "execution_count": 33,
   "id": "e2f4e46a",
   "metadata": {},
   "outputs": [
    {
     "name": "stdout",
     "output_type": "stream",
     "text": [
      " Volume in drive C has no label.\n",
      " Volume Serial Number is 2675-150D\n",
      "\n",
      " Directory of C:\\Users\\ilaya\n",
      "\n",
      "09-11-2022  11:17    <DIR>          .\n",
      "04-11-2022  00:05    <DIR>          ..\n",
      "07-11-2022  14:11    <DIR>          .ipynb_checkpoints\n",
      "04-11-2022  14:37    <DIR>          .ipython\n",
      "04-11-2022  14:37    <DIR>          .jupyter\n",
      "04-11-2022  15:49    <DIR>          .ms-ad\n",
      "05-11-2022  23:44    <DIR>          __pycache__\n",
      "03-11-2022  19:14    <DIR>          3D Objects\n",
      "04-11-2022  10:14    <DIR>          anaconda3\n",
      "04-11-2022  00:28    <DIR>          Contacts\n",
      "09-11-2022  00:11    <DIR>          Desktop\n",
      "05-11-2022  15:17    <DIR>          Documents\n",
      "09-11-2022  00:12    <DIR>          Downloads\n",
      "04-11-2022  00:28    <DIR>          Favorites\n",
      "04-11-2022  00:28    <DIR>          Links\n",
      "04-11-2022  00:28    <DIR>          Music\n",
      "09-11-2022  11:17                 0 mydict.py\n",
      "05-11-2022  23:42               122 mymodule.py\n",
      "06-11-2022  19:17    <DIR>          OneDrive\n",
      "09-11-2022  11:10            21,414 OOPS - Part 1.ipynb\n",
      "04-11-2022  19:22            10,186 OOPS Basics.ipynb\n",
      "05-11-2022  01:43    <DIR>          Pictures\n",
      "05-11-2022  09:03             1,104 Rough work.ipynb\n",
      "04-11-2022  00:28    <DIR>          Saved Games\n",
      "04-11-2022  00:28    <DIR>          Searches\n",
      "04-11-2022  14:23    <DIR>          Videos\n",
      "05-11-2022  14:13             5,124 w3schools - Python - Arrays.ipynb\n",
      "05-11-2022  14:35             5,134 W3schools - Python - Classes and Objects.ipynb\n",
      "05-11-2022  23:46             3,662 w3Schools - Python - Module.ipynb\n",
      "05-11-2022  13:49            10,565 w3schools - Python Functions & lambda.ipynb\n",
      "05-11-2022  23:38             6,071 w3schools - Python Iterators.ipynb\n",
      "              10 File(s)         63,382 bytes\n",
      "              21 Dir(s)  86,390,964,224 bytes free\n"
     ]
    }
   ],
   "source": [
    "ls"
   ]
  },
  {
   "cell_type": "code",
   "execution_count": 36,
   "id": "95f6fa4c",
   "metadata": {},
   "outputs": [],
   "source": [
    "# Following steps can be called in another Jupyter file also. \n",
    "\n",
    "import mydict"
   ]
  },
  {
   "cell_type": "code",
   "execution_count": 37,
   "id": "ce53d591",
   "metadata": {},
   "outputs": [],
   "source": [
    "d = mydict.dict_parsing({\"k1\": \"IP\", \"k2\":[5,6,7]})"
   ]
  },
  {
   "cell_type": "code",
   "execution_count": 38,
   "id": "aafce966",
   "metadata": {},
   "outputs": [
    {
     "data": {
      "text/plain": [
       "['k1', 'k2']"
      ]
     },
     "execution_count": 38,
     "metadata": {},
     "output_type": "execute_result"
    }
   ],
   "source": [
    "d.getkeys()"
   ]
  },
  {
   "cell_type": "code",
   "execution_count": 39,
   "id": "d46bed63",
   "metadata": {},
   "outputs": [
    {
     "data": {
      "text/plain": [
       "['IP', [5, 6, 7]]"
      ]
     },
     "execution_count": 39,
     "metadata": {},
     "output_type": "execute_result"
    }
   ],
   "source": [
    "d.getvalues()"
   ]
  },
  {
   "cell_type": "code",
   "execution_count": 41,
   "id": "7d545584",
   "metadata": {},
   "outputs": [],
   "source": [
    "# another method. \n",
    "import mydict\n",
    "from mydict import dict_parsing"
   ]
  },
  {
   "cell_type": "code",
   "execution_count": 42,
   "id": "b7e40529",
   "metadata": {},
   "outputs": [],
   "source": [
    "d1 = dict_parsing({\"k1\": \"IP\", \"k2\":[5,6,7]})"
   ]
  },
  {
   "cell_type": "code",
   "execution_count": 43,
   "id": "d2dff706",
   "metadata": {},
   "outputs": [
    {
     "data": {
      "text/plain": [
       "['k1', 'k2']"
      ]
     },
     "execution_count": 43,
     "metadata": {},
     "output_type": "execute_result"
    }
   ],
   "source": [
    "d1.getkeys()"
   ]
  },
  {
   "cell_type": "code",
   "execution_count": null,
   "id": "e1e0cc0d",
   "metadata": {},
   "outputs": [],
   "source": [
    "# we can keep any number of classes inside the same file like dict_parsing, dict_parsing1, dict_parsing2 etc. you can call them whereever it is required."
   ]
  }
 ],
 "metadata": {
  "kernelspec": {
   "display_name": "Python 3 (ipykernel)",
   "language": "python",
   "name": "python3"
  },
  "language_info": {
   "codemirror_mode": {
    "name": "ipython",
    "version": 3
   },
   "file_extension": ".py",
   "mimetype": "text/x-python",
   "name": "python",
   "nbconvert_exporter": "python",
   "pygments_lexer": "ipython3",
   "version": "3.9.13"
  }
 },
 "nbformat": 4,
 "nbformat_minor": 5
}
