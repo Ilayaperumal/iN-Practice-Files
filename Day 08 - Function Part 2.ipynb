{
 "cells": [
  {
   "cell_type": "code",
   "execution_count": 1,
   "id": "d2f20795",
   "metadata": {},
   "outputs": [],
   "source": [
    "def test(a,b,c,d,e):\n",
    "    return a,b,c,d,e"
   ]
  },
  {
   "cell_type": "code",
   "execution_count": 2,
   "id": "828ad68f",
   "metadata": {},
   "outputs": [
    {
     "data": {
      "text/plain": [
       "(32, 45, 66, 67, 839)"
      ]
     },
     "execution_count": 2,
     "metadata": {},
     "output_type": "execute_result"
    }
   ],
   "source": [
    "test(32,45,66,67,839)"
   ]
  },
  {
   "cell_type": "code",
   "execution_count": 3,
   "id": "695be8e6",
   "metadata": {},
   "outputs": [],
   "source": [
    "def test1(*args):\n",
    "    return args"
   ]
  },
  {
   "cell_type": "code",
   "execution_count": 4,
   "id": "4f6f33c4",
   "metadata": {},
   "outputs": [
    {
     "data": {
      "text/plain": [
       "(23, 56, 78)"
      ]
     },
     "execution_count": 4,
     "metadata": {},
     "output_type": "execute_result"
    }
   ],
   "source": [
    "test1(23,56,78)"
   ]
  },
  {
   "cell_type": "code",
   "execution_count": 5,
   "id": "46e68c5f",
   "metadata": {},
   "outputs": [
    {
     "data": {
      "text/plain": [
       "(34, 67, 89, 'ILAYA', 45.76)"
      ]
     },
     "execution_count": 5,
     "metadata": {},
     "output_type": "execute_result"
    }
   ],
   "source": [
    "test1(34,67,89,\"ILAYA\", 45.76)"
   ]
  },
  {
   "cell_type": "code",
   "execution_count": 6,
   "id": "0c452a4f",
   "metadata": {},
   "outputs": [
    {
     "data": {
      "text/plain": [
       "([1, 3, 45, 6, 75], (34, 56, 43, 55), 'wef', (31+45j))"
      ]
     },
     "execution_count": 6,
     "metadata": {},
     "output_type": "execute_result"
    }
   ],
   "source": [
    "test1([1,3,45,6,75], (34,56,43,55), \"wef\", 31+45j)"
   ]
  },
  {
   "cell_type": "code",
   "execution_count": 7,
   "id": "ff3a343a",
   "metadata": {},
   "outputs": [],
   "source": [
    "def test2(*ilaya):\n",
    "    return ilaya"
   ]
  },
  {
   "cell_type": "code",
   "execution_count": 8,
   "id": "dab624a5",
   "metadata": {},
   "outputs": [
    {
     "data": {
      "text/plain": [
       "([45, 6, 75], 'ip', 65.45, (3, 4, 5))"
      ]
     },
     "execution_count": 8,
     "metadata": {},
     "output_type": "execute_result"
    }
   ],
   "source": [
    "test1([45,6,75],\"ip\", 65.45,(3,4,5))"
   ]
  },
  {
   "cell_type": "code",
   "execution_count": 9,
   "id": "bb4e8120",
   "metadata": {},
   "outputs": [],
   "source": [
    "def test3(*ilaya, a):\n",
    "    return ilaya,a"
   ]
  },
  {
   "cell_type": "code",
   "execution_count": 10,
   "id": "0f1e85aa",
   "metadata": {},
   "outputs": [
    {
     "ename": "TypeError",
     "evalue": "test3() missing 1 required keyword-only argument: 'a'",
     "output_type": "error",
     "traceback": [
      "\u001b[1;31m---------------------------------------------------------------------------\u001b[0m",
      "\u001b[1;31mTypeError\u001b[0m                                 Traceback (most recent call last)",
      "Input \u001b[1;32mIn [10]\u001b[0m, in \u001b[0;36m<cell line: 1>\u001b[1;34m()\u001b[0m\n\u001b[1;32m----> 1\u001b[0m \u001b[43mtest3\u001b[49m\u001b[43m(\u001b[49m\u001b[38;5;241;43m34\u001b[39;49m\u001b[43m,\u001b[49m\u001b[38;5;241;43m56\u001b[39;49m\u001b[43m,\u001b[49m\u001b[38;5;241;43m78\u001b[39;49m\u001b[43m)\u001b[49m\n",
      "\u001b[1;31mTypeError\u001b[0m: test3() missing 1 required keyword-only argument: 'a'"
     ]
    }
   ],
   "source": [
    "test3(34,56,78)"
   ]
  },
  {
   "cell_type": "code",
   "execution_count": 11,
   "id": "120ac43a",
   "metadata": {},
   "outputs": [
    {
     "data": {
      "text/plain": [
       "((34, 56, 78), 56.8)"
      ]
     },
     "execution_count": 11,
     "metadata": {},
     "output_type": "execute_result"
    }
   ],
   "source": [
    "test3(34,56,78, a = 56.8)"
   ]
  },
  {
   "cell_type": "code",
   "execution_count": 12,
   "id": "015b0ecd",
   "metadata": {},
   "outputs": [],
   "source": [
    "def test4(*ilaya,a,b,c,d):\n",
    "    return ilaya,a,b,c,d"
   ]
  },
  {
   "cell_type": "code",
   "execution_count": 13,
   "id": "62afd835",
   "metadata": {},
   "outputs": [
    {
     "data": {
      "text/plain": [
       "((3, 4, 5, 6), 56.8, 'ilaya', (3, 4, 5), 3.14)"
      ]
     },
     "execution_count": 13,
     "metadata": {},
     "output_type": "execute_result"
    }
   ],
   "source": [
    "test4(3,4,5,6, a = 56.8, b = \"ilaya\", c = (3,4,5), d = 3.14)"
   ]
  },
  {
   "cell_type": "code",
   "execution_count": 14,
   "id": "f82ae6ae",
   "metadata": {},
   "outputs": [],
   "source": [
    "def test3(a, *ilaya):\n",
    "    return a, ilaya  # If a is specified in the first position automatically the first variable will be taken as a"
   ]
  },
  {
   "cell_type": "code",
   "execution_count": 15,
   "id": "ad7d3325",
   "metadata": {},
   "outputs": [
    {
     "ename": "TypeError",
     "evalue": "test3() got multiple values for argument 'a'",
     "output_type": "error",
     "traceback": [
      "\u001b[1;31m---------------------------------------------------------------------------\u001b[0m",
      "\u001b[1;31mTypeError\u001b[0m                                 Traceback (most recent call last)",
      "Input \u001b[1;32mIn [15]\u001b[0m, in \u001b[0;36m<cell line: 1>\u001b[1;34m()\u001b[0m\n\u001b[1;32m----> 1\u001b[0m \u001b[43mtest3\u001b[49m\u001b[43m(\u001b[49m\u001b[38;5;241;43m56.8\u001b[39;49m\u001b[43m,\u001b[49m\u001b[43m \u001b[49m\u001b[38;5;241;43m34\u001b[39;49m\u001b[43m,\u001b[49m\u001b[38;5;241;43m56\u001b[39;49m\u001b[43m,\u001b[49m\u001b[43ma\u001b[49m\u001b[43m \u001b[49m\u001b[38;5;241;43m=\u001b[39;49m\u001b[43m \u001b[49m\u001b[38;5;241;43m78\u001b[39;49m\u001b[43m)\u001b[49m\n",
      "\u001b[1;31mTypeError\u001b[0m: test3() got multiple values for argument 'a'"
     ]
    }
   ],
   "source": [
    "test3(56.8, 34,56,a = 78)"
   ]
  },
  {
   "cell_type": "code",
   "execution_count": 16,
   "id": "93c93d64",
   "metadata": {},
   "outputs": [
    {
     "ename": "SyntaxError",
     "evalue": "positional argument follows keyword argument (2611974490.py, line 1)",
     "output_type": "error",
     "traceback": [
      "\u001b[1;36m  Input \u001b[1;32mIn [16]\u001b[1;36m\u001b[0m\n\u001b[1;33m    test3(a = 78, 56.8, 34,56)\u001b[0m\n\u001b[1;37m                             ^\u001b[0m\n\u001b[1;31mSyntaxError\u001b[0m\u001b[1;31m:\u001b[0m positional argument follows keyword argument\n"
     ]
    }
   ],
   "source": [
    "test3(a = 78, 56.8, 34,56)"
   ]
  },
  {
   "cell_type": "code",
   "execution_count": 17,
   "id": "bbcc2b7c",
   "metadata": {},
   "outputs": [
    {
     "data": {
      "text/plain": [
       "(78, (56.8, 34, 56))"
      ]
     },
     "execution_count": 17,
     "metadata": {},
     "output_type": "execute_result"
    }
   ],
   "source": [
    "test3( 78, 56.8, 34,56) # If a is specified in the first position automatically the first variable will be taken as a"
   ]
  },
  {
   "cell_type": "code",
   "execution_count": 18,
   "id": "3e979c2f",
   "metadata": {},
   "outputs": [],
   "source": [
    "def test3(a, *ilaya):\n",
    "    return a, ilaya"
   ]
  },
  {
   "cell_type": "code",
   "execution_count": 19,
   "id": "57bbc3de",
   "metadata": {},
   "outputs": [
    {
     "data": {
      "text/plain": [
       "(78, (56.8, 34, 56))"
      ]
     },
     "execution_count": 19,
     "metadata": {},
     "output_type": "execute_result"
    }
   ],
   "source": [
    "test3( 78, 56.8, 34,56)"
   ]
  },
  {
   "cell_type": "code",
   "execution_count": 20,
   "id": "d18396b5",
   "metadata": {},
   "outputs": [],
   "source": [
    "def test5(a, *ilaya, b, c):\n",
    "    return a, ilaya, b, c"
   ]
  },
  {
   "cell_type": "code",
   "execution_count": 21,
   "id": "b8bf8691",
   "metadata": {},
   "outputs": [
    {
     "ename": "TypeError",
     "evalue": "test5() missing 2 required keyword-only arguments: 'b' and 'c'",
     "output_type": "error",
     "traceback": [
      "\u001b[1;31m---------------------------------------------------------------------------\u001b[0m",
      "\u001b[1;31mTypeError\u001b[0m                                 Traceback (most recent call last)",
      "Input \u001b[1;32mIn [21]\u001b[0m, in \u001b[0;36m<cell line: 1>\u001b[1;34m()\u001b[0m\n\u001b[1;32m----> 1\u001b[0m \u001b[43mtest5\u001b[49m\u001b[43m(\u001b[49m\u001b[38;5;124;43m\"\u001b[39;49m\u001b[38;5;124;43mpi\u001b[39;49m\u001b[38;5;124;43m\"\u001b[39;49m\u001b[43m,\u001b[49m\u001b[43m \u001b[49m\u001b[38;5;241;43m78\u001b[39;49m\u001b[43m,\u001b[49m\u001b[43m \u001b[49m\u001b[38;5;241;43m56.8\u001b[39;49m\u001b[43m,\u001b[49m\u001b[43m \u001b[49m\u001b[38;5;241;43m34\u001b[39;49m\u001b[43m,\u001b[49m\u001b[38;5;241;43m56\u001b[39;49m\u001b[43m)\u001b[49m\n",
      "\u001b[1;31mTypeError\u001b[0m: test5() missing 2 required keyword-only arguments: 'b' and 'c'"
     ]
    }
   ],
   "source": [
    "test5(\"pi\", 78, 56.8, 34,56)"
   ]
  },
  {
   "cell_type": "code",
   "execution_count": 22,
   "id": "426f65af",
   "metadata": {},
   "outputs": [
    {
     "data": {
      "text/plain": [
       "('pi', ([2, 3, 4], 45.56, 78), 56.8, 34)"
      ]
     },
     "execution_count": 22,
     "metadata": {},
     "output_type": "execute_result"
    }
   ],
   "source": [
    "test5( \"pi\", [2,3,4], 45.56, 78, b = 56.8,c = 34)"
   ]
  },
  {
   "cell_type": "code",
   "execution_count": 23,
   "id": "28d8c957",
   "metadata": {},
   "outputs": [],
   "source": [
    "def test6(*args):\n",
    "    l = []\n",
    "    for i in args:\n",
    "        if type(i)==list:\n",
    "            l.append(i)\n",
    "    return l"
   ]
  },
  {
   "cell_type": "code",
   "execution_count": 24,
   "id": "9c328e86",
   "metadata": {},
   "outputs": [
    {
     "data": {
      "text/plain": [
       "[[23, 45, 56, 4, 5, 5678]]"
      ]
     },
     "execution_count": 24,
     "metadata": {},
     "output_type": "execute_result"
    }
   ],
   "source": [
    "test6(45,56,67,76,[23,45,56,4,5,5678])"
   ]
  },
  {
   "cell_type": "code",
   "execution_count": 25,
   "id": "710dab43",
   "metadata": {},
   "outputs": [],
   "source": [
    "def test7(**kwargs):# kwargs - keyword arguments\n",
    "    return kwargs"
   ]
  },
  {
   "cell_type": "code",
   "execution_count": 26,
   "id": "5f902b7c",
   "metadata": {},
   "outputs": [
    {
     "data": {
      "text/plain": [
       "{'a': 243, 'b': [546, 787, 131, 5, 23, 9]}"
      ]
     },
     "execution_count": 26,
     "metadata": {},
     "output_type": "execute_result"
    }
   ],
   "source": [
    "test7(a = 243, b = [546,787,131,5,23,9])"
   ]
  },
  {
   "cell_type": "code",
   "execution_count": 27,
   "id": "c9668ca8",
   "metadata": {},
   "outputs": [
    {
     "data": {
      "text/plain": [
       "{'a': 243, 'b': [546, 787], 'c': [131, 5, 23, 9]}"
      ]
     },
     "execution_count": 27,
     "metadata": {},
     "output_type": "execute_result"
    }
   ],
   "source": [
    "test7(a = 243, b = [546,787], c = [131,5,23,9])"
   ]
  },
  {
   "cell_type": "code",
   "execution_count": 28,
   "id": "df4cdb44",
   "metadata": {},
   "outputs": [],
   "source": [
    "def test8(**ruchi): # can use any keyword, not necessarily kwargs\n",
    "    return ruchi"
   ]
  },
  {
   "cell_type": "code",
   "execution_count": 29,
   "id": "f92ee143",
   "metadata": {},
   "outputs": [
    {
     "data": {
      "text/plain": [
       "{'b': 243, 'g': [546, 787], 'f': [131, 5, 23, 9]}"
      ]
     },
     "execution_count": 29,
     "metadata": {},
     "output_type": "execute_result"
    }
   ],
   "source": [
    "test8 (b = 243, g = [546,787], f = [131,5,23,9])"
   ]
  },
  {
   "cell_type": "code",
   "execution_count": 30,
   "id": "7e2dbb86",
   "metadata": {},
   "outputs": [],
   "source": [
    "def test9(**address):\n",
    "    return address"
   ]
  },
  {
   "cell_type": "code",
   "execution_count": 31,
   "id": "f0cf1ce8",
   "metadata": {},
   "outputs": [
    {
     "data": {
      "text/plain": [
       "{'Name': 'Ilaya', 'Age': '45', 'Ph_no': '64558', 'Mail_id': 'Mailid@hg.com'}"
      ]
     },
     "execution_count": 31,
     "metadata": {},
     "output_type": "execute_result"
    }
   ],
   "source": [
    "test9 (Name = \"Ilaya\", Age = \"45\", Ph_no = \"64558\", Mail_id = \"Mailid@hg.com\")"
   ]
  },
  {
   "cell_type": "code",
   "execution_count": 32,
   "id": "eed3e7b8",
   "metadata": {},
   "outputs": [],
   "source": [
    "def test10(a, **ip):\n",
    "    return ip, a"
   ]
  },
  {
   "cell_type": "code",
   "execution_count": 33,
   "id": "2721d694",
   "metadata": {},
   "outputs": [
    {
     "data": {
      "text/plain": [
       "({'b': 243, 'c': [546, 787], 'd': [131, 5, 23, 9]}, 45674)"
      ]
     },
     "execution_count": 33,
     "metadata": {},
     "output_type": "execute_result"
    }
   ],
   "source": [
    "test10 (45674, b = 243, c = [546,787], d = [131,5,23,9])"
   ]
  },
  {
   "cell_type": "code",
   "execution_count": 34,
   "id": "78690d6f",
   "metadata": {},
   "outputs": [
    {
     "ename": "SyntaxError",
     "evalue": "invalid syntax (411157750.py, line 1)",
     "output_type": "error",
     "traceback": [
      "\u001b[1;36m  Input \u001b[1;32mIn [34]\u001b[1;36m\u001b[0m\n\u001b[1;33m    def test11(a, **ip, *args): # can not use ** & * in this ordeer\u001b[0m\n\u001b[1;37m                        ^\u001b[0m\n\u001b[1;31mSyntaxError\u001b[0m\u001b[1;31m:\u001b[0m invalid syntax\n"
     ]
    }
   ],
   "source": [
    "def test11(a, **ip, *args): # can not use ** & * in this ordeer\n",
    "    return ip, a, args"
   ]
  },
  {
   "cell_type": "code",
   "execution_count": 35,
   "id": "56173340",
   "metadata": {},
   "outputs": [],
   "source": [
    "def test12(a, *args, **ip): \n",
    "    return a, args, ip"
   ]
  },
  {
   "cell_type": "code",
   "execution_count": 36,
   "id": "8e3468a6",
   "metadata": {},
   "outputs": [
    {
     "data": {
      "text/plain": [
       "(45, (67, 887, 90), {'g': 9867, 'l': 896})"
      ]
     },
     "execution_count": 36,
     "metadata": {},
     "output_type": "execute_result"
    }
   ],
   "source": [
    "test12(45,67,887,90, g = 9867, l = 896)"
   ]
  },
  {
   "cell_type": "markdown",
   "id": "f715456c",
   "metadata": {},
   "source": [
    "## lambda function "
   ]
  },
  {
   "cell_type": "code",
   "execution_count": 37,
   "id": "ceb6e1ee",
   "metadata": {},
   "outputs": [],
   "source": [
    "def test13(a, b): \n",
    "    return a*b"
   ]
  },
  {
   "cell_type": "code",
   "execution_count": 38,
   "id": "1261a869",
   "metadata": {},
   "outputs": [
    {
     "data": {
      "text/plain": [
       "45"
      ]
     },
     "execution_count": 38,
     "metadata": {},
     "output_type": "execute_result"
    }
   ],
   "source": [
    "test13(9,5)"
   ]
  },
  {
   "cell_type": "code",
   "execution_count": 39,
   "id": "cb68b6ee",
   "metadata": {},
   "outputs": [],
   "source": [
    "a = lambda a,b: a*b "
   ]
  },
  {
   "cell_type": "code",
   "execution_count": 40,
   "id": "9000d7e9",
   "metadata": {},
   "outputs": [
    {
     "data": {
      "text/plain": [
       "45"
      ]
     },
     "execution_count": 40,
     "metadata": {},
     "output_type": "execute_result"
    }
   ],
   "source": [
    "a(9,5)"
   ]
  },
  {
   "cell_type": "code",
   "execution_count": 41,
   "id": "ce59dcae",
   "metadata": {},
   "outputs": [],
   "source": [
    "a = lambda *a : a"
   ]
  },
  {
   "cell_type": "code",
   "execution_count": 42,
   "id": "b2c5eaac",
   "metadata": {},
   "outputs": [
    {
     "data": {
      "text/plain": [
       "(49, 75, 78)"
      ]
     },
     "execution_count": 42,
     "metadata": {},
     "output_type": "execute_result"
    }
   ],
   "source": [
    "a(49,75, 78)"
   ]
  },
  {
   "cell_type": "code",
   "execution_count": 43,
   "id": "76a69142",
   "metadata": {},
   "outputs": [],
   "source": [
    " x = lambda *a : a*a"
   ]
  },
  {
   "cell_type": "code",
   "execution_count": 44,
   "id": "b4dc20b8",
   "metadata": {},
   "outputs": [],
   "source": [
    "a = lambda a,b : (a*b , a+b)"
   ]
  },
  {
   "cell_type": "code",
   "execution_count": 45,
   "id": "4d6e783a",
   "metadata": {},
   "outputs": [
    {
     "data": {
      "text/plain": [
       "(45, 14)"
      ]
     },
     "execution_count": 45,
     "metadata": {},
     "output_type": "execute_result"
    }
   ],
   "source": [
    "a(9,5)"
   ]
  },
  {
   "cell_type": "code",
   "execution_count": 46,
   "id": "abff6a70",
   "metadata": {},
   "outputs": [
    {
     "ename": "SyntaxError",
     "evalue": "invalid syntax (2793161256.py, line 1)",
     "output_type": "error",
     "traceback": [
      "\u001b[1;36m  Input \u001b[1;32mIn [46]\u001b[1;36m\u001b[0m\n\u001b[1;33m    x = lambda x : (for i in x: print(i))\u001b[0m\n\u001b[1;37m                    ^\u001b[0m\n\u001b[1;31mSyntaxError\u001b[0m\u001b[1;31m:\u001b[0m invalid syntax\n"
     ]
    }
   ],
   "source": [
    "x = lambda x : (for i in x: print(i))"
   ]
  },
  {
   "cell_type": "code",
   "execution_count": 47,
   "id": "1d60c028",
   "metadata": {},
   "outputs": [],
   "source": [
    "x = lambda x : [print(i) for i in x]"
   ]
  },
  {
   "cell_type": "code",
   "execution_count": 48,
   "id": "087e4e73",
   "metadata": {},
   "outputs": [
    {
     "name": "stdout",
     "output_type": "stream",
     "text": [
      "4\n",
      "5\n",
      "6\n",
      "7\n"
     ]
    },
    {
     "data": {
      "text/plain": [
       "[None, None, None, None]"
      ]
     },
     "execution_count": 48,
     "metadata": {},
     "output_type": "execute_result"
    }
   ],
   "source": [
    "x([4,5,6,7])"
   ]
  },
  {
   "cell_type": "code",
   "execution_count": 49,
   "id": "f8fb58cd",
   "metadata": {},
   "outputs": [],
   "source": [
    "x = lambda x : [i for i in x]"
   ]
  },
  {
   "cell_type": "code",
   "execution_count": 50,
   "id": "c15004ad",
   "metadata": {},
   "outputs": [
    {
     "data": {
      "text/plain": [
       "[4, 5, 6, 27]"
      ]
     },
     "execution_count": 50,
     "metadata": {},
     "output_type": "execute_result"
    }
   ],
   "source": [
    "x([4,5,6,27])"
   ]
  },
  {
   "cell_type": "code",
   "execution_count": 51,
   "id": "262fb61a",
   "metadata": {},
   "outputs": [],
   "source": [
    "a = lambda **kwargs : kwargs"
   ]
  },
  {
   "cell_type": "code",
   "execution_count": 52,
   "id": "78b21459",
   "metadata": {},
   "outputs": [
    {
     "data": {
      "text/plain": [
       "{'a': 45, 'b': 56}"
      ]
     },
     "execution_count": 52,
     "metadata": {},
     "output_type": "execute_result"
    }
   ],
   "source": [
    "a( a = 45, b = 56)"
   ]
  },
  {
   "cell_type": "code",
   "execution_count": 53,
   "id": "40221cd9",
   "metadata": {},
   "outputs": [],
   "source": [
    "a = 10\n",
    "def test16(c,d):\n",
    "    return c*d"
   ]
  },
  {
   "cell_type": "code",
   "execution_count": 54,
   "id": "9d61c6c6",
   "metadata": {},
   "outputs": [
    {
     "data": {
      "text/plain": [
       "200"
      ]
     },
     "execution_count": 54,
     "metadata": {},
     "output_type": "execute_result"
    }
   ],
   "source": [
    "test16(a,20)"
   ]
  },
  {
   "cell_type": "code",
   "execution_count": 55,
   "id": "4efeabd2",
   "metadata": {},
   "outputs": [],
   "source": [
    "a = 10\n",
    "def test16(c,d):\n",
    "    a = 5 # will not be assigned 5 as it is already a = c = 10\n",
    "    return c*d"
   ]
  },
  {
   "cell_type": "code",
   "execution_count": 56,
   "id": "1e6b63c8",
   "metadata": {},
   "outputs": [
    {
     "data": {
      "text/plain": [
       "200"
      ]
     },
     "execution_count": 56,
     "metadata": {},
     "output_type": "execute_result"
    }
   ],
   "source": [
    "test16(a,20)"
   ]
  },
  {
   "cell_type": "code",
   "execution_count": 57,
   "id": "284020d6",
   "metadata": {},
   "outputs": [],
   "source": [
    "a = 10\n",
    "def test16(c,d):\n",
    "    c = 5 # will be assigned 5\n",
    "    return c*d"
   ]
  },
  {
   "cell_type": "code",
   "execution_count": 58,
   "id": "acf21e7b",
   "metadata": {},
   "outputs": [
    {
     "data": {
      "text/plain": [
       "100"
      ]
     },
     "execution_count": 58,
     "metadata": {},
     "output_type": "execute_result"
    }
   ],
   "source": [
    "test16(a,20)"
   ]
  },
  {
   "cell_type": "code",
   "execution_count": 59,
   "id": "2e0fc91d",
   "metadata": {},
   "outputs": [],
   "source": [
    "c = 10\n",
    "def test16(c,d):\n",
    "    c = 5\n",
    "    return c*d"
   ]
  },
  {
   "cell_type": "code",
   "execution_count": 60,
   "id": "24774096",
   "metadata": {},
   "outputs": [
    {
     "data": {
      "text/plain": [
       "100"
      ]
     },
     "execution_count": 60,
     "metadata": {},
     "output_type": "execute_result"
    }
   ],
   "source": [
    "test16(10,20)"
   ]
  },
  {
   "cell_type": "code",
   "execution_count": 61,
   "id": "e5a2a593",
   "metadata": {},
   "outputs": [
    {
     "data": {
      "text/plain": [
       "10"
      ]
     },
     "execution_count": 61,
     "metadata": {},
     "output_type": "execute_result"
    }
   ],
   "source": [
    "c"
   ]
  },
  {
   "cell_type": "markdown",
   "id": "d1df8797",
   "metadata": {},
   "source": [
    "## List comprehension operation"
   ]
  },
  {
   "cell_type": "code",
   "execution_count": 62,
   "id": "b961be83",
   "metadata": {},
   "outputs": [],
   "source": [
    "l = [1,2,3,4,5, 45,67,89,9]       # Method 1\n",
    "l1 = []\n",
    "for i in l:\n",
    "    l1.append(i+2)"
   ]
  },
  {
   "cell_type": "code",
   "execution_count": 63,
   "id": "5034e908",
   "metadata": {},
   "outputs": [
    {
     "data": {
      "text/plain": [
       "[3, 4, 5, 6, 7, 47, 69, 91, 11]"
      ]
     },
     "execution_count": 63,
     "metadata": {},
     "output_type": "execute_result"
    }
   ],
   "source": [
    "l1"
   ]
  },
  {
   "cell_type": "code",
   "execution_count": 64,
   "id": "76b34474",
   "metadata": {},
   "outputs": [],
   "source": [
    "def test17(a):   # Method  2\n",
    "    l1 = []\n",
    "    for i in a:\n",
    "        l1.append(i+2)\n",
    "    return l1"
   ]
  },
  {
   "cell_type": "code",
   "execution_count": 65,
   "id": "f4f6ac65",
   "metadata": {},
   "outputs": [
    {
     "data": {
      "text/plain": [
       "[3, 4, 5, 6, 7, 47, 69, 91, 11]"
      ]
     },
     "execution_count": 65,
     "metadata": {},
     "output_type": "execute_result"
    }
   ],
   "source": [
    "test17(l)"
   ]
  },
  {
   "cell_type": "code",
   "execution_count": 66,
   "id": "51e11d43",
   "metadata": {},
   "outputs": [],
   "source": [
    "a = lambda a: [i+2 for i in a] # Method 3"
   ]
  },
  {
   "cell_type": "code",
   "execution_count": 67,
   "id": "29ad82cd",
   "metadata": {},
   "outputs": [
    {
     "data": {
      "text/plain": [
       "[3, 4, 5, 6, 7, 47, 69, 91, 11]"
      ]
     },
     "execution_count": 67,
     "metadata": {},
     "output_type": "execute_result"
    }
   ],
   "source": [
    "a(l)"
   ]
  },
  {
   "cell_type": "code",
   "execution_count": 68,
   "id": "51df2bfa",
   "metadata": {},
   "outputs": [
    {
     "data": {
      "text/plain": [
       "[1, 2, 3, 4, 5, 45, 67, 89, 9]"
      ]
     },
     "execution_count": 68,
     "metadata": {},
     "output_type": "execute_result"
    }
   ],
   "source": [
    "l"
   ]
  },
  {
   "cell_type": "code",
   "execution_count": 69,
   "id": "369249b0",
   "metadata": {},
   "outputs": [
    {
     "data": {
      "text/plain": [
       "[3, 4, 5, 6, 7, 47, 69, 91, 11]"
      ]
     },
     "execution_count": 69,
     "metadata": {},
     "output_type": "execute_result"
    }
   ],
   "source": [
    "[i + 2 for i in l] # Method 4"
   ]
  },
  {
   "cell_type": "code",
   "execution_count": 70,
   "id": "59acacf9",
   "metadata": {},
   "outputs": [
    {
     "data": {
      "text/plain": [
       "[1, 4, 9, 16, 25, 2025, 4489, 7921, 81]"
      ]
     },
     "execution_count": 70,
     "metadata": {},
     "output_type": "execute_result"
    }
   ],
   "source": [
    "[i ** 2 for i in l]"
   ]
  },
  {
   "cell_type": "code",
   "execution_count": 71,
   "id": "5a089c17",
   "metadata": {},
   "outputs": [
    {
     "data": {
      "text/plain": [
       "[(1, 2),\n",
       " (4, 3),\n",
       " (9, 4),\n",
       " (16, 5),\n",
       " (25, 6),\n",
       " (2025, 46),\n",
       " (4489, 68),\n",
       " (7921, 90),\n",
       " (81, 10)]"
      ]
     },
     "execution_count": 71,
     "metadata": {},
     "output_type": "execute_result"
    }
   ],
   "source": [
    "[(i ** 2, i + 1) for i in l]"
   ]
  },
  {
   "cell_type": "code",
   "execution_count": 72,
   "id": "7cabb95f",
   "metadata": {},
   "outputs": [
    {
     "data": {
      "text/plain": [
       "[(1, 1),\n",
       " (2, 4),\n",
       " (3, 9),\n",
       " (4, 16),\n",
       " (5, 25),\n",
       " (45, 2025),\n",
       " (67, 4489),\n",
       " (89, 7921),\n",
       " (9, 81)]"
      ]
     },
     "execution_count": 72,
     "metadata": {},
     "output_type": "execute_result"
    }
   ],
   "source": [
    "[(i, i ** 2) for i in l]"
   ]
  },
  {
   "cell_type": "code",
   "execution_count": 73,
   "id": "b78b90e5",
   "metadata": {},
   "outputs": [
    {
     "data": {
      "text/plain": [
       "[(1, 2), (4, 4), (9, 6)]"
      ]
     },
     "execution_count": 73,
     "metadata": {},
     "output_type": "execute_result"
    }
   ],
   "source": [
    "[(i ** 2, i + i) for i in l if i<4]"
   ]
  },
  {
   "cell_type": "code",
   "execution_count": 74,
   "id": "51da8deb",
   "metadata": {},
   "outputs": [],
   "source": [
    "l1 = []\n",
    "for i in l:\n",
    "    if i < 4:\n",
    "         l1.append ((i**2, i+i))"
   ]
  },
  {
   "cell_type": "code",
   "execution_count": 75,
   "id": "7ad68563",
   "metadata": {},
   "outputs": [
    {
     "data": {
      "text/plain": [
       "[(1, 2), (4, 4), (9, 6)]"
      ]
     },
     "execution_count": 75,
     "metadata": {},
     "output_type": "execute_result"
    }
   ],
   "source": [
    "l1"
   ]
  },
  {
   "cell_type": "code",
   "execution_count": 76,
   "id": "7e8b18aa",
   "metadata": {},
   "outputs": [
    {
     "data": {
      "text/plain": [
       "[(9, 6), (16, 8), (25, 10), (81, 18)]"
      ]
     },
     "execution_count": 76,
     "metadata": {},
     "output_type": "execute_result"
    }
   ],
   "source": [
    "[(i ** 2, i + i) for i in l if i<10 if i>2]"
   ]
  },
  {
   "cell_type": "code",
   "execution_count": 77,
   "id": "063dc190",
   "metadata": {},
   "outputs": [
    {
     "data": {
      "text/plain": [
       "[(4, 4), (9, 6), (16, 8), (25, 10)]"
      ]
     },
     "execution_count": 77,
     "metadata": {},
     "output_type": "execute_result"
    }
   ],
   "source": [
    "[(i ** 2, i + i) for i in l if i<=5 if i>=2]"
   ]
  },
  {
   "cell_type": "code",
   "execution_count": 78,
   "id": "d9af5e3c",
   "metadata": {},
   "outputs": [],
   "source": [
    "d = {1:1, 2 : 4, 3 : 9}"
   ]
  },
  {
   "cell_type": "code",
   "execution_count": 79,
   "id": "3ac9f96b",
   "metadata": {},
   "outputs": [
    {
     "data": {
      "text/plain": [
       "{0: 0, 1: 1, 2: 4, 3: 9, 4: 16, 5: 25, 6: 36, 7: 49, 8: 64, 9: 81}"
      ]
     },
     "execution_count": 79,
     "metadata": {},
     "output_type": "execute_result"
    }
   ],
   "source": [
    "{i:i**2 for i in range (10)}"
   ]
  },
  {
   "cell_type": "markdown",
   "id": "7902ec98",
   "metadata": {},
   "source": [
    "d1 = {}\n",
    "for i in range (10):\n",
    "    d1[i] = i**2"
   ]
  },
  {
   "cell_type": "code",
   "execution_count": 80,
   "id": "0307bca2",
   "metadata": {},
   "outputs": [
    {
     "ename": "NameError",
     "evalue": "name 'd1' is not defined",
     "output_type": "error",
     "traceback": [
      "\u001b[1;31m---------------------------------------------------------------------------\u001b[0m",
      "\u001b[1;31mNameError\u001b[0m                                 Traceback (most recent call last)",
      "Input \u001b[1;32mIn [80]\u001b[0m, in \u001b[0;36m<cell line: 1>\u001b[1;34m()\u001b[0m\n\u001b[1;32m----> 1\u001b[0m \u001b[43md1\u001b[49m\n",
      "\u001b[1;31mNameError\u001b[0m: name 'd1' is not defined"
     ]
    }
   ],
   "source": [
    "d1"
   ]
  },
  {
   "cell_type": "code",
   "execution_count": 81,
   "id": "80f97571",
   "metadata": {},
   "outputs": [
    {
     "data": {
      "text/plain": [
       "<generator object <genexpr> at 0x0000022FBE3E3EB0>"
      ]
     },
     "execution_count": 81,
     "metadata": {},
     "output_type": "execute_result"
    }
   ],
   "source": [
    "(i for i in range (10))"
   ]
  },
  {
   "cell_type": "code",
   "execution_count": 82,
   "id": "4f8fdb15",
   "metadata": {},
   "outputs": [
    {
     "data": {
      "text/plain": [
       "(0, 1, 2, 3, 4, 5, 6, 7, 8, 9)"
      ]
     },
     "execution_count": 82,
     "metadata": {},
     "output_type": "execute_result"
    }
   ],
   "source": [
    "tuple(i for i in range (10))"
   ]
  },
  {
   "cell_type": "markdown",
   "id": "bffe0e66",
   "metadata": {},
   "source": [
    "## generator object, iterator, iterables "
   ]
  },
  {
   "cell_type": "code",
   "execution_count": 83,
   "id": "942e75ce",
   "metadata": {},
   "outputs": [
    {
     "ename": "TypeError",
     "evalue": "'int' object is not iterable",
     "output_type": "error",
     "traceback": [
      "\u001b[1;31m---------------------------------------------------------------------------\u001b[0m",
      "\u001b[1;31mTypeError\u001b[0m                                 Traceback (most recent call last)",
      "Input \u001b[1;32mIn [83]\u001b[0m, in \u001b[0;36m<cell line: 2>\u001b[1;34m()\u001b[0m\n\u001b[0;32m      1\u001b[0m a \u001b[38;5;241m=\u001b[39m \u001b[38;5;241m56\u001b[39m   \u001b[38;5;66;03m# interger is a non iterable object\u001b[39;00m\n\u001b[1;32m----> 2\u001b[0m \u001b[38;5;28;01mfor\u001b[39;00m i \u001b[38;5;129;01min\u001b[39;00m a:\n\u001b[0;32m      3\u001b[0m     \u001b[38;5;28mprint\u001b[39m(i)\n",
      "\u001b[1;31mTypeError\u001b[0m: 'int' object is not iterable"
     ]
    }
   ],
   "source": [
    "a = 56   # interger is a non iterable object\n",
    "for i in a:\n",
    "    print(i)"
   ]
  },
  {
   "cell_type": "code",
   "execution_count": 84,
   "id": "b0f4abbb",
   "metadata": {},
   "outputs": [
    {
     "name": "stdout",
     "output_type": "stream",
     "text": [
      "i\n",
      "l\n",
      "a\n",
      "y\n",
      "a\n"
     ]
    }
   ],
   "source": [
    "s = \"ilaya\"  # string is an iterable object\n",
    "for i in s:\n",
    "    print(i)"
   ]
  },
  {
   "cell_type": "code",
   "execution_count": 85,
   "id": "99b16d1c",
   "metadata": {},
   "outputs": [
    {
     "ename": "TypeError",
     "evalue": "'str' object is not an iterator",
     "output_type": "error",
     "traceback": [
      "\u001b[1;31m---------------------------------------------------------------------------\u001b[0m",
      "\u001b[1;31mTypeError\u001b[0m                                 Traceback (most recent call last)",
      "Input \u001b[1;32mIn [85]\u001b[0m, in \u001b[0;36m<cell line: 1>\u001b[1;34m()\u001b[0m\n\u001b[1;32m----> 1\u001b[0m \u001b[38;5;28;43mnext\u001b[39;49m\u001b[43m(\u001b[49m\u001b[43ms\u001b[49m\u001b[43m)\u001b[49m\n",
      "\u001b[1;31mTypeError\u001b[0m: 'str' object is not an iterator"
     ]
    }
   ],
   "source": [
    "next(s)"
   ]
  },
  {
   "cell_type": "code",
   "execution_count": 86,
   "id": "79619abb",
   "metadata": {},
   "outputs": [
    {
     "ename": "TypeError",
     "evalue": "'int' object is not an iterator",
     "output_type": "error",
     "traceback": [
      "\u001b[1;31m---------------------------------------------------------------------------\u001b[0m",
      "\u001b[1;31mTypeError\u001b[0m                                 Traceback (most recent call last)",
      "Input \u001b[1;32mIn [86]\u001b[0m, in \u001b[0;36m<cell line: 1>\u001b[1;34m()\u001b[0m\n\u001b[1;32m----> 1\u001b[0m \u001b[38;5;28;43mnext\u001b[39;49m\u001b[43m(\u001b[49m\u001b[43ma\u001b[49m\u001b[43m)\u001b[49m\n",
      "\u001b[1;31mTypeError\u001b[0m: 'int' object is not an iterator"
     ]
    }
   ],
   "source": [
    "next(a)"
   ]
  },
  {
   "cell_type": "code",
   "execution_count": 87,
   "id": "42041f23",
   "metadata": {},
   "outputs": [],
   "source": [
    "#  'str' object is not an iterator but it is iterable\n",
    "# But it is possible with iter function"
   ]
  },
  {
   "cell_type": "code",
   "execution_count": 88,
   "id": "9b1419f9",
   "metadata": {},
   "outputs": [],
   "source": [
    "b = iter(s) # to convert iterable into iterator"
   ]
  },
  {
   "cell_type": "code",
   "execution_count": 89,
   "id": "a28593bc",
   "metadata": {},
   "outputs": [
    {
     "data": {
      "text/plain": [
       "<str_iterator at 0x22fbd981be0>"
      ]
     },
     "execution_count": 89,
     "metadata": {},
     "output_type": "execute_result"
    }
   ],
   "source": [
    "b"
   ]
  },
  {
   "cell_type": "code",
   "execution_count": 90,
   "id": "ba3999d0",
   "metadata": {},
   "outputs": [
    {
     "data": {
      "text/plain": [
       "'i'"
      ]
     },
     "execution_count": 90,
     "metadata": {},
     "output_type": "execute_result"
    }
   ],
   "source": [
    "next(b)"
   ]
  },
  {
   "cell_type": "code",
   "execution_count": 91,
   "id": "14978c06",
   "metadata": {},
   "outputs": [
    {
     "data": {
      "text/plain": [
       "'l'"
      ]
     },
     "execution_count": 91,
     "metadata": {},
     "output_type": "execute_result"
    }
   ],
   "source": [
    "next(b)"
   ]
  },
  {
   "cell_type": "code",
   "execution_count": 92,
   "id": "ee205b2f",
   "metadata": {},
   "outputs": [
    {
     "data": {
      "text/plain": [
       "'a'"
      ]
     },
     "execution_count": 92,
     "metadata": {},
     "output_type": "execute_result"
    }
   ],
   "source": [
    "next(b)"
   ]
  },
  {
   "cell_type": "code",
   "execution_count": 93,
   "id": "95a499e9",
   "metadata": {},
   "outputs": [
    {
     "data": {
      "text/plain": [
       "'y'"
      ]
     },
     "execution_count": 93,
     "metadata": {},
     "output_type": "execute_result"
    }
   ],
   "source": [
    "next(b)"
   ]
  },
  {
   "cell_type": "code",
   "execution_count": 94,
   "id": "c1c870fd",
   "metadata": {},
   "outputs": [
    {
     "data": {
      "text/plain": [
       "'a'"
      ]
     },
     "execution_count": 94,
     "metadata": {},
     "output_type": "execute_result"
    }
   ],
   "source": [
    "next(b)"
   ]
  },
  {
   "cell_type": "code",
   "execution_count": 95,
   "id": "974618e7",
   "metadata": {},
   "outputs": [
    {
     "name": "stdout",
     "output_type": "stream",
     "text": [
      "i\n",
      "l\n",
      "a\n",
      "y\n",
      "a\n"
     ]
    }
   ],
   "source": [
    "s = \"ilaya\"  # string is an iterable object\n",
    "for i in s:\n",
    "    print(i)"
   ]
  },
  {
   "cell_type": "code",
   "execution_count": 96,
   "id": "756b6294",
   "metadata": {},
   "outputs": [],
   "source": [
    "l = [3,4,5,6,7]"
   ]
  },
  {
   "cell_type": "code",
   "execution_count": 97,
   "id": "8252ebd0",
   "metadata": {},
   "outputs": [
    {
     "ename": "TypeError",
     "evalue": "'list' object is not an iterator",
     "output_type": "error",
     "traceback": [
      "\u001b[1;31m---------------------------------------------------------------------------\u001b[0m",
      "\u001b[1;31mTypeError\u001b[0m                                 Traceback (most recent call last)",
      "Input \u001b[1;32mIn [97]\u001b[0m, in \u001b[0;36m<cell line: 1>\u001b[1;34m()\u001b[0m\n\u001b[1;32m----> 1\u001b[0m \u001b[38;5;28;43mnext\u001b[39;49m\u001b[43m(\u001b[49m\u001b[43ml\u001b[49m\u001b[43m)\u001b[49m\n",
      "\u001b[1;31mTypeError\u001b[0m: 'list' object is not an iterator"
     ]
    }
   ],
   "source": [
    "next(l)"
   ]
  },
  {
   "cell_type": "code",
   "execution_count": 98,
   "id": "4f821d30",
   "metadata": {},
   "outputs": [
    {
     "ename": "TypeError",
     "evalue": "'int' object is not iterable",
     "output_type": "error",
     "traceback": [
      "\u001b[1;31m---------------------------------------------------------------------------\u001b[0m",
      "\u001b[1;31mTypeError\u001b[0m                                 Traceback (most recent call last)",
      "Input \u001b[1;32mIn [98]\u001b[0m, in \u001b[0;36m<cell line: 1>\u001b[1;34m()\u001b[0m\n\u001b[1;32m----> 1\u001b[0m \u001b[38;5;28;43miter\u001b[39;49m\u001b[43m(\u001b[49m\u001b[38;5;241;43m45\u001b[39;49m\u001b[43m)\u001b[49m\n",
      "\u001b[1;31mTypeError\u001b[0m: 'int' object is not iterable"
     ]
    }
   ],
   "source": [
    "iter(45)"
   ]
  },
  {
   "cell_type": "code",
   "execution_count": 99,
   "id": "29ebef2c",
   "metadata": {},
   "outputs": [
    {
     "data": {
      "text/plain": [
       "[3, 4, 5, 6, 7]"
      ]
     },
     "execution_count": 99,
     "metadata": {},
     "output_type": "execute_result"
    }
   ],
   "source": [
    "l"
   ]
  },
  {
   "cell_type": "code",
   "execution_count": 100,
   "id": "4146ff37",
   "metadata": {},
   "outputs": [],
   "source": [
    " l = iter(l)"
   ]
  },
  {
   "cell_type": "code",
   "execution_count": 101,
   "id": "a03a0d7d",
   "metadata": {},
   "outputs": [
    {
     "data": {
      "text/plain": [
       "3"
      ]
     },
     "execution_count": 101,
     "metadata": {},
     "output_type": "execute_result"
    }
   ],
   "source": [
    "next(l)"
   ]
  },
  {
   "cell_type": "code",
   "execution_count": 102,
   "id": "92171b42",
   "metadata": {},
   "outputs": [
    {
     "data": {
      "text/plain": [
       "4"
      ]
     },
     "execution_count": 102,
     "metadata": {},
     "output_type": "execute_result"
    }
   ],
   "source": [
    "next(l)"
   ]
  },
  {
   "cell_type": "code",
   "execution_count": 103,
   "id": "771aaf80",
   "metadata": {},
   "outputs": [
    {
     "data": {
      "text/plain": [
       "5"
      ]
     },
     "execution_count": 103,
     "metadata": {},
     "output_type": "execute_result"
    }
   ],
   "source": [
    "next(l)"
   ]
  },
  {
   "cell_type": "code",
   "execution_count": 104,
   "id": "5c637376",
   "metadata": {},
   "outputs": [
    {
     "data": {
      "text/plain": [
       "6"
      ]
     },
     "execution_count": 104,
     "metadata": {},
     "output_type": "execute_result"
    }
   ],
   "source": [
    "next(l)"
   ]
  },
  {
   "cell_type": "code",
   "execution_count": 105,
   "id": "393bf41d",
   "metadata": {},
   "outputs": [
    {
     "data": {
      "text/plain": [
       "7"
      ]
     },
     "execution_count": 105,
     "metadata": {},
     "output_type": "execute_result"
    }
   ],
   "source": [
    "next(l)"
   ]
  },
  {
   "cell_type": "code",
   "execution_count": 106,
   "id": "8c3d0d65",
   "metadata": {},
   "outputs": [
    {
     "ename": "StopIteration",
     "evalue": "",
     "output_type": "error",
     "traceback": [
      "\u001b[1;31m---------------------------------------------------------------------------\u001b[0m",
      "\u001b[1;31mStopIteration\u001b[0m                             Traceback (most recent call last)",
      "Input \u001b[1;32mIn [106]\u001b[0m, in \u001b[0;36m<cell line: 1>\u001b[1;34m()\u001b[0m\n\u001b[1;32m----> 1\u001b[0m \u001b[38;5;28;43mnext\u001b[39;49m\u001b[43m(\u001b[49m\u001b[43ml\u001b[49m\u001b[43m)\u001b[49m\n",
      "\u001b[1;31mStopIteration\u001b[0m: "
     ]
    }
   ],
   "source": [
    "next(l)"
   ]
  },
  {
   "cell_type": "code",
   "execution_count": null,
   "id": "5d6c69a3",
   "metadata": {},
   "outputs": [],
   "source": []
  }
 ],
 "metadata": {
  "kernelspec": {
   "display_name": "Python 3 (ipykernel)",
   "language": "python",
   "name": "python3"
  },
  "language_info": {
   "codemirror_mode": {
    "name": "ipython",
    "version": 3
   },
   "file_extension": ".py",
   "mimetype": "text/x-python",
   "name": "python",
   "nbconvert_exporter": "python",
   "pygments_lexer": "ipython3",
   "version": "3.9.12"
  }
 },
 "nbformat": 4,
 "nbformat_minor": 5
}
