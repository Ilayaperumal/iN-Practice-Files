{
 "cells": [
  {
   "cell_type": "code",
   "execution_count": 1,
   "id": "493df67e",
   "metadata": {},
   "outputs": [],
   "source": [
    "import test2"
   ]
  },
  {
   "cell_type": "code",
   "execution_count": 2,
   "id": "1d2d1ad2",
   "metadata": {},
   "outputs": [
    {
     "data": {
      "text/plain": [
       "9"
      ]
     },
     "execution_count": 2,
     "metadata": {},
     "output_type": "execute_result"
    }
   ],
   "source": [
    "test2.test(4,5)"
   ]
  },
  {
   "cell_type": "code",
   "execution_count": 3,
   "id": "ebcdaf6c",
   "metadata": {},
   "outputs": [
    {
     "name": "stdout",
     "output_type": "stream",
     "text": [
      "this is my code written in module test 2\n"
     ]
    }
   ],
   "source": [
    "test2.test4()"
   ]
  },
  {
   "cell_type": "code",
   "execution_count": 4,
   "id": "f1e22fcf",
   "metadata": {},
   "outputs": [
    {
     "data": {
      "text/plain": [
       "0.4"
      ]
     },
     "execution_count": 4,
     "metadata": {},
     "output_type": "execute_result"
    }
   ],
   "source": [
    "test2.test3(2,5)"
   ]
  },
  {
   "cell_type": "code",
   "execution_count": 5,
   "id": "c8115e18",
   "metadata": {},
   "outputs": [
    {
     "data": {
      "text/plain": [
       "10"
      ]
     },
     "execution_count": 5,
     "metadata": {},
     "output_type": "execute_result"
    }
   ],
   "source": [
    "test2.test1(5,2)"
   ]
  },
  {
   "cell_type": "code",
   "execution_count": 6,
   "id": "f6049027",
   "metadata": {},
   "outputs": [],
   "source": [
    "from test2 import test5"
   ]
  },
  {
   "cell_type": "code",
   "execution_count": 7,
   "id": "de9e4a6c",
   "metadata": {},
   "outputs": [
    {
     "data": {
      "text/plain": [
       "3"
      ]
     },
     "execution_count": 7,
     "metadata": {},
     "output_type": "execute_result"
    }
   ],
   "source": [
    "test2.test5(5,2)"
   ]
  },
  {
   "cell_type": "code",
   "execution_count": 8,
   "id": "c1bc5939",
   "metadata": {},
   "outputs": [],
   "source": [
    "# TO import all tests\n",
    "from test2 import * "
   ]
  },
  {
   "cell_type": "code",
   "execution_count": 9,
   "id": "ae61f1ad",
   "metadata": {},
   "outputs": [
    {
     "data": {
      "text/plain": [
       "56"
      ]
     },
     "execution_count": 9,
     "metadata": {},
     "output_type": "execute_result"
    }
   ],
   "source": [
    "test1(7,8)"
   ]
  },
  {
   "cell_type": "code",
   "execution_count": 10,
   "id": "75e71a29",
   "metadata": {},
   "outputs": [],
   "source": [
    "l = [3,4,5,6]"
   ]
  },
  {
   "cell_type": "code",
   "execution_count": 11,
   "id": "662f21db",
   "metadata": {},
   "outputs": [],
   "source": [
    "# https://docs.python.org/3/py-modindex.html"
   ]
  },
  {
   "cell_type": "code",
   "execution_count": 12,
   "id": "a2fed13e",
   "metadata": {},
   "outputs": [],
   "source": [
    "# Python libraries in GitHub\n",
    "# https://github.com/python/cpython/tree/main/Lib"
   ]
  },
  {
   "cell_type": "code",
   "execution_count": 13,
   "id": "be12fab0",
   "metadata": {},
   "outputs": [
    {
     "data": {
      "text/plain": [
       "['In',\n",
       " 'Out',\n",
       " '_',\n",
       " '_2',\n",
       " '_4',\n",
       " '_5',\n",
       " '_7',\n",
       " '_9',\n",
       " '__',\n",
       " '___',\n",
       " '__builtin__',\n",
       " '__builtins__',\n",
       " '__doc__',\n",
       " '__loader__',\n",
       " '__name__',\n",
       " '__package__',\n",
       " '__spec__',\n",
       " '_dh',\n",
       " '_i',\n",
       " '_i1',\n",
       " '_i10',\n",
       " '_i11',\n",
       " '_i12',\n",
       " '_i13',\n",
       " '_i2',\n",
       " '_i3',\n",
       " '_i4',\n",
       " '_i5',\n",
       " '_i6',\n",
       " '_i7',\n",
       " '_i8',\n",
       " '_i9',\n",
       " '_ih',\n",
       " '_ii',\n",
       " '_iii',\n",
       " '_oh',\n",
       " 'exit',\n",
       " 'get_ipython',\n",
       " 'l',\n",
       " 'quit',\n",
       " 'test',\n",
       " 'test1',\n",
       " 'test2',\n",
       " 'test3',\n",
       " 'test4',\n",
       " 'test5']"
      ]
     },
     "execution_count": 13,
     "metadata": {},
     "output_type": "execute_result"
    }
   ],
   "source": [
    "dir()"
   ]
  },
  {
   "cell_type": "code",
   "execution_count": 14,
   "id": "915325b9",
   "metadata": {},
   "outputs": [
    {
     "data": {
      "text/plain": [
       "<_io.TextIOWrapper name='my_module.py' mode='w' encoding='cp1252'>"
      ]
     },
     "execution_count": 14,
     "metadata": {},
     "output_type": "execute_result"
    }
   ],
   "source": [
    "open(\"my_module.py\",\"w\")"
   ]
  },
  {
   "cell_type": "code",
   "execution_count": 15,
   "id": "1ffae258",
   "metadata": {},
   "outputs": [
    {
     "name": "stdout",
     "output_type": "stream",
     "text": [
      " Volume in drive C is Windows-SSD\n",
      " Volume Serial Number is 5840-D1B1\n",
      "\n",
      " Directory of C:\\Users\\ilaya\n",
      "\n",
      "02-11-2022  21:17    <DIR>          .\n",
      "30-09-2022  21:41    <DIR>          ..\n",
      "02-11-2022  19:08    <DIR>          .ipynb_checkpoints\n",
      "30-10-2022  01:27    <DIR>          .ipython\n",
      "01-11-2022  16:55    <DIR>          .jupyter\n",
      "01-10-2022  11:52    <DIR>          .ms-ad\n",
      "02-11-2022  21:14    <DIR>          __pycache__\n",
      "30-10-2022  01:20    <DIR>          anaconda3\n",
      "30-09-2022  21:09    <DIR>          Contacts\n",
      "01-11-2022  12:39         1,147,264 Crash Course v0.51.ipynb\n",
      "30-09-2022  21:11    <DIR>          Documents\n",
      "02-11-2022  13:13    <DIR>          Downloads\n",
      "30-09-2022  21:09    <DIR>          Favorites\n",
      "30-09-2022  21:09    <DIR>          Links\n",
      "02-11-2022  21:17             9,554 Module , Packages 2.ipynb\n",
      "02-11-2022  21:15             7,297 Module , Packages.ipynb\n",
      "30-09-2022  21:09    <DIR>          Music\n",
      "02-11-2022  21:18                 0 my_module.py\n",
      "02-10-2022  11:11    <DIR>          OneDrive\n",
      "01-11-2022  17:10             5,694 Practice - letuscrack .ipynb\n",
      "30-10-2022  01:27             7,020 Pyramid Patterns.ipynb\n",
      "30-09-2022  21:09    <DIR>          Saved Games\n",
      "30-09-2022  21:41    <DIR>          Searches\n",
      "02-11-2022  18:39                 0 test1.py\n",
      "02-11-2022  20:58               252 test2.py\n",
      "30-10-2022  15:09               589 Untitled.ipynb\n",
      "30-10-2022  00:41    <DIR>          Videos\n",
      "               9 File(s)      1,177,670 bytes\n",
      "              18 Dir(s)  64,257,843,200 bytes free\n"
     ]
    }
   ],
   "source": [
    "ls"
   ]
  },
  {
   "cell_type": "code",
   "execution_count": 23,
   "id": "fb6a649d",
   "metadata": {},
   "outputs": [],
   "source": [
    "import my_module"
   ]
  },
  {
   "cell_type": "code",
   "execution_count": 25,
   "id": "76d07985",
   "metadata": {},
   "outputs": [
    {
     "ename": "AttributeError",
     "evalue": "module 'my_module' has no attribute 'get_course'",
     "output_type": "error",
     "traceback": [
      "\u001b[1;31m---------------------------------------------------------------------------\u001b[0m",
      "\u001b[1;31mAttributeError\u001b[0m                            Traceback (most recent call last)",
      "Input \u001b[1;32mIn [25]\u001b[0m, in \u001b[0;36m<cell line: 1>\u001b[1;34m()\u001b[0m\n\u001b[1;32m----> 1\u001b[0m \u001b[43mmy_module\u001b[49m\u001b[38;5;241;43m.\u001b[39;49m\u001b[43mget_course\u001b[49m()\n",
      "\u001b[1;31mAttributeError\u001b[0m: module 'my_module' has no attribute 'get_course'"
     ]
    }
   ],
   "source": [
    "my_module.get_course()"
   ]
  },
  {
   "cell_type": "code",
   "execution_count": 20,
   "id": "2ff419c0",
   "metadata": {},
   "outputs": [
    {
     "ename": "AttributeError",
     "evalue": "module 'my_module' has no attribute 'greetings'",
     "output_type": "error",
     "traceback": [
      "\u001b[1;31m---------------------------------------------------------------------------\u001b[0m",
      "\u001b[1;31mAttributeError\u001b[0m                            Traceback (most recent call last)",
      "Input \u001b[1;32mIn [20]\u001b[0m, in \u001b[0;36m<cell line: 1>\u001b[1;34m()\u001b[0m\n\u001b[1;32m----> 1\u001b[0m \u001b[43mmy_module\u001b[49m\u001b[38;5;241;43m.\u001b[39;49m\u001b[43mgreetings\u001b[49m()\n",
      "\u001b[1;31mAttributeError\u001b[0m: module 'my_module' has no attribute 'greetings'"
     ]
    }
   ],
   "source": [
    "my_module.greetings()"
   ]
  },
  {
   "cell_type": "code",
   "execution_count": null,
   "id": "e729566b",
   "metadata": {},
   "outputs": [],
   "source": []
  },
  {
   "cell_type": "code",
   "execution_count": null,
   "id": "fe7a0319",
   "metadata": {},
   "outputs": [],
   "source": []
  },
  {
   "cell_type": "code",
   "execution_count": null,
   "id": "5623cf06",
   "metadata": {},
   "outputs": [],
   "source": []
  }
 ],
 "metadata": {
  "kernelspec": {
   "display_name": "Python 3 (ipykernel)",
   "language": "python",
   "name": "python3"
  },
  "language_info": {
   "codemirror_mode": {
    "name": "ipython",
    "version": 3
   },
   "file_extension": ".py",
   "mimetype": "text/x-python",
   "name": "python",
   "nbconvert_exporter": "python",
   "pygments_lexer": "ipython3",
   "version": "3.9.12"
  }
 },
 "nbformat": 4,
 "nbformat_minor": 5
}
