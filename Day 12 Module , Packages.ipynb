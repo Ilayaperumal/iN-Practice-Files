{
 "cells": [
  {
   "cell_type": "code",
   "execution_count": 1,
   "id": "26cfc9b8",
   "metadata": {},
   "outputs": [],
   "source": [
    "import os"
   ]
  },
  {
   "cell_type": "code",
   "execution_count": 2,
   "id": "a0ae7502",
   "metadata": {},
   "outputs": [],
   "source": [
    "def test(a,b):\n",
    "    return a+b"
   ]
  },
  {
   "cell_type": "code",
   "execution_count": 3,
   "id": "15cb1b14",
   "metadata": {},
   "outputs": [
    {
     "data": {
      "text/plain": [
       "'C:\\\\Users\\\\ilaya'"
      ]
     },
     "execution_count": 3,
     "metadata": {},
     "output_type": "execute_result"
    }
   ],
   "source": [
    "pwd()"
   ]
  },
  {
   "cell_type": "code",
   "execution_count": 4,
   "id": "5058ae63",
   "metadata": {},
   "outputs": [
    {
     "name": "stdout",
     "output_type": "stream",
     "text": [
      " Volume in drive C is Windows-SSD\n",
      " Volume Serial Number is 5840-D1B1\n",
      "\n",
      " Directory of C:\\Users\\ilaya\n",
      "\n",
      "02-11-2022  20:50    <DIR>          .\n",
      "30-09-2022  21:41    <DIR>          ..\n",
      "02-11-2022  19:08    <DIR>          .ipynb_checkpoints\n",
      "30-10-2022  01:27    <DIR>          .ipython\n",
      "01-11-2022  16:55    <DIR>          .jupyter\n",
      "01-10-2022  11:52    <DIR>          .ms-ad\n",
      "02-11-2022  20:48    <DIR>          __pycache__\n",
      "30-10-2022  01:20    <DIR>          anaconda3\n",
      "30-09-2022  21:09    <DIR>          Contacts\n",
      "01-11-2022  12:39         1,147,264 Crash Course v0.51.ipynb\n",
      "30-09-2022  21:11    <DIR>          Documents\n",
      "02-11-2022  13:13    <DIR>          Downloads\n",
      "30-09-2022  21:09    <DIR>          Favorites\n",
      "30-09-2022  21:09    <DIR>          Links\n",
      "02-11-2022  20:43            13,475 Module , Packages 2.ipynb\n",
      "02-11-2022  20:50             2,597 Module , Packages.ipynb\n",
      "30-09-2022  21:09    <DIR>          Music\n",
      "02-11-2022  20:38                 0 my_module.py\n",
      "02-10-2022  11:11    <DIR>          OneDrive\n",
      "01-11-2022  17:10             5,694 Practice - letuscrack .ipynb\n",
      "30-10-2022  01:27             7,020 Pyramid Patterns.ipynb\n",
      "30-09-2022  21:09    <DIR>          Saved Games\n",
      "30-09-2022  21:41    <DIR>          Searches\n",
      "02-11-2022  18:39                 0 test1.py\n",
      "02-11-2022  20:48                 0 test2.py\n",
      "30-10-2022  15:09               589 Untitled.ipynb\n",
      "30-10-2022  00:41    <DIR>          Videos\n",
      "               9 File(s)      1,176,639 bytes\n",
      "              18 Dir(s)  64,268,734,464 bytes free\n"
     ]
    }
   ],
   "source": [
    "ls"
   ]
  },
  {
   "cell_type": "code",
   "execution_count": 5,
   "id": "c1dc719c",
   "metadata": {},
   "outputs": [
    {
     "data": {
      "text/plain": [
       "<_io.TextIOWrapper name='test2.py' mode='w' encoding='cp1252'>"
      ]
     },
     "execution_count": 5,
     "metadata": {},
     "output_type": "execute_result"
    }
   ],
   "source": [
    "# use Notebook ++ or use the following procedure\n",
    "open(\"test2.py\", \"w\")"
   ]
  },
  {
   "cell_type": "code",
   "execution_count": 6,
   "id": "d3f85d04",
   "metadata": {},
   "outputs": [
    {
     "name": "stdout",
     "output_type": "stream",
     "text": [
      " Volume in drive C is Windows-SSD\n",
      " Volume Serial Number is 5840-D1B1\n",
      "\n",
      " Directory of C:\\Users\\ilaya\n",
      "\n",
      "02-11-2022  20:50    <DIR>          .\n",
      "30-09-2022  21:41    <DIR>          ..\n",
      "02-11-2022  19:08    <DIR>          .ipynb_checkpoints\n",
      "30-10-2022  01:27    <DIR>          .ipython\n",
      "01-11-2022  16:55    <DIR>          .jupyter\n",
      "01-10-2022  11:52    <DIR>          .ms-ad\n",
      "02-11-2022  20:48    <DIR>          __pycache__\n",
      "30-10-2022  01:20    <DIR>          anaconda3\n",
      "30-09-2022  21:09    <DIR>          Contacts\n",
      "01-11-2022  12:39         1,147,264 Crash Course v0.51.ipynb\n",
      "30-09-2022  21:11    <DIR>          Documents\n",
      "02-11-2022  13:13    <DIR>          Downloads\n",
      "30-09-2022  21:09    <DIR>          Favorites\n",
      "30-09-2022  21:09    <DIR>          Links\n",
      "02-11-2022  20:50             3,897 Module , Packages 2.ipynb\n",
      "02-11-2022  20:50             2,597 Module , Packages.ipynb\n",
      "30-09-2022  21:09    <DIR>          Music\n",
      "02-11-2022  20:38                 0 my_module.py\n",
      "02-10-2022  11:11    <DIR>          OneDrive\n",
      "01-11-2022  17:10             5,694 Practice - letuscrack .ipynb\n",
      "30-10-2022  01:27             7,020 Pyramid Patterns.ipynb\n",
      "30-09-2022  21:09    <DIR>          Saved Games\n",
      "30-09-2022  21:41    <DIR>          Searches\n",
      "02-11-2022  18:39                 0 test1.py\n",
      "02-11-2022  20:50                 0 test2.py\n",
      "30-10-2022  15:09               589 Untitled.ipynb\n",
      "30-10-2022  00:41    <DIR>          Videos\n",
      "               9 File(s)      1,167,061 bytes\n",
      "              18 Dir(s)  64,268,759,040 bytes free\n"
     ]
    }
   ],
   "source": [
    "ls"
   ]
  },
  {
   "cell_type": "code",
   "execution_count": 7,
   "id": "2825c874",
   "metadata": {},
   "outputs": [],
   "source": [
    "import test2"
   ]
  },
  {
   "cell_type": "code",
   "execution_count": 8,
   "id": "18f67a87",
   "metadata": {},
   "outputs": [
    {
     "data": {
      "text/plain": [
       "9"
      ]
     },
     "execution_count": 8,
     "metadata": {},
     "output_type": "execute_result"
    }
   ],
   "source": [
    "test2.test(4,5)"
   ]
  },
  {
   "cell_type": "code",
   "execution_count": 12,
   "id": "05a7b0f6",
   "metadata": {},
   "outputs": [],
   "source": [
    "import my_module"
   ]
  },
  {
   "cell_type": "code",
   "execution_count": 13,
   "id": "e81edeff",
   "metadata": {},
   "outputs": [
    {
     "data": {
      "text/plain": [
       "'greeting from ineuron'"
      ]
     },
     "execution_count": 13,
     "metadata": {},
     "output_type": "execute_result"
    }
   ],
   "source": [
    "my_module.greetings()"
   ]
  },
  {
   "cell_type": "code",
   "execution_count": 14,
   "id": "c95a1543",
   "metadata": {},
   "outputs": [
    {
     "data": {
      "text/plain": [
       "['data science', 'block chain', 'big data']"
      ]
     },
     "execution_count": 14,
     "metadata": {},
     "output_type": "execute_result"
    }
   ],
   "source": [
    "my_module.get_course()"
   ]
  },
  {
   "cell_type": "code",
   "execution_count": 15,
   "id": "389b2717",
   "metadata": {},
   "outputs": [
    {
     "data": {
      "text/plain": [
       "'greeting from ineuron'"
      ]
     },
     "execution_count": 15,
     "metadata": {},
     "output_type": "execute_result"
    }
   ],
   "source": [
    "my_module.greetings()"
   ]
  },
  {
   "cell_type": "code",
   "execution_count": null,
   "id": "d3ad7063",
   "metadata": {},
   "outputs": [],
   "source": []
  }
 ],
 "metadata": {
  "kernelspec": {
   "display_name": "Python 3 (ipykernel)",
   "language": "python",
   "name": "python3"
  },
  "language_info": {
   "codemirror_mode": {
    "name": "ipython",
    "version": 3
   },
   "file_extension": ".py",
   "mimetype": "text/x-python",
   "name": "python",
   "nbconvert_exporter": "python",
   "pygments_lexer": "ipython3",
   "version": "3.9.12"
  }
 },
 "nbformat": 4,
 "nbformat_minor": 5
}
